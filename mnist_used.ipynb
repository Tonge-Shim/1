{
  "nbformat": 4,
  "nbformat_minor": 0,
  "metadata": {
    "colab": {
      "name": "mnist_used.ipynb",
      "provenance": [],
      "history_visible": true,
      "authorship_tag": "ABX9TyPj5X6s5XeXP7l6jDZMY88n",
      "include_colab_link": true
    },
    "kernelspec": {
      "name": "python3",
      "display_name": "Python 3"
    }
  },
  "cells": [
    {
      "cell_type": "markdown",
      "metadata": {
        "id": "view-in-github",
        "colab_type": "text"
      },
      "source": [
        "<a href=\"https://colab.research.google.com/github/Tonge-Shim/1/blob/master/mnist_used.ipynb\" target=\"_parent\"><img src=\"https://colab.research.google.com/assets/colab-badge.svg\" alt=\"Open In Colab\"/></a>"
      ]
    },
    {
      "cell_type": "code",
      "metadata": {
        "id": "6JSkzNyPcktO",
        "outputId": "b01428b7-c6b9-4221-8c18-59155e5cf3c0",
        "colab": {
          "base_uri": "https://localhost:8080/"
        }
      },
      "source": [
        "import pandas as pd\n",
        "import numpy as np\n",
        "import matplotlib.pyplot as plt\n",
        "import warnings\n",
        "from collections import Counter\n",
        "from sklearn.datasets import make_classification\n",
        "from sklearn.model_selection import train_test_split\n",
        "from sklearn.metrics import accuracy_score\n",
        "from pandas import DataFrame\n",
        "warnings.filterwarnings(action='ignore')\n",
        "sns.set()\n",
        "%matplotlib inline"
      ],
      "execution_count": 1,
      "outputs": [
        {
          "output_type": "stream",
          "text": [
            "/usr/local/lib/python3.6/dist-packages/sklearn/externals/six.py:31: FutureWarning: The module is deprecated in version 0.21 and will be removed in version 0.23 since we've dropped support for Python 2.7. Please rely on the official version of six (https://pypi.org/project/six/).\n",
            "  \"(https://pypi.org/project/six/).\", FutureWarning)\n",
            "/usr/local/lib/python3.6/dist-packages/sklearn/utils/deprecation.py:144: FutureWarning: The sklearn.neighbors.base module is  deprecated in version 0.22 and will be removed in version 0.24. The corresponding classes / functions should instead be imported from sklearn.neighbors. Anything that cannot be imported from sklearn.neighbors is now part of the private API.\n",
            "  warnings.warn(message, FutureWarning)\n"
          ],
          "name": "stderr"
        }
      ]
    },
    {
      "cell_type": "code",
      "metadata": {
        "id": "EPPqIxcRdHpX"
      },
      "source": [
        "df= pd.read_csv('samp_cst_feat.csv')\n",
        "dtype = pd.read_excel('variable_dtype.xlsx')\n",
        "dtype_categ = dtype[(dtype['dType']=='categorical')]\n",
        "dtype_numrc = dtype[(dtype['dType']=='numerical')]\n",
        "numrc_var = dtype_numrc['Variable_Name']\n",
        "categ_var = dtype_categ['Variable_Name']\n",
        "numrc_var = numrc_var.values.tolist()\n",
        "categ_var = categ_var.values.tolist()#0,1\n",
        "x=df.drop(categ_var, axis=1).drop(['cst_id_di'],axis=1)#10124개\n",
        "y=pd.read_csv('samp_train.csv').drop(['cst_id_di'],axis=1)#10124\n",
        "y_nozero= y[(y['MRC_ID_DI']!=0)]#not 0!!!1924\n",
        "#y_nozeroindex=y_nozero.loc[1:10119]\n",
        "y_nozeroindexlist=y_nozero.index.tolist()\n",
        "x_nozero=x.loc[y_nozeroindexlist]"
      ],
      "execution_count": 2,
      "outputs": []
    },
    {
      "cell_type": "code",
      "metadata": {
        "id": "kSrl5OzJh9zD",
        "outputId": "14d3d72a-f699-4066-ad37-e113af9e36d7",
        "colab": {
          "base_uri": "https://localhost:8080/"
        }
      },
      "source": [
        "print(x_nozero.shape)\n",
        "print(y_nozero.shape)\n",
        "print(x.shape)\n",
        "print(y.shape)\n",
        "y_nozeroarray=y_nozero.to_numpy()#1924\n",
        "y_array=y.to_numpy()#10124\n",
        "x_nozeroarray=x_nozero.to_numpy()#1924\n",
        "x_array=x.to_numpy()#10124"
      ],
      "execution_count": 3,
      "outputs": [
        {
          "output_type": "stream",
          "text": [
            "(1924, 198)\n",
            "(1924, 1)\n",
            "(10124, 198)\n",
            "(10124, 1)\n"
          ],
          "name": "stdout"
        }
      ]
    },
    {
      "cell_type": "code",
      "metadata": {
        "id": "bzEmvjKZiETi",
        "outputId": "0d355ead-4209-49f6-c74d-0d5b5f6e7501",
        "colab": {
          "base_uri": "https://localhost:8080/"
        }
      },
      "source": [
        "some_digit=x_nozeroarray[9]\n",
        "print(y_nozeroarray[9])"
      ],
      "execution_count": 8,
      "outputs": [
        {
          "output_type": "stream",
          "text": [
            "[6]\n"
          ],
          "name": "stdout"
        }
      ]
    },
    {
      "cell_type": "markdown",
      "metadata": {
        "id": "UaA1itVmoSZm"
      },
      "source": [
        "#1924, 0이 없는 데이터셋"
      ]
    },
    {
      "cell_type": "code",
      "metadata": {
        "id": "tPv0Fm-IoR6I"
      },
      "source": [
        "x_train, x_test, y_train, y_test=x_nozeroarray[:1400], x_nozeroarray[1400:], y_nozeroarray[:1400], y_nozeroarray[1400:]"
      ],
      "execution_count": 4,
      "outputs": []
    },
    {
      "cell_type": "code",
      "metadata": {
        "id": "3U0Yxf5Lo4B6"
      },
      "source": [
        "shuffle_index=np.random.permutation(1400)\n",
        "x_train, y_train=x_train[shuffle_index], y_train[shuffle_index]"
      ],
      "execution_count": 5,
      "outputs": []
    },
    {
      "cell_type": "code",
      "metadata": {
        "id": "XUEH63aXpcsf"
      },
      "source": [
        "from sklearn.linear_model import SGDClassifier\n",
        "sgd_clf=SGDClassifier(max_iter=5, random_state=42)"
      ],
      "execution_count": 6,
      "outputs": []
    },
    {
      "cell_type": "code",
      "metadata": {
        "id": "OEcHE2Lrpzrg",
        "outputId": "9f9a3067-3152-40d7-e1e7-6ecedc160690",
        "colab": {
          "base_uri": "https://localhost:8080/"
        }
      },
      "source": [
        "sgd_clf.fit(x_train, y_train)\n",
        "sgd_clf.predict([some_digit])"
      ],
      "execution_count": 9,
      "outputs": [
        {
          "output_type": "execute_result",
          "data": {
            "text/plain": [
              "array([7])"
            ]
          },
          "metadata": {
            "tags": []
          },
          "execution_count": 9
        }
      ]
    },
    {
      "cell_type": "code",
      "metadata": {
        "id": "V-fhV0_1qr4f",
        "outputId": "e9354e8d-6f62-4a87-ba77-47fc7bbd87e0",
        "colab": {
          "base_uri": "https://localhost:8080/"
        }
      },
      "source": [
        "some_digit_scores=sgd_clf.decision_function([some_digit])\n",
        "some_digit_scores#가장 높은 점수의 클래스를 반환"
      ],
      "execution_count": 10,
      "outputs": [
        {
          "output_type": "execute_result",
          "data": {
            "text/plain": [
              "array([[-20.61605481, -17.90549848, -16.36019876, -18.20144219,\n",
              "        -23.56893517, -14.41366625,  -5.98308051, -20.70512139,\n",
              "        -26.73962927, -39.86461725]])"
            ]
          },
          "metadata": {
            "tags": []
          },
          "execution_count": 10
        }
      ]
    },
    {
      "cell_type": "markdown",
      "metadata": {
        "id": "vf5hSIuWrGM9"
      },
      "source": [
        "sgd classifier기반 ovo전략을 사용하는 다중 분류기\n",
        "(one vs one classifier)"
      ]
    },
    {
      "cell_type": "code",
      "metadata": {
        "id": "vmblPAjuq8N9",
        "outputId": "c33aca28-82f7-4679-9fe5-280a6aa85d61",
        "colab": {
          "base_uri": "https://localhost:8080/"
        }
      },
      "source": [
        "from sklearn.multiclass import OneVsOneClassifier\n",
        "ovo_clf=OneVsOneClassifier(SGDClassifier(max_iter=5, random_state=42))\n",
        "ovo_clf.fit(x_train, y_train)\n",
        "ovo_clf.predict([some_digit])"
      ],
      "execution_count": 11,
      "outputs": [
        {
          "output_type": "execute_result",
          "data": {
            "text/plain": [
              "array([7])"
            ]
          },
          "metadata": {
            "tags": []
          },
          "execution_count": 11
        }
      ]
    },
    {
      "cell_type": "markdown",
      "metadata": {
        "id": "gli8R5W_rs98"
      },
      "source": [
        "랜덤 포레스트 분류기"
      ]
    },
    {
      "cell_type": "code",
      "metadata": {
        "id": "x7hFEcVwrsn5",
        "outputId": "aa91396a-cfd5-4364-9a7d-470192c5d86a",
        "colab": {
          "base_uri": "https://localhost:8080/"
        }
      },
      "source": [
        "from sklearn.ensemble import RandomForestClassifier\n",
        "forest_clf=RandomForestClassifier(random_state=42)\n",
        "forest_clf.fit(x_train, y_train)\n",
        "forest_clf.predict([some_digit])"
      ],
      "execution_count": 12,
      "outputs": [
        {
          "output_type": "execute_result",
          "data": {
            "text/plain": [
              "array([6])"
            ]
          },
          "metadata": {
            "tags": []
          },
          "execution_count": 12
        }
      ]
    },
    {
      "cell_type": "code",
      "metadata": {
        "id": "cIrfBFDdtZUa",
        "outputId": "3c3afadf-e863-44f7-89c7-d80840d3ceb0",
        "colab": {
          "base_uri": "https://localhost:8080/"
        }
      },
      "source": [
        "forest_clf.predict_proba([some_digit])#6으로 분류 될 확률이 0.73, 73%"
      ],
      "execution_count": 13,
      "outputs": [
        {
          "output_type": "execute_result",
          "data": {
            "text/plain": [
              "array([[0.02, 0.  , 0.  , 0.  , 0.01, 0.72, 0.15, 0.09, 0.01, 0.  ]])"
            ]
          },
          "metadata": {
            "tags": []
          },
          "execution_count": 13
        }
      ]
    },
    {
      "cell_type": "markdown",
      "metadata": {
        "id": "l9ypRUqQtgap"
      },
      "source": [
        ""
      ]
    },
    {
      "cell_type": "markdown",
      "metadata": {
        "id": "VueLoONpsyLd"
      },
      "source": [
        "sgdclassifier의 정확도 평가"
      ]
    },
    {
      "cell_type": "code",
      "metadata": {
        "id": "Tp6ypwunsxyQ",
        "outputId": "3df9b337-99e6-4594-80bb-fadaadb270c9",
        "colab": {
          "base_uri": "https://localhost:8080/"
        }
      },
      "source": [
        "from sklearn.model_selection import cross_val_score\n",
        "cross_val_score(sgd_clf, x_train, y_train, cv=3, scoring=\"accuracy\")"
      ],
      "execution_count": 14,
      "outputs": [
        {
          "output_type": "execute_result",
          "data": {
            "text/plain": [
              "array([0.25481799, 0.40899358, 0.38841202])"
            ]
          },
          "metadata": {
            "tags": []
          },
          "execution_count": 14
        }
      ]
    },
    {
      "cell_type": "code",
      "metadata": {
        "id": "TzFqSeZks0w6",
        "outputId": "887cd098-c37f-4fa5-bec7-c6890799f519",
        "colab": {
          "base_uri": "https://localhost:8080/"
        }
      },
      "source": [
        "cross_val_score(forest_clf, x_train, y_train, cv=3, scoring=\"accuracy\")"
      ],
      "execution_count": 15,
      "outputs": [
        {
          "output_type": "execute_result",
          "data": {
            "text/plain": [
              "array([0.43040685, 0.40685225, 0.43991416])"
            ]
          },
          "metadata": {
            "tags": []
          },
          "execution_count": 15
        }
      ]
    },
    {
      "cell_type": "code",
      "metadata": {
        "id": "aU0_aXyXt0Mf",
        "outputId": "6d274688-6a7c-4957-9e91-05a0e551521d",
        "colab": {
          "base_uri": "https://localhost:8080/"
        }
      },
      "source": [
        "cross_val_score(ovo_clf, x_train, y_train, cv=3, scoring=\"accuracy\")"
      ],
      "execution_count": 16,
      "outputs": [
        {
          "output_type": "execute_result",
          "data": {
            "text/plain": [
              "array([0.33832976, 0.41755889, 0.36051502])"
            ]
          },
          "metadata": {
            "tags": []
          },
          "execution_count": 16
        }
      ]
    },
    {
      "cell_type": "markdown",
      "metadata": {
        "id": "2XwLBPhVt4kX"
      },
      "source": [
        "결론;;;랜덤 포레스트의 정확도가 가장 높은 상태...\n",
        "성능을 더 높일 여지: 간단하게 입력의 스케일을 조정하면 정확도를 높일 수 있다."
      ]
    },
    {
      "cell_type": "code",
      "metadata": {
        "id": "GeDU6nhzuKOc",
        "outputId": "8e7b2e39-2106-44b5-ec11-9ff032412d6f",
        "colab": {
          "base_uri": "https://localhost:8080/"
        }
      },
      "source": [
        "from sklearn.preprocessing import StandardScaler\n",
        "scaler=StandardScaler()\n",
        "x_train_scaled=scaler.fit_transform(x_train.astype(np.float64))\n",
        "print(cross_val_score(sgd_clf,x_train_scaled, y_train, cv=3, scoring=\"accuracy\"))\n",
        "print(cross_val_score(forest_clf,x_train_scaled, y_train, cv=3, scoring=\"accuracy\"))\n",
        "print(cross_val_score(ovo_clf,x_train_scaled, y_train, cv=3, scoring=\"accuracy\"))"
      ],
      "execution_count": 17,
      "outputs": [
        {
          "output_type": "stream",
          "text": [
            "[0.35974304 0.40471092 0.33261803]\n",
            "[0.4261242  0.40685225 0.43991416]\n",
            "[0.3490364  0.40685225 0.38412017]\n"
          ],
          "name": "stdout"
        }
      ]
    },
    {
      "cell_type": "markdown",
      "metadata": {
        "id": "WW7sKV-IsDRR"
      },
      "source": [
        "결론적으로 랜덤포레스트를 사용했을 때, 최고 정확도 42퍼센트가 나옴."
      ]
    },
    {
      "cell_type": "markdown",
      "metadata": {
        "id": "qeLWIAepukI-"
      },
      "source": [
        "#에러분석"
      ]
    },
    {
      "cell_type": "code",
      "metadata": {
        "id": "rec0EcIRvHEn",
        "outputId": "626db0bc-093c-4716-b281-af42de08e2a4",
        "colab": {
          "base_uri": "https://localhost:8080/"
        }
      },
      "source": [
        "y_train_pred=cross_val_predict(sgd_clf, x_train_scaled, y_train,cv=3)\n",
        "conf_mx=confusion_matrix(y_train, y_train_pred)\n",
        "conf_mx"
      ],
      "execution_count": 47,
      "outputs": [
        {
          "output_type": "execute_result",
          "data": {
            "text/plain": [
              "array([[  9,   0,   0,   0,   1,  23,  14,  12,   1,   0],\n",
              "       [  0,   0,   0,   0,   0,   3,   6,   0,   1,   2],\n",
              "       [  0,   0,   0,   1,   3,   5,  10,   0,   1,   0],\n",
              "       [  0,   0,   0,   0,   0,   3,   3,   0,   0,   0],\n",
              "       [  3,   0,   1,   1,  24,  24,  43,   5,   1,   6],\n",
              "       [ 24,   0,   3,   3,  15, 138, 120,  76,   9,  10],\n",
              "       [  2,   2,   8,   2,  27, 106, 278,  41,   2,  20],\n",
              "       [ 23,   0,   2,   2,   7,  87,  63,  59,   5,   1],\n",
              "       [  0,   0,   1,   0,   1,  11,  16,   5,   2,   4],\n",
              "       [  0,   0,   0,   0,   0,   3,  10,   1,   3,   2]])"
            ]
          },
          "metadata": {
            "tags": []
          },
          "execution_count": 47
        }
      ]
    },
    {
      "cell_type": "code",
      "metadata": {
        "id": "vOnzYeXFvfbA",
        "outputId": "732087ba-7dd6-4b12-db5b-4e45d9d1e00f",
        "colab": {
          "base_uri": "https://localhost:8080/",
          "height": 280
        }
      },
      "source": [
        "plt.matshow(conf_mx, cmap=plt.cm.gray)\n",
        "plt.show()\n",
        "#올바르게 분류되었을 때는 주 대각선에 있는데...얘는 안 그렇네?"
      ],
      "execution_count": 48,
      "outputs": [
        {
          "output_type": "display_data",
          "data": {
            "image/png": "[encoded data removed]",
            "text/plain": [
              "<Figure size 288x288 with 1 Axes>"
            ]
          },
          "metadata": {
            "tags": [],
            "needs_background": "light"
          }
        }
      ]
    },
    {
      "cell_type": "code",
      "metadata": {
        "id": "rX2hNreuv_8l",
        "outputId": "3f074d37-6d88-44c5-bdda-7560c15673a5",
        "colab": {
          "base_uri": "https://localhost:8080/",
          "height": 484
        }
      },
      "source": [
        "#오차 행렬의 각 값을 대응되는 클래스의 이미지 개수로 나눠 에러 비율을 비교\n",
        "row_sums=conf_mx.sum(axis=1, keepdims=True)\n",
        "norm_conf_mx=conf_mx/row_sums\n",
        "np.fill_diagonal(norm_conf_mx,0)\n",
        "plt.matshow(norm_conf_mx, cmap=plt.cm.gray)\n",
        "plt.show()\n",
        "y_nozero.value_counts()#여기서 그림이랑 valuecounts를 비교하면 6,7에 편향되어 있음을 알 수 있다\n",
        "#.많은 데이터가 6과 7로 잘못 분류되었음을 암시하는것."
      ],
      "execution_count": 53,
      "outputs": [
        {
          "output_type": "display_data",
          "data": {
            "image/png": "[encoded data removed]",
            "text/plain": [
              "<Figure size 288x288 with 1 Axes>"
            ]
          },
          "metadata": {
            "tags": [],
            "needs_background": "light"
          }
        },
        {
          "output_type": "execute_result",
          "data": {
            "text/plain": [
              "MRC_ID_DI\n",
              "7            661\n",
              "6            554\n",
              "8            337\n",
              "5            143\n",
              "1             85\n",
              "9             59\n",
              "3             32\n",
              "10            28\n",
              "2             14\n",
              "4             11\n",
              "dtype: int64"
            ]
          },
          "metadata": {
            "tags": []
          },
          "execution_count": 53
        }
      ]
    },
    {
      "cell_type": "markdown",
      "metadata": {
        "id": "YiomQ8yvIqfz"
      },
      "source": [
        "#10124 all datasets"
      ]
    },
    {
      "cell_type": "code",
      "metadata": {
        "id": "x13NsMjeIqSm"
      },
      "source": [
        "X_train, X_test, Y_train, Y_test=x_array[:8000], x_array[8000:], y_array[:8000], y_array[8000:]"
      ],
      "execution_count": 18,
      "outputs": []
    },
    {
      "cell_type": "code",
      "metadata": {
        "id": "v5xg4s6wJgY_",
        "outputId": "ae95c1db-a5bd-4729-ca09-70673c7f4699",
        "colab": {
          "base_uri": "https://localhost:8080/"
        }
      },
      "source": [
        "shuffle_index=np.random.permutation(8000)\n",
        "X_train, Y_train=X_train[shuffle_index], Y_train[shuffle_index]\n",
        "some_digit=x_array[0]\n",
        "print(y_array[0])"
      ],
      "execution_count": 34,
      "outputs": [
        {
          "output_type": "stream",
          "text": [
            "[0]\n"
          ],
          "name": "stdout"
        }
      ]
    },
    {
      "cell_type": "code",
      "metadata": {
        "id": "6N_VhfK5Kk_p",
        "outputId": "123baee7-3a92-40f8-d834-1194e14c84b1",
        "colab": {
          "base_uri": "https://localhost:8080/"
        }
      },
      "source": [
        "sgd_clf.fit(X_train, Y_train)\n",
        "sgd_clf.predict([some_digit])"
      ],
      "execution_count": 23,
      "outputs": [
        {
          "output_type": "execute_result",
          "data": {
            "text/plain": [
              "array([0])"
            ]
          },
          "metadata": {
            "tags": []
          },
          "execution_count": 23
        }
      ]
    },
    {
      "cell_type": "code",
      "metadata": {
        "id": "RT-GRR2wKsh7",
        "outputId": "dc22bc84-f58d-4b95-dd8a-b34d53031ff0",
        "colab": {
          "base_uri": "https://localhost:8080/"
        }
      },
      "source": [
        "ovo_clf.fit(X_train, Y_train)\n",
        "ovo_clf.predict([some_digit])\n",
        "#정답이 안나옴"
      ],
      "execution_count": 21,
      "outputs": [
        {
          "output_type": "execute_result",
          "data": {
            "text/plain": [
              "array([7])"
            ]
          },
          "metadata": {
            "tags": []
          },
          "execution_count": 21
        }
      ]
    },
    {
      "cell_type": "code",
      "metadata": {
        "id": "C1D0mT0eKxqp",
        "outputId": "c21fc566-0057-4dc3-affc-9ff2c6f22c0c",
        "colab": {
          "base_uri": "https://localhost:8080/"
        }
      },
      "source": [
        "forest_clf.fit(X_train, Y_train)\n",
        "forest_clf.predict([some_digit])"
      ],
      "execution_count": 22,
      "outputs": [
        {
          "output_type": "execute_result",
          "data": {
            "text/plain": [
              "array([0])"
            ]
          },
          "metadata": {
            "tags": []
          },
          "execution_count": 22
        }
      ]
    },
    {
      "cell_type": "code",
      "metadata": {
        "id": "y2ECRV2XLA_M",
        "outputId": "8402f94c-59cf-469f-b61d-4a6063581fe7",
        "colab": {
          "base_uri": "https://localhost:8080/"
        }
      },
      "source": [
        "forest_clf.predict_proba([some_digit])"
      ],
      "execution_count": 24,
      "outputs": [
        {
          "output_type": "execute_result",
          "data": {
            "text/plain": [
              "array([[0.54, 0.01, 0.03, 0.03, 0.01, 0.07, 0.07, 0.14, 0.08, 0.02, 0.  ]])"
            ]
          },
          "metadata": {
            "tags": []
          },
          "execution_count": 24
        }
      ]
    },
    {
      "cell_type": "code",
      "metadata": {
        "id": "SaD_WMVhLG9u",
        "outputId": "a4b8516c-58d9-46e9-f875-98fbe3e5dd55",
        "colab": {
          "base_uri": "https://localhost:8080/"
        }
      },
      "source": [
        "print(cross_val_score(sgd_clf,X_train, Y_train, cv=3, scoring=\"accuracy\"))\n",
        "print(cross_val_score(forest_clf,X_train, Y_train, cv=3, scoring=\"accuracy\"))\n",
        "print(cross_val_score(ovo_clf,X_train, Y_train, cv=3, scoring=\"accuracy\"))\n",
        "#이 결과는...0이 많은 결과인 듯하다. 그럼 패쓰"
      ],
      "execution_count": 150,
      "outputs": [
        {
          "output_type": "stream",
          "text": [
            "[0.79265092 0.77690289 0.74568642]\n",
            "[0.80727409 0.80914886 0.8072018 ]\n",
            "[0.70228721 0.80164979 0.79107277]\n"
          ],
          "name": "stdout"
        }
      ]
    },
    {
      "cell_type": "code",
      "metadata": {
        "id": "ryhl5v3GujYE"
      },
      "source": [
        ""
      ],
      "execution_count": null,
      "outputs": []
    },
    {
      "cell_type": "markdown",
      "metadata": {
        "id": "yP8phI_AjaXA"
      },
      "source": [
        "#0과 0이 아닌 이진 분류"
      ]
    },
    {
      "cell_type": "code",
      "metadata": {
        "id": "sWOCpjnJit-i",
        "outputId": "d28af3b7-80c7-4bf5-a91f-1f68f77185aa",
        "colab": {
          "base_uri": "https://localhost:8080/"
        }
      },
      "source": [
        "Y_train_0=(Y_train==0)#0은 true, 0이 아니면 false\n",
        "Y_test_0=(Y_test==0)\n",
        "sgd_clf.fit(X_train, Y_train_0)"
      ],
      "execution_count": 29,
      "outputs": [
        {
          "output_type": "execute_result",
          "data": {
            "text/plain": [
              "SGDClassifier(alpha=0.0001, average=False, class_weight=None,\n",
              "              early_stopping=False, epsilon=0.1, eta0=0.0, fit_intercept=True,\n",
              "              l1_ratio=0.15, learning_rate='optimal', loss='hinge', max_iter=5,\n",
              "              n_iter_no_change=5, n_jobs=None, penalty='l2', power_t=0.5,\n",
              "              random_state=42, shuffle=True, tol=0.001, validation_fraction=0.1,\n",
              "              verbose=0, warm_start=False)"
            ]
          },
          "metadata": {
            "tags": []
          },
          "execution_count": 29
        }
      ]
    },
    {
      "cell_type": "code",
      "metadata": {
        "id": "M_30yGgEkFUO",
        "outputId": "a85683cc-d97b-4ef5-db20-07f3d50b7766",
        "colab": {
          "base_uri": "https://localhost:8080/"
        }
      },
      "source": [
        "sgd_clf.predict([some_digit])"
      ],
      "execution_count": 35,
      "outputs": [
        {
          "output_type": "execute_result",
          "data": {
            "text/plain": [
              "array([ True])"
            ]
          },
          "metadata": {
            "tags": []
          },
          "execution_count": 35
        }
      ]
    },
    {
      "cell_type": "markdown",
      "metadata": {
        "id": "NByoI6ztkh0Z"
      },
      "source": [
        "성능측정"
      ]
    },
    {
      "cell_type": "code",
      "metadata": {
        "id": "HiSY2nnNkjpY",
        "outputId": "3e436f8c-2000-4943-a9b4-54fe24be56e1",
        "colab": {
          "base_uri": "https://localhost:8080/"
        }
      },
      "source": [
        "cross_val_score(sgd_clf, X_train, Y_train_0, cv=3, scoring=\"accuracy\")\n",
        "#별로 선호하지 않는 성능 측정 지표; 특히, 불균형한 데이터셋을 다룰 때."
      ],
      "execution_count": 37,
      "outputs": [
        {
          "output_type": "execute_result",
          "data": {
            "text/plain": [
              "array([0.77877765, 0.59767529, 0.7228057 ])"
            ]
          },
          "metadata": {
            "tags": []
          },
          "execution_count": 37
        }
      ]
    },
    {
      "cell_type": "code",
      "metadata": {
        "id": "YbUKyRsQlbbl",
        "outputId": "7de9567f-1e75-434b-edcd-6c9528369e94",
        "colab": {
          "base_uri": "https://localhost:8080/"
        }
      },
      "source": [
        "from sklearn.model_selection import cross_val_predict\n",
        "Y_train_pred=cross_val_predict(sgd_clf, X_train, Y_train_0, cv=3)\n",
        "from sklearn.metrics import confusion_matrix\n",
        "confusion_matrix(Y_train_0, Y_train_pred)\n",
        "from sklearn.metrics import precision_score, recall_score\n",
        "print(precision_score(Y_train_0, Y_train_pred))\n",
        "print(recall_score(Y_train_0, Y_train_pred))"
      ],
      "execution_count": 41,
      "outputs": [
        {
          "output_type": "stream",
          "text": [
            "0.9478798586572438\n",
            "0.6646020439764633\n"
          ],
          "name": "stdout"
        }
      ]
    },
    {
      "cell_type": "markdown",
      "metadata": {
        "id": "AOFZN3sZqZXY"
      },
      "source": [
        "0으로 판별된 이미지 중 94%가 정확하고, 전체 숫자 0에서 66%를 감지. 이 정도면 괜찮짛ㅎ\n",
        "충분히 높고 괜찮은 분류기이기 때문에 임곗값이고 뭐고 바꿀 필요가 없음"
      ]
    },
    {
      "cell_type": "code",
      "metadata": {
        "id": "fByVoXoDqOJf",
        "outputId": "4dbc55ea-6e80-4599-b037-511dcdd2e020",
        "colab": {
          "base_uri": "https://localhost:8080/"
        }
      },
      "source": [
        "from sklearn.metrics import f1_score\n",
        "f1_score(Y_train_0, Y_train_pred)#f1점수는 정밀도와 재현율의 조화평균"
      ],
      "execution_count": 42,
      "outputs": [
        {
          "output_type": "execute_result",
          "data": {
            "text/plain": [
              "0.78135809211724"
            ]
          },
          "metadata": {
            "tags": []
          },
          "execution_count": 42
        }
      ]
    },
    {
      "cell_type": "code",
      "metadata": {
        "id": "0HnkfrSKsssP"
      },
      "source": [
        ""
      ],
      "execution_count": null,
      "outputs": []
    }
  ]
}