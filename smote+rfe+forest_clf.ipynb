{
  "nbformat": 4,
  "nbformat_minor": 0,
  "metadata": {
    "colab": {
      "name": "smote+rfe+forest_clf.ipynb",
      "provenance": [],
      "history_visible": true,
      "authorship_tag": "ABX9TyNZZBrZc2Zx9RKjzdMm/DbX",
      "include_colab_link": true
    },
    "kernelspec": {
      "name": "python3",
      "display_name": "Python 3"
    }
  },
  "cells": [
    {
      "cell_type": "markdown",
      "metadata": {
        "id": "view-in-github",
        "colab_type": "text"
      },
      "source": [
        "<a href=\"https://colab.research.google.com/github/Tonge-Shim/1/blob/master/smote%2Brfe%2Bforest_clf.ipynb\" target=\"_parent\"><img src=\"https://colab.research.google.com/assets/colab-badge.svg\" alt=\"Open In Colab\"/></a>"
      ]
    },
    {
      "cell_type": "code",
      "metadata": {
        "id": "EwuBBr4T5PQR"
      },
      "source": [
        "import pandas as pd\n",
        "import numpy as np\n",
        "import matplotlib.pyplot as plt\n",
        "import warnings\n",
        "from collections import Counter\n",
        "from sklearn.datasets import make_classification\n",
        "from sklearn.model_selection import train_test_split\n",
        "from sklearn.metrics import accuracy_score\n",
        "from pandas import DataFrame\n",
        "from sklearn.metrics import classification_report\n",
        "from sklearn.linear_model import SGDClassifier\n",
        "sgd_clf=SGDClassifier(max_iter=5, random_state=42)\n",
        "\n",
        "warnings.filterwarnings(action='ignore')\n",
        "%matplotlib inline"
      ],
      "execution_count": 199,
      "outputs": []
    },
    {
      "cell_type": "code",
      "metadata": {
        "id": "i33miJoJ5PNJ"
      },
      "source": [
        "df= pd.read_csv('samp_cst_feat.csv')\n",
        "dtype = pd.read_excel('variable_dtype.xlsx')\n",
        "dtype_categ = dtype[(dtype['dType']=='categorical')]\n",
        "dtype_numrc = dtype[(dtype['dType']=='numerical')]\n",
        "numrc_var = dtype_numrc['Variable_Name']\n",
        "categ_var = dtype_categ['Variable_Name']\n",
        "numrc_var = numrc_var.values.tolist()\n",
        "categ_var = categ_var.values.tolist()#0,1\n",
        "x=df.drop(categ_var, axis=1).drop(['cst_id_di'],axis=1)#10124개\n",
        "y=pd.read_csv('samp_train.csv').drop(['cst_id_di'],axis=1)#10124\n",
        "y_nozero= y[(y['MRC_ID_DI']!=0)]#not 0!!!1924\n",
        "#y_nozeroindex=y_nozero.loc[1:10119]\n",
        "y_nozeroindexlist=y_nozero.index.tolist()\n",
        "x_nozero=x.loc[y_nozeroindexlist]"
      ],
      "execution_count": 200,
      "outputs": []
    },
    {
      "cell_type": "markdown",
      "metadata": {
        "id": "MAVtGtdiaOzw"
      },
      "source": [
        "#rfe-feature selection"
      ]
    },
    {
      "cell_type": "code",
      "metadata": {
        "id": "uYcJ8E6eaOWJ"
      },
      "source": [
        "from sklearn.linear_model import LogisticRegression\n",
        "from sklearn.feature_selection import RFE\n",
        "\n",
        "logreg=LogisticRegression()\n",
        "selector=RFE(logreg)\n",
        "selector=selector.fit(x_nozero,y_nozero)"
      ],
      "execution_count": 201,
      "outputs": []
    },
    {
      "cell_type": "code",
      "metadata": {
        "id": "9Y1YcMMRapH6",
        "outputId": "7086d00f-2245-45b9-b72a-483bf1371977",
        "colab": {
          "base_uri": "https://localhost:8080/",
          "height": 419
        }
      },
      "source": [
        "selected_features=DataFrame({'Feature': list(x_nozero.columns), 'Ranking': selector.ranking_})\n",
        "selected_features.sort_values(by='Ranking').head(100)"
      ],
      "execution_count": 202,
      "outputs": [
        {
          "output_type": "execute_result",
          "data": {
            "text/html": [
              "<div>\n",
              "<style scoped>\n",
              "    .dataframe tbody tr th:only-of-type {\n",
              "        vertical-align: middle;\n",
              "    }\n",
              "\n",
              "    .dataframe tbody tr th {\n",
              "        vertical-align: top;\n",
              "    }\n",
              "\n",
              "    .dataframe thead th {\n",
              "        text-align: right;\n",
              "    }\n",
              "</style>\n",
              "<table border=\"1\" class=\"dataframe\">\n",
              "  <thead>\n",
              "    <tr style=\"text-align: right;\">\n",
              "      <th></th>\n",
              "      <th>Feature</th>\n",
              "      <th>Ranking</th>\n",
              "    </tr>\n",
              "  </thead>\n",
              "  <tbody>\n",
              "    <tr>\n",
              "      <th>197</th>\n",
              "      <td>VAR227</td>\n",
              "      <td>1</td>\n",
              "    </tr>\n",
              "    <tr>\n",
              "      <th>88</th>\n",
              "      <td>VAR105</td>\n",
              "      <td>1</td>\n",
              "    </tr>\n",
              "    <tr>\n",
              "      <th>87</th>\n",
              "      <td>VAR104</td>\n",
              "      <td>1</td>\n",
              "    </tr>\n",
              "    <tr>\n",
              "      <th>86</th>\n",
              "      <td>VAR103</td>\n",
              "      <td>1</td>\n",
              "    </tr>\n",
              "    <tr>\n",
              "      <th>85</th>\n",
              "      <td>VAR102</td>\n",
              "      <td>1</td>\n",
              "    </tr>\n",
              "    <tr>\n",
              "      <th>...</th>\n",
              "      <td>...</td>\n",
              "      <td>...</td>\n",
              "    </tr>\n",
              "    <tr>\n",
              "      <th>177</th>\n",
              "      <td>VAR206</td>\n",
              "      <td>1</td>\n",
              "    </tr>\n",
              "    <tr>\n",
              "      <th>178</th>\n",
              "      <td>VAR207</td>\n",
              "      <td>1</td>\n",
              "    </tr>\n",
              "    <tr>\n",
              "      <th>179</th>\n",
              "      <td>VAR209</td>\n",
              "      <td>1</td>\n",
              "    </tr>\n",
              "    <tr>\n",
              "      <th>40</th>\n",
              "      <td>VAR046</td>\n",
              "      <td>1</td>\n",
              "    </tr>\n",
              "    <tr>\n",
              "      <th>83</th>\n",
              "      <td>VAR100</td>\n",
              "      <td>2</td>\n",
              "    </tr>\n",
              "  </tbody>\n",
              "</table>\n",
              "<p>100 rows × 2 columns</p>\n",
              "</div>"
            ],
            "text/plain": [
              "    Feature  Ranking\n",
              "197  VAR227        1\n",
              "88   VAR105        1\n",
              "87   VAR104        1\n",
              "86   VAR103        1\n",
              "85   VAR102        1\n",
              "..      ...      ...\n",
              "177  VAR206        1\n",
              "178  VAR207        1\n",
              "179  VAR209        1\n",
              "40   VAR046        1\n",
              "83   VAR100        2\n",
              "\n",
              "[100 rows x 2 columns]"
            ]
          },
          "metadata": {
            "tags": []
          },
          "execution_count": 202
        }
      ]
    },
    {
      "cell_type": "code",
      "metadata": {
        "id": "tDUcWU--avoA"
      },
      "source": [
        "newx=selected_features.sort_values(by='Ranking')['Feature']\n",
        "newx=newx.loc[197:40]#ranking1stround\n",
        "newx.tolist()\n",
        "x_nozero=x_nozero[newx]\n"
      ],
      "execution_count": 203,
      "outputs": []
    },
    {
      "cell_type": "markdown",
      "metadata": {
        "id": "ANNbLSImBPKa"
      },
      "source": [
        "#0을 제외한 1924개"
      ]
    },
    {
      "cell_type": "code",
      "metadata": {
        "id": "iHz3_rqB5YAT"
      },
      "source": [
        "x_train, x_test, y_train, y_test=x_nozeroarray[:1400], x_nozeroarray[1400:], y_nozeroarray[:1400], y_nozeroarray[1400:]\n",
        "shuffle_index=np.random.permutation(1400)\n",
        "x_train, y_train=x_train[shuffle_index], y_train[shuffle_index]"
      ],
      "execution_count": 158,
      "outputs": []
    },
    {
      "cell_type": "markdown",
      "metadata": {
        "id": "pCsoUmtFBAkP"
      },
      "source": [
        "#0제외한 1924데이터 분류"
      ]
    },
    {
      "cell_type": "code",
      "metadata": {
        "id": "vPKvA6ZkBHMK"
      },
      "source": [
        "y_1=y[(y['MRC_ID_DI']==1)]\n",
        "y_2=y[(y['MRC_ID_DI']==2)]\n",
        "y_3=y[(y['MRC_ID_DI']==3)]\n",
        "y_4=y[(y['MRC_ID_DI']==4)]\n",
        "y_5=y[(y['MRC_ID_DI']==5)]\n",
        "y_6=y[(y['MRC_ID_DI']==6)]\n",
        "y_7=y[(y['MRC_ID_DI']==7)]\n",
        "y_8=y[(y['MRC_ID_DI']==8)]\n",
        "y_9=y[(y['MRC_ID_DI']==9)]\n",
        "y_10=y[(y['MRC_ID_DI']==10)]\n",
        "\n",
        "x_1=x_nozero.loc[y_1.index.tolist()]\n",
        "x_2=x_nozero.loc[y_2.index.tolist()]\n",
        "x_3=x_nozero.loc[y_3.index.tolist()]\n",
        "x_4=x_nozero.loc[y_4.index.tolist()]\n",
        "x_5=x_nozero.loc[y_5.index.tolist()]\n",
        "x_6=x_nozero.loc[y_6.index.tolist()]\n",
        "x_7=x_nozero.loc[y_7.index.tolist()]\n",
        "x_8=x_nozero.loc[y_8.index.tolist()]\n",
        "x_9=x_nozero.loc[y_9.index.tolist()]\n",
        "x_10=x_nozero.loc[y_10.index.tolist()]"
      ],
      "execution_count": 204,
      "outputs": []
    },
    {
      "cell_type": "markdown",
      "metadata": {
        "id": "x3sQFRn9XcxG"
      },
      "source": [
        "#2,3,4,9,10 약 60%정확도"
      ]
    },
    {
      "cell_type": "code",
      "metadata": {
        "id": "gU_A7vwDXnpj",
        "outputId": "e631cea7-edf2-433e-a01f-57d90029aabe",
        "colab": {
          "base_uri": "https://localhost:8080/"
        }
      },
      "source": [
        "x_210=x_nozero.loc[y_2.index.tolist()+y_3.index.tolist()+y_4.index.tolist()+y_9.index.tolist()+y_10.index.tolist()]\n",
        "y_210=y.loc[x_210.index.tolist()]\n",
        "print(x_210.shape)\n",
        "print(y_210.shape)\n",
        "#x_210=x_210.to_numpy()\n",
        "#y_210=y_210.to_numpy()\n",
        "\n",
        "#smote applied]\n",
        "from imblearn.over_sampling import SMOTE\n",
        "sm = SMOTE(ratio='auto', kind='regular')\n",
        "x_210, y_210 = sm.fit_sample(x_210,y_210)\n",
        "\n",
        "\n",
        "x_210train, x_210test, y_210train, y_210test=x_210[:240], x_210[240:], y_210[:240], y_210[240:]\n",
        "shuffle_index=np.random.permutation(240)\n",
        "x_210train, y_210train=x_210train[shuffle_index], y_210train[shuffle_index]\n",
        "some_digit1=x_210[3]#y_210[3]=2"
      ],
      "execution_count": 212,
      "outputs": [
        {
          "output_type": "stream",
          "text": [
            "(144, 99)\n",
            "(144, 1)\n"
          ],
          "name": "stdout"
        }
      ]
    },
    {
      "cell_type": "code",
      "metadata": {
        "id": "U76i4vUNXnvp",
        "outputId": "48f030d1-7533-49dc-9ec9-6edd3e2acc45",
        "colab": {
          "base_uri": "https://localhost:8080/"
        }
      },
      "source": [
        "#randomforest\n",
        "forest_clf=RandomForestClassifier(random_state=42)\n",
        "forest_clf.fit(x_210train, y_210train)\n",
        "forest_clf.predict([some_digit1])"
      ],
      "execution_count": 213,
      "outputs": [
        {
          "output_type": "execute_result",
          "data": {
            "text/plain": [
              "array([2])"
            ]
          },
          "metadata": {
            "tags": []
          },
          "execution_count": 213
        }
      ]
    },
    {
      "cell_type": "code",
      "metadata": {
        "id": "qYZKCAYbXnkI",
        "outputId": "850c4dcf-bc31-4dd6-b782-033ff52955b3",
        "colab": {
          "base_uri": "https://localhost:8080/"
        }
      },
      "source": [
        "cross_val_score(forest_clf, x_210train, y_210train, cv=3, scoring=\"accuracy\")\n"
      ],
      "execution_count": 214,
      "outputs": [
        {
          "output_type": "execute_result",
          "data": {
            "text/plain": [
              "array([0.7375, 0.7   , 0.7625])"
            ]
          },
          "metadata": {
            "tags": []
          },
          "execution_count": 214
        }
      ]
    },
    {
      "cell_type": "code",
      "metadata": {
        "id": "vehpvm4VX0v6",
        "outputId": "2c95ff71-e640-4f21-fb61-f84813c80a54",
        "colab": {
          "base_uri": "https://localhost:8080/"
        }
      },
      "source": [
        "#sgd_clf\n",
        "sgd_clf.fit(x_210train, y_210train)\n",
        "sgd_clf.predict([some_digit1])\n",
        "cross_val_score(sgd_clf, x_210train, y_210train, cv=3, scoring=\"accuracy\")\n"
      ],
      "execution_count": 215,
      "outputs": [
        {
          "output_type": "execute_result",
          "data": {
            "text/plain": [
              "array([0.5625, 0.5625, 0.675 ])"
            ]
          },
          "metadata": {
            "tags": []
          },
          "execution_count": 215
        }
      ]
    },
    {
      "cell_type": "markdown",
      "metadata": {
        "id": "TT2mJHdBjELx"
      },
      "source": [
        "smote는 어떻게 쓰는 지 잘 모르겟다..."
      ]
    }
  ]
}