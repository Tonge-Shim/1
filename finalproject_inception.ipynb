{
  "nbformat": 4,
  "nbformat_minor": 0,
  "metadata": {
    "kernelspec": {
      "display_name": "Python 3",
      "language": "python",
      "name": "python3"
    },
    "language_info": {
      "codemirror_mode": {
        "name": "ipython",
        "version": 3
      },
      "file_extension": ".py",
      "mimetype": "text/x-python",
      "name": "python",
      "nbconvert_exporter": "python",
      "pygments_lexer": "ipython3",
      "version": "3.6.10"
    },
    "colab": {
      "name": "finalproject_inception.ipynb",
      "provenance": [],
      "collapsed_sections": [],
      "toc_visible": true,
      "include_colab_link": true
    },
    "accelerator": "GPU"
  },
  "cells": [
    {
      "cell_type": "markdown",
      "metadata": {
        "id": "view-in-github",
        "colab_type": "text"
      },
      "source": [
        "<a href=\"https://colab.research.google.com/github/Tonge-Shim/1/blob/master/finalproject_inception.ipynb\" target=\"_parent\"><img src=\"https://colab.research.google.com/assets/colab-badge.svg\" alt=\"Open In Colab\"/></a>"
      ]
    },
    {
      "cell_type": "markdown",
      "metadata": {
        "id": "VU2Dql1UI5sn"
      },
      "source": [
        "## 0. Load datasets\n",
        "The CIFAR-10 dataset will be downloaded automatically if it is not located in the *data* directory. <br>"
      ]
    },
    {
      "cell_type": "code",
      "metadata": {
        "id": "CeLry21NI5so"
      },
      "source": [
        "import torch\n",
        "import torchvision\n",
        "import torchvision.transforms as transforms\n",
        "import matplotlib.pyplot as plt\n",
        "import numpy as np\n",
        "import torch.nn as nn\n",
        "import torch.nn.functional as F\n",
        "import torch.optim as optim"
      ],
      "execution_count": null,
      "outputs": []
    },
    {
      "cell_type": "markdown",
      "metadata": {
        "id": "QHijXt85-o29"
      },
      "source": [
        ""
      ]
    },
    {
      "cell_type": "code",
      "metadata": {
        "id": "F1ZAvf3wI5sr",
        "colab": {
          "base_uri": "https://localhost:8080/"
        },
        "outputId": "a8b22f22-88e3-4494-dbf3-ee478b3ad596"
      },
      "source": [
        "transform = transforms.Compose(\n",
        "    [transforms.Resize((96, 96)),transforms.ToTensor(),\n",
        "     transforms.Normalize(mean=[0.5], std=[0.5])])\n",
        "\n",
        "trainset = torchvision.datasets.CIFAR10(root='./data', train=True,#50000개\n",
        "                                        download=True, transform=transform)\n",
        "trainloader = torch.utils.data.DataLoader(trainset, batch_size=512,\n",
        "                                          shuffle=True)\n",
        "\n",
        "testset = torchvision.datasets.CIFAR10(root='./data', train=False,#10000개\n",
        "                                       download=True, transform=transform)\n",
        "testloader = torch.utils.data.DataLoader(testset, batch_size=512,\n",
        "                                         shuffle=True)\n",
        "\n",
        "classes = ('plane', 'car', 'bird', 'cat',\n",
        "           'deer', 'dog', 'frog', 'horse', 'ship', 'truck')"
      ],
      "execution_count": null,
      "outputs": [
        {
          "output_type": "stream",
          "text": [
            "Files already downloaded and verified\n",
            "Files already downloaded and verified\n"
          ],
          "name": "stdout"
        }
      ]
    },
    {
      "cell_type": "markdown",
      "metadata": {
        "id": "MoAdSqzHZZd8"
      },
      "source": [
        "#Inception module\n",
        "\n",
        "시작 전에, save_weights의 폴더를 만들어 놓고 시작."
      ]
    },
    {
      "cell_type": "code",
      "metadata": {
        "id": "qp6eSDgFZXAo"
      },
      "source": [
        "class ConvBlock(nn.Module):\n",
        "    \n",
        "    def __init__(self, in_channels, out_channels, kernel_size, stride, padding):\n",
        "        super(ConvBlock, self).__init__()\n",
        "        \n",
        "        self.conv = nn.Conv2d(in_channels, out_channels, kernel_size, stride, padding)\n",
        "        self.bn = nn.BatchNorm2d(out_channels)\n",
        "        self.act = nn.ReLU()\n",
        "        \n",
        "    def forward(self, x):\n",
        "        x = self.conv(x)\n",
        "        x = self.bn(x)\n",
        "        x = self.act(x)\n",
        "        return x"
      ],
      "execution_count": null,
      "outputs": []
    },
    {
      "cell_type": "code",
      "metadata": {
        "id": "06DofefyZnYG"
      },
      "source": [
        "class InceptionModule(nn.Module):\n",
        "    \n",
        "    def __init__(self, in_channels, f_1x1, f_3x3_r, f_3x3, f_5x5_r, f_5x5, f_pp):\n",
        "        super(InceptionModule, self).__init__()\n",
        "        \n",
        "        self.branch1 = nn.Sequential(\n",
        "            ConvBlock(in_channels, f_1x1, kernel_size=1, stride=1, padding=0)\n",
        "        )\n",
        "        \n",
        "        self.branch2 = nn.Sequential(\n",
        "            ConvBlock(in_channels, f_3x3_r, kernel_size=1, stride=1, padding=0),\n",
        "            ConvBlock(f_3x3_r, f_3x3, kernel_size=3, stride=1, padding=1)\n",
        "        )\n",
        "        \n",
        "        self.branch3 = nn.Sequential(\n",
        "            ConvBlock(in_channels, f_5x5_r, kernel_size=1, stride=1, padding=0),\n",
        "            ConvBlock(f_5x5_r, f_5x5, kernel_size=5, stride=1, padding=2)\n",
        "        )\n",
        "        \n",
        "        self.branch4 = nn.Sequential(\n",
        "            nn.MaxPool2d(3, stride=1, padding=1, ceil_mode=True),\n",
        "            ConvBlock(in_channels, f_pp, kernel_size=1, stride=1, padding=0)\n",
        "        )\n",
        "        \n",
        "    def forward(self, x):\n",
        "        branch1 = self.branch1(x)\n",
        "        branch2 = self.branch2(x)\n",
        "        branch3 = self.branch3(x)\n",
        "        branch4 = self.branch4(x)\n",
        "        \n",
        "        return torch.cat([branch1, branch2, branch3, branch4], 1)"
      ],
      "execution_count": null,
      "outputs": []
    },
    {
      "cell_type": "code",
      "metadata": {
        "id": "10mZA_52qq56"
      },
      "source": [
        "class InceptionAux(nn.Module):\n",
        "    \n",
        "    def __init__(self, in_channels, num_classes):\n",
        "        super(InceptionAux, self).__init__()\n",
        "        self.pool = nn.AdaptiveAvgPool2d((4,4))\n",
        "        self.conv = nn.Conv2d(in_channels, 128, kernel_size=1, stride=1, padding=0)\n",
        "        self.act = nn.ReLU()\n",
        "        self.fc1 = nn.Linear(2048, 1024)\n",
        "        self.dropout = nn.Dropout(0.7)\n",
        "        self.fc2 = nn.Linear(1024, num_classes)\n",
        "    \n",
        "    def forward(self, x):\n",
        "        x = self.pool(x)\n",
        "        x = self.conv(x)\n",
        "        x = self.act(x)\n",
        "        x = torch.flatten(x, 1)\n",
        "        x = self.fc1(x)\n",
        "        x = self.act(x)\n",
        "        x = self.dropout(x)\n",
        "        x = self.fc2(x)\n",
        "        \n",
        "        return x"
      ],
      "execution_count": null,
      "outputs": []
    },
    {
      "cell_type": "code",
      "metadata": {
        "id": "IuxTU8u2qrmz"
      },
      "source": [
        "class semiGoogLeNet(nn.Module):\n",
        "    \n",
        "    def __init__(self, num_classes = 10):\n",
        "        super(semiGoogLeNet, self).__init__()\n",
        "      \n",
        "        self.conv1 = ConvBlock(3, 64, kernel_size=7, stride=2, padding=3)\n",
        "        self.pool1 = nn.MaxPool2d(3, stride=2, padding=0, ceil_mode=True)\n",
        "        self.conv2 = ConvBlock(64, 64, kernel_size=1, stride=1, padding=0)\n",
        "        self.conv3 = ConvBlock(64, 192, kernel_size=3, stride=1, padding=1)\n",
        "        self.pool2 = nn.MaxPool2d(3, stride=2, padding=0, ceil_mode=True)\n",
        "        self.inception1 = InceptionModule(in_channels=192,\n",
        "                                           f_1x1=64,\n",
        "                                           f_3x3_r=96,\n",
        "                                           f_3x3=128,\n",
        "                                           f_5x5_r=16,\n",
        "                                           f_5x5=32,\n",
        "                                           f_pp=32)\n",
        "    \n",
        "        self.pool3 = nn.MaxPool2d(3, stride=2, padding=0, ceil_mode=True)\n",
        "        self.inception2 = InceptionModule(in_channels=256,\n",
        "                                           f_1x1=192,\n",
        "                                           f_3x3_r=96,\n",
        "                                           f_3x3=208,\n",
        "                                           f_5x5_r=16,\n",
        "                                           f_5x5=48,\n",
        "                                           f_pp=64)\n",
        "        self.aux2 = InceptionAux(512, num_classes) \n",
        "        self.inception3 = InceptionModule(in_channels=512,\n",
        "                                           f_1x1=160,\n",
        "                                           f_3x3_r=112,\n",
        "                                           f_3x3=224,\n",
        "                                           f_5x5_r=24,\n",
        "                                           f_5x5=64,\n",
        "                                           f_pp=64)\n",
        "\n",
        "        self.inception4 = InceptionModule(in_channels=512,\n",
        "                                           f_1x1=112,\n",
        "                                           f_3x3_r=144,\n",
        "                                           f_3x3=288,\n",
        "                                           f_5x5_r=32,\n",
        "                                           f_5x5=64,\n",
        "                                           f_pp=64)\n",
        "        self.aux4 = InceptionAux(528, num_classes)\n",
        "        self.inception5 = InceptionModule(in_channels=528 ,\n",
        "                                           f_1x1=256,\n",
        "                                           f_3x3_r=160,\n",
        "                                           f_3x3=320,\n",
        "                                           f_5x5_r=32,\n",
        "                                           f_5x5=128,\n",
        "                                           f_pp=128)\n",
        "        self.pool4 = nn.MaxPool2d(3, stride=2, padding=0, ceil_mode=True)\n",
        "\n",
        "        self.inception6 = InceptionModule(in_channels=832,\n",
        "                                           f_1x1=384,\n",
        "                                           f_3x3_r=192,\n",
        "                                           f_3x3=384,\n",
        "                                           f_5x5_r=48,\n",
        "                                           f_5x5=128,\n",
        "                                           f_pp=128)\n",
        "        \n",
        "        self.pool5 = nn.AdaptiveAvgPool2d((1,1))\n",
        "        self.dropout = nn.Dropout(0.3)\n",
        "        self.fc = nn.Linear(1024, num_classes)\n",
        "        \n",
        "        \n",
        "        \n",
        "\n",
        "    def forward(self, x):\n",
        "        x = self.conv1(x)\n",
        "        x = self.pool1(x)\n",
        "        x = self.conv2(x)\n",
        "        x = self.conv3(x)\n",
        "        x = self.pool2(x)\n",
        "        x = self.inception1(x)\n",
        "        x = self.pool3(x)\n",
        "        x = self.inception2(x)\n",
        "  \n",
        "        aux1 = self.aux2(x)\n",
        "        \n",
        "        x = self.inception3(x)\n",
        "        x = self.inception4(x)\n",
        "  \n",
        "        aux2 = self.aux4(x)\n",
        "        \n",
        "        x = self.inception5(x)\n",
        "        x = self.pool4(x)\n",
        "        x = self.inception6(x)\n",
        "        x = self.pool5(x)#avg\n",
        "        x = torch.flatten(x,1)\n",
        "        x = self.dropout(x)\n",
        "        x = self.fc(x)\n",
        "        \n",
        "        return x, aux1, aux2"
      ],
      "execution_count": null,
      "outputs": []
    },
    {
      "cell_type": "code",
      "metadata": {
        "id": "2tSrsXB-80N8"
      },
      "source": [
        "model = semiGoogLeNet()"
      ],
      "execution_count": null,
      "outputs": []
    },
    {
      "cell_type": "code",
      "metadata": {
        "id": "li49vft2I5s3"
      },
      "source": [
        "# Training on GPU\n",
        "device = torch.device(\"cuda:0\" if torch.cuda.is_available() else \"cpu\")\n",
        "model = model.to(device)"
      ],
      "execution_count": null,
      "outputs": []
    },
    {
      "cell_type": "code",
      "metadata": {
        "id": "ByLTEPh-I5s5"
      },
      "source": [
        "# Define a Loss function and optimizer\n",
        "\n",
        "criterion = nn.CrossEntropyLoss()\n",
        "optimizer = optim.Adam(model.parameters(),lr = 0.001)"
      ],
      "execution_count": null,
      "outputs": []
    },
    {
      "cell_type": "code",
      "metadata": {
        "id": "WD5K3hrt_Clc"
      },
      "source": [
        "def train_model():\n",
        "    EPOCHS = 17\n",
        "    nb_examples = 50000\n",
        "    train_costs = []\n",
        "    #Training phase.\n",
        "    \n",
        "    for epoch in range(EPOCHS):\n",
        "\n",
        "        train_loss = 0\n",
        "        correct_train = 0\n",
        "        \n",
        "        model.train().cuda()\n",
        "        \n",
        "        for inputs, labels in trainloader:\n",
        "            inputs, labels = inputs.to(device), labels.to(device)\n",
        "            # Zero the parameter gradients.\n",
        "            optimizer.zero_grad()\n",
        "            \n",
        "            # Forward pass.\n",
        "            prediction0, prediction1, prediction2 = model(inputs)\n",
        "            \n",
        "            # Compute the loss.\n",
        "            loss0 = criterion(prediction0, labels)\n",
        "            loss1 = criterion(prediction1, labels)\n",
        "            loss2 = criterion(prediction2, labels)\n",
        "            \n",
        "            loss = loss0 + 0.3 * loss1 + 0.4 * loss2\n",
        "            # Backward pass.\n",
        "            loss.backward()\n",
        "            \n",
        "            # Optimize.\n",
        "            optimizer.step()\n",
        "            \n",
        "            # Compute training accuracy.\n",
        "            _, predicted = torch.max(prediction0.data, 1)\n",
        "            correct_train += (predicted == labels).float().sum().item()\n",
        "            \n",
        "            # Compute batch loss.\n",
        "            train_loss += (loss.data.item() * inputs.shape[0])\n",
        "\n",
        "\n",
        "        train_loss /= nb_examples\n",
        "        train_costs.append(train_loss)\n",
        "        train_acc =  correct_train / nb_examples\n",
        "\n",
        "        \n",
        "        info = \"[Epoch {}/{}]: train-loss = {:0.6f} | train-acc = {:0.3f} \"\n",
        "        print(info.format(epoch+1, EPOCHS, train_loss, train_acc))\n",
        "        torch.save(model.state_dict(), 'save_weights/checkpoint_gpu_{}'.format(epoch + 1)) \n",
        "                                                                \n",
        "    torch.save(model.state_dict(), '/content/save_weights/googlenet_weights_gpu')  \n",
        "        \n",
        "    return train_costs"
      ],
      "execution_count": null,
      "outputs": []
    },
    {
      "cell_type": "code",
      "metadata": {
        "id": "v8VNppn8_Cgx",
        "colab": {
          "base_uri": "https://localhost:8080/"
        },
        "outputId": "b828256b-97a2-44f9-ca7f-a6639fdd4a78"
      },
      "source": [
        "train_costs= train_model()"
      ],
      "execution_count": null,
      "outputs": [
        {
          "output_type": "stream",
          "text": [
            "[Epoch 1/17]: train-loss = 2.131475 | train-acc = 0.557 \n",
            "[Epoch 2/17]: train-loss = 1.331212 | train-acc = 0.734 \n",
            "[Epoch 3/17]: train-loss = 1.000035 | train-acc = 0.805 \n",
            "[Epoch 4/17]: train-loss = 0.805605 | train-acc = 0.846 \n",
            "[Epoch 5/17]: train-loss = 0.645721 | train-acc = 0.878 \n",
            "[Epoch 6/17]: train-loss = 0.520736 | train-acc = 0.904 \n",
            "[Epoch 7/17]: train-loss = 0.417545 | train-acc = 0.924 \n",
            "[Epoch 8/17]: train-loss = 0.355721 | train-acc = 0.936 \n",
            "[Epoch 9/17]: train-loss = 0.278343 | train-acc = 0.951 \n",
            "[Epoch 10/17]: train-loss = 0.227839 | train-acc = 0.961 \n",
            "[Epoch 11/17]: train-loss = 0.186951 | train-acc = 0.970 \n",
            "[Epoch 12/17]: train-loss = 0.157757 | train-acc = 0.974 \n",
            "[Epoch 13/17]: train-loss = 0.139440 | train-acc = 0.977 \n",
            "[Epoch 14/17]: train-loss = 0.133930 | train-acc = 0.979 \n",
            "[Epoch 15/17]: train-loss = 0.112604 | train-acc = 0.982 \n",
            "[Epoch 16/17]: train-loss = 0.102190 | train-acc = 0.984 \n",
            "[Epoch 17/17]: train-loss = 0.059000 | train-acc = 0.992 \n"
          ],
          "name": "stdout"
        }
      ]
    },
    {
      "cell_type": "code",
      "metadata": {
        "id": "m0_HP1ZvKFbf",
        "colab": {
          "base_uri": "https://localhost:8080/",
          "height": 279
        },
        "outputId": "e6683247-b511-46fc-a242-049811385b87"
      },
      "source": [
        "plt.plot(range(17), train_costs)\n",
        "plt.xlabel('epoch')\n",
        "plt.ylabel('loss')\n",
        "plt.grid()"
      ],
      "execution_count": null,
      "outputs": [
        {
          "output_type": "display_data",
          "data": {
            "image/png": "[encoded data removed]",
            "text/plain": [
              "<Figure size 432x288 with 1 Axes>"
            ]
          },
          "metadata": {
            "tags": [],
            "needs_background": "light"
          }
        }
      ]
    },
    {
      "cell_type": "code",
      "metadata": {
        "id": "_U2Kd3Ha_Ce5",
        "colab": {
          "base_uri": "https://localhost:8080/"
        },
        "outputId": "e811f62b-e81a-4150-aacc-d64337d65210"
      },
      "source": [
        "model = semiGoogLeNet()\n",
        "model.load_state_dict(torch.load('/content/save_weights/googlenet_weights_gpu'))"
      ],
      "execution_count": null,
      "outputs": [
        {
          "output_type": "execute_result",
          "data": {
            "text/plain": [
              "<All keys matched successfully>"
            ]
          },
          "metadata": {
            "tags": []
          },
          "execution_count": 13
        }
      ]
    },
    {
      "cell_type": "code",
      "metadata": {
        "id": "NZ_Gjtk8_CcQ",
        "colab": {
          "base_uri": "https://localhost:8080/"
        },
        "outputId": "ea5bf202-ceb9-4a2a-fc32-3fb15da66433"
      },
      "source": [
        "nb_test_examples = 10000\n",
        "correct = 0 \n",
        "\n",
        "model.eval().cuda()\n",
        "\n",
        "with  torch.no_grad():\n",
        "    for inputs, labels in testloader:\n",
        "        inputs, labels = inputs.to(device), labels.to(device)\n",
        "        # Make predictions.\n",
        "        prediction, _, _ = model(inputs)\n",
        "\n",
        "        # Retrieve predictions indexes.\n",
        "        _, predicted_class = torch.max(prediction.data, 1)\n",
        "\n",
        "        # Compute number of correct predictions.\n",
        "        correct += (predicted_class == labels).float().sum().item()\n",
        "\n",
        "test_accuracy = correct / nb_test_examples*100\n",
        "print('Test accuracy: {}%'.format(test_accuracy))"
      ],
      "execution_count": null,
      "outputs": [
        {
          "output_type": "stream",
          "text": [
            "Test accuracy: 83.46000000000001%\n"
          ],
          "name": "stdout"
        }
      ]
    }
  ]
}