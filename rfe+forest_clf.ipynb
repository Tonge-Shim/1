{
  "nbformat": 4,
  "nbformat_minor": 0,
  "metadata": {
    "colab": {
      "name": "rfe+forest_clf.ipynb",
      "provenance": [],
      "history_visible": true,
      "authorship_tag": "ABX9TyOgi8vf/Pm3hRuq4g6OJj0R",
      "include_colab_link": true
    },
    "kernelspec": {
      "name": "python3",
      "display_name": "Python 3"
    }
  },
  "cells": [
    {
      "cell_type": "markdown",
      "metadata": {
        "id": "view-in-github",
        "colab_type": "text"
      },
      "source": [
        "<a href=\"https://colab.research.google.com/github/Tonge-Shim/1/blob/master/rfe%2Bforest_clf.ipynb\" target=\"_parent\"><img src=\"https://colab.research.google.com/assets/colab-badge.svg\" alt=\"Open In Colab\"/></a>"
      ]
    },
    {
      "cell_type": "code",
      "metadata": {
        "id": "EwuBBr4T5PQR"
      },
      "source": [
        "import pandas as pd\n",
        "import numpy as np\n",
        "import matplotlib.pyplot as plt\n",
        "import warnings\n",
        "from collections import Counter\n",
        "from sklearn.datasets import make_classification\n",
        "from sklearn.model_selection import train_test_split\n",
        "from sklearn.metrics import accuracy_score\n",
        "from pandas import DataFrame\n",
        "from sklearn.metrics import classification_report\n",
        "from sklearn.linear_model import SGDClassifier\n",
        "sgd_clf=SGDClassifier(max_iter=5, random_state=42)\n",
        "\n",
        "warnings.filterwarnings(action='ignore')\n",
        "%matplotlib inline"
      ],
      "execution_count": null,
      "outputs": []
    },
    {
      "cell_type": "code",
      "metadata": {
        "id": "i33miJoJ5PNJ"
      },
      "source": [
        "df= pd.read_csv('samp_cst_feat.csv')\n",
        "dtype = pd.read_excel('variable_dtype.xlsx')\n",
        "dtype_categ = dtype[(dtype['dType']=='categorical')]\n",
        "dtype_numrc = dtype[(dtype['dType']=='numerical')]\n",
        "numrc_var = dtype_numrc['Variable_Name']\n",
        "categ_var = dtype_categ['Variable_Name']\n",
        "numrc_var = numrc_var.values.tolist()\n",
        "categ_var = categ_var.values.tolist()#0,1\n",
        "x=df.drop(categ_var, axis=1).drop(['cst_id_di'],axis=1)#10124개\n",
        "y=pd.read_csv('samp_train.csv').drop(['cst_id_di'],axis=1)#10124\n",
        "y_nozero= y[(y['MRC_ID_DI']!=0)]#not 0!!!1924\n",
        "#y_nozeroindex=y_nozero.loc[1:10119]\n",
        "y_nozeroindexlist=y_nozero.index.tolist()\n",
        "x_nozero=x.loc[y_nozeroindexlist]"
      ],
      "execution_count": null,
      "outputs": []
    },
    {
      "cell_type": "markdown",
      "metadata": {
        "id": "MAVtGtdiaOzw"
      },
      "source": [
        "#rfe-feature selection"
      ]
    },
    {
      "cell_type": "code",
      "metadata": {
        "id": "uYcJ8E6eaOWJ"
      },
      "source": [
        "from sklearn.linear_model import LogisticRegression\n",
        "from sklearn.feature_selection import RFE\n",
        "\n",
        "logreg=LogisticRegression()\n",
        "selector=RFE(logreg)\n",
        "selector=selector.fit(x_nozero,y_nozero)"
      ],
      "execution_count": null,
      "outputs": []
    },
    {
      "cell_type": "code",
      "metadata": {
        "id": "9Y1YcMMRapH6",
        "outputId": "17e51b12-974e-4253-fc11-b66113863bba",
        "colab": {
          "base_uri": "https://localhost:8080/",
          "height": 419
        }
      },
      "source": [
        "selected_features=DataFrame({'Feature': list(x_nozero.columns), 'Ranking': selector.ranking_})\n",
        "selected_features.sort_values(by='Ranking').head(100)\n",
        "#가장 연관성 높은 feature부터 나열한 자료"
      ],
      "execution_count": null,
      "outputs": [
        {
          "output_type": "execute_result",
          "data": {
            "text/html": [
              "<div>\n",
              "<style scoped>\n",
              "    .dataframe tbody tr th:only-of-type {\n",
              "        vertical-align: middle;\n",
              "    }\n",
              "\n",
              "    .dataframe tbody tr th {\n",
              "        vertical-align: top;\n",
              "    }\n",
              "\n",
              "    .dataframe thead th {\n",
              "        text-align: right;\n",
              "    }\n",
              "</style>\n",
              "<table border=\"1\" class=\"dataframe\">\n",
              "  <thead>\n",
              "    <tr style=\"text-align: right;\">\n",
              "      <th></th>\n",
              "      <th>Feature</th>\n",
              "      <th>Ranking</th>\n",
              "    </tr>\n",
              "  </thead>\n",
              "  <tbody>\n",
              "    <tr>\n",
              "      <th>197</th>\n",
              "      <td>VAR227</td>\n",
              "      <td>1</td>\n",
              "    </tr>\n",
              "    <tr>\n",
              "      <th>88</th>\n",
              "      <td>VAR105</td>\n",
              "      <td>1</td>\n",
              "    </tr>\n",
              "    <tr>\n",
              "      <th>87</th>\n",
              "      <td>VAR104</td>\n",
              "      <td>1</td>\n",
              "    </tr>\n",
              "    <tr>\n",
              "      <th>86</th>\n",
              "      <td>VAR103</td>\n",
              "      <td>1</td>\n",
              "    </tr>\n",
              "    <tr>\n",
              "      <th>85</th>\n",
              "      <td>VAR102</td>\n",
              "      <td>1</td>\n",
              "    </tr>\n",
              "    <tr>\n",
              "      <th>...</th>\n",
              "      <td>...</td>\n",
              "      <td>...</td>\n",
              "    </tr>\n",
              "    <tr>\n",
              "      <th>177</th>\n",
              "      <td>VAR206</td>\n",
              "      <td>1</td>\n",
              "    </tr>\n",
              "    <tr>\n",
              "      <th>178</th>\n",
              "      <td>VAR207</td>\n",
              "      <td>1</td>\n",
              "    </tr>\n",
              "    <tr>\n",
              "      <th>179</th>\n",
              "      <td>VAR209</td>\n",
              "      <td>1</td>\n",
              "    </tr>\n",
              "    <tr>\n",
              "      <th>40</th>\n",
              "      <td>VAR046</td>\n",
              "      <td>1</td>\n",
              "    </tr>\n",
              "    <tr>\n",
              "      <th>83</th>\n",
              "      <td>VAR100</td>\n",
              "      <td>2</td>\n",
              "    </tr>\n",
              "  </tbody>\n",
              "</table>\n",
              "<p>100 rows × 2 columns</p>\n",
              "</div>"
            ],
            "text/plain": [
              "    Feature  Ranking\n",
              "197  VAR227        1\n",
              "88   VAR105        1\n",
              "87   VAR104        1\n",
              "86   VAR103        1\n",
              "85   VAR102        1\n",
              "..      ...      ...\n",
              "177  VAR206        1\n",
              "178  VAR207        1\n",
              "179  VAR209        1\n",
              "40   VAR046        1\n",
              "83   VAR100        2\n",
              "\n",
              "[100 rows x 2 columns]"
            ]
          },
          "metadata": {
            "tags": []
          },
          "execution_count": 152
        }
      ]
    },
    {
      "cell_type": "code",
      "metadata": {
        "id": "tDUcWU--avoA"
      },
      "source": [
        "newx=selected_features.sort_values(by='Ranking')['Feature']\n",
        "newx=newx.loc[197:40]#랭킹이 '1'이라고 표시된부분, 99개의 feature를 선택해서 리스트화\n",
        "newx.tolist()\n",
        "x_nozero=x_nozero[newx]#x_nozero는 자료와 연관성이 제일 높은 99개의 feature를 나타낸 자료, \n",
        "#참고로 이 자료는 '0'으로 분류된 클래스는 없음, shape는 (1924,99)"
      ],
      "execution_count": null,
      "outputs": []
    },
    {
      "cell_type": "code",
      "metadata": {
        "id": "6WcLGbm_5O2V",
        "outputId": "d894ca1a-e7db-406d-f56d-42ea85a70a02",
        "colab": {
          "base_uri": "https://localhost:8080/"
        }
      },
      "source": [
        "print(x_nozero.shape)\n",
        "print(y_nozero.shape)\n",
        "#print(x.shape)\n",
        "#print(y.shape)\n",
        "y_nozeroarray=y_nozero.to_numpy()#1924\n",
        "#y_array=y.to_numpy()#10124\n",
        "x_nozeroarray=x_nozero.to_numpy()#1924\n",
        "#x_array=x.to_numpy()#10124"
      ],
      "execution_count": null,
      "outputs": [
        {
          "output_type": "stream",
          "text": [
            "(1924, 99)\n",
            "(1924, 1)\n"
          ],
          "name": "stdout"
        }
      ]
    },
    {
      "cell_type": "markdown",
      "metadata": {
        "id": "ANNbLSImBPKa"
      },
      "source": [
        "#0을 제외한 1924개"
      ]
    },
    {
      "cell_type": "code",
      "metadata": {
        "id": "iHz3_rqB5YAT"
      },
      "source": [
        "x_train, x_test, y_train, y_test=x_nozeroarray[:1400], x_nozeroarray[1400:], y_nozeroarray[:1400], y_nozeroarray[1400:]\n",
        "shuffle_index=np.random.permutation(1400)\n",
        "x_train, y_train=x_train[shuffle_index], y_train[shuffle_index]"
      ],
      "execution_count": null,
      "outputs": []
    },
    {
      "cell_type": "markdown",
      "metadata": {
        "id": "so9FfbQ46XXO"
      },
      "source": [
        "#0기준 이진분류"
      ]
    },
    {
      "cell_type": "code",
      "metadata": {
        "id": "GEXJ2yJy6W7Y"
      },
      "source": [
        "X_train, X_test, Y_train, Y_test=x_array[:9000], x_array[9000:], y_array[:9000], y_array[9000:]\n",
        "shuffle_index=np.random.permutation(9000)\n",
        "X_train, Y_train=X_train[shuffle_index], Y_train[shuffle_index]\n",
        "\n",
        "Y_train_0=(Y_train==0)#0은 true, 0이 아니면 false\n",
        "Y_test_0=(Y_test==0)\n",
        "\n"
      ],
      "execution_count": null,
      "outputs": []
    },
    {
      "cell_type": "markdown",
      "metadata": {
        "id": "pCsoUmtFBAkP"
      },
      "source": [
        "#0제외한 1924데이터 분류"
      ]
    },
    {
      "cell_type": "code",
      "metadata": {
        "id": "vPKvA6ZkBHMK"
      },
      "source": [
        "y_1=y[(y['MRC_ID_DI']==1)]\n",
        "y_2=y[(y['MRC_ID_DI']==2)]\n",
        "y_3=y[(y['MRC_ID_DI']==3)]\n",
        "y_4=y[(y['MRC_ID_DI']==4)]\n",
        "y_5=y[(y['MRC_ID_DI']==5)]\n",
        "y_6=y[(y['MRC_ID_DI']==6)]\n",
        "y_7=y[(y['MRC_ID_DI']==7)]\n",
        "y_8=y[(y['MRC_ID_DI']==8)]\n",
        "y_9=y[(y['MRC_ID_DI']==9)]\n",
        "y_10=y[(y['MRC_ID_DI']==10)]\n",
        "\n",
        "x_1=x_nozero.loc[y_1.index.tolist()]\n",
        "x_2=x_nozero.loc[y_2.index.tolist()]\n",
        "x_3=x_nozero.loc[y_3.index.tolist()]\n",
        "x_4=x_nozero.loc[y_4.index.tolist()]\n",
        "x_5=x_nozero.loc[y_5.index.tolist()]\n",
        "x_6=x_nozero.loc[y_6.index.tolist()]\n",
        "x_7=x_nozero.loc[y_7.index.tolist()]\n",
        "x_8=x_nozero.loc[y_8.index.tolist()]\n",
        "x_9=x_nozero.loc[y_9.index.tolist()]\n",
        "x_10=x_nozero.loc[y_10.index.tolist()]"
      ],
      "execution_count": null,
      "outputs": []
    },
    {
      "cell_type": "code",
      "metadata": {
        "id": "u04Woo40ItIC",
        "outputId": "c4263bf7-6e12-41ac-9cda-27f7dbb269a7",
        "colab": {
          "base_uri": "https://localhost:8080/"
        }
      },
      "source": [
        "y_nozero.value_counts()"
      ],
      "execution_count": null,
      "outputs": [
        {
          "output_type": "execute_result",
          "data": {
            "text/plain": [
              "MRC_ID_DI\n",
              "7            661\n",
              "6            554\n",
              "8            337\n",
              "5            143\n",
              "1             85\n",
              "9             59\n",
              "3             32\n",
              "10            28\n",
              "2             14\n",
              "4             11\n",
              "dtype: int64"
            ]
          },
          "metadata": {
            "tags": []
          },
          "execution_count": 163
        }
      ]
    },
    {
      "cell_type": "markdown",
      "metadata": {
        "id": "1WxVLyieJmOr"
      },
      "source": [
        "#5,6,7,8 분류 64%정확도(forest, highest)"
      ]
    },
    {
      "cell_type": "code",
      "metadata": {
        "id": "O2iGRo-kJJYL",
        "outputId": "54752dfd-74d1-46c9-b45b-24cce0927b31",
        "colab": {
          "base_uri": "https://localhost:8080/"
        }
      },
      "source": [
        "x_5678=x_nozero.loc[y_5.index.tolist()+y_6.index.tolist()+y_7.index.tolist()+y_8.index.tolist()]\n",
        "y_5678=y.loc[x_5678.index.tolist()]\n",
        "print(x_5678.shape)\n",
        "print(y_5678.shape)\n",
        "x_5678=x_5678.to_numpy()\n",
        "y_5678=y_5678.to_numpy()"
      ],
      "execution_count": null,
      "outputs": [
        {
          "output_type": "stream",
          "text": [
            "(1695, 99)\n",
            "(1695, 1)\n"
          ],
          "name": "stdout"
        }
      ]
    },
    {
      "cell_type": "code",
      "metadata": {
        "id": "zG2CUZgZKiPN"
      },
      "source": [
        "x_5678train, x_5678test, y_5678train, y_5678test=x_5678[:1250], x_5678[1250:], y_5678[:1250], y_5678[1250:]\n",
        "shuffle_index=np.random.permutation(1250)\n",
        "x_5678train, y_5678train=x_5678train[shuffle_index], y_5678train[shuffle_index]\n",
        "some_digit=x_5678[3]#y_5678[3]=5"
      ],
      "execution_count": null,
      "outputs": []
    },
    {
      "cell_type": "code",
      "metadata": {
        "id": "_89Po-hWL4n7",
        "outputId": "b017201e-0aec-44f6-a6e3-868657bb8ad6",
        "colab": {
          "base_uri": "https://localhost:8080/"
        }
      },
      "source": [
        "sgd_clf.fit(x_5678train, y_5678train)\n",
        "sgd_clf.predict([some_digit])"
      ],
      "execution_count": null,
      "outputs": [
        {
          "output_type": "execute_result",
          "data": {
            "text/plain": [
              "array([6])"
            ]
          },
          "metadata": {
            "tags": []
          },
          "execution_count": 170
        }
      ]
    },
    {
      "cell_type": "code",
      "metadata": {
        "id": "Q9PcRbpbMEkh",
        "outputId": "01a9f923-4449-4bb1-bdae-5d8289dbfffc",
        "colab": {
          "base_uri": "https://localhost:8080/"
        }
      },
      "source": [
        "from sklearn.model_selection import cross_val_score\n",
        "cross_val_score(sgd_clf, x_5678train, y_5678train, cv=3, scoring=\"accuracy\")"
      ],
      "execution_count": null,
      "outputs": [
        {
          "output_type": "execute_result",
          "data": {
            "text/plain": [
              "array([0.53956835, 0.59232614, 0.56730769])"
            ]
          },
          "metadata": {
            "tags": []
          },
          "execution_count": 172
        }
      ]
    },
    {
      "cell_type": "code",
      "metadata": {
        "id": "gY-On_kGPQW-",
        "outputId": "d0cc5efa-b624-4c16-d1f0-19d28c692351",
        "colab": {
          "base_uri": "https://localhost:8080/"
        }
      },
      "source": [
        "from sklearn.ensemble import RandomForestClassifier#제일 나음\n",
        "forest_clf=RandomForestClassifier(random_state=42)\n",
        "forest_clf.fit(x_5678train, y_5678train)\n",
        "forest_clf.predict([some_digit])"
      ],
      "execution_count": null,
      "outputs": [
        {
          "output_type": "execute_result",
          "data": {
            "text/plain": [
              "array([5])"
            ]
          },
          "metadata": {
            "tags": []
          },
          "execution_count": 173
        }
      ]
    },
    {
      "cell_type": "code",
      "metadata": {
        "id": "B58Mm1QZParv",
        "outputId": "1ea9cd2b-86a8-4011-f1a7-cdcb7d754a12",
        "colab": {
          "base_uri": "https://localhost:8080/"
        }
      },
      "source": [
        "cross_val_score(forest_clf, x_5678train, y_5678train, cv=3, scoring=\"accuracy\")"
      ],
      "execution_count": null,
      "outputs": [
        {
          "output_type": "execute_result",
          "data": {
            "text/plain": [
              "array([0.64028777, 0.60431655, 0.60336538])"
            ]
          },
          "metadata": {
            "tags": []
          },
          "execution_count": 174
        }
      ]
    },
    {
      "cell_type": "code",
      "metadata": {
        "id": "YHfP8h9yPlxg",
        "outputId": "6d84f1c6-72c9-4d4b-8565-a6b79fceb4e0",
        "colab": {
          "base_uri": "https://localhost:8080/"
        }
      },
      "source": [
        "from sklearn.multiclass import OneVsOneClassifier\n",
        "ovo_clf=OneVsOneClassifier(SGDClassifier(max_iter=5, random_state=42))\n",
        "ovo_clf.fit(x_5678train, y_5678train)\n",
        "ovo_clf.predict([some_digit])"
      ],
      "execution_count": null,
      "outputs": [
        {
          "output_type": "execute_result",
          "data": {
            "text/plain": [
              "array([5])"
            ]
          },
          "metadata": {
            "tags": []
          },
          "execution_count": 175
        }
      ]
    },
    {
      "cell_type": "code",
      "metadata": {
        "id": "rW4lBrXPPsX-",
        "outputId": "7a9b7c6e-381c-4d0e-9384-12541821d9eb",
        "colab": {
          "base_uri": "https://localhost:8080/"
        }
      },
      "source": [
        "cross_val_score(ovo_clf, x_5678train, y_5678train, cv=3, scoring=\"accuracy\")"
      ],
      "execution_count": null,
      "outputs": [
        {
          "output_type": "execute_result",
          "data": {
            "text/plain": [
              "array([0.59952038, 0.54676259, 0.51923077])"
            ]
          },
          "metadata": {
            "tags": []
          },
          "execution_count": 176
        }
      ]
    },
    {
      "cell_type": "markdown",
      "metadata": {
        "id": "cnfKsaMeMZRp"
      },
      "source": [
        "이건 아니지이이이잉"
      ]
    },
    {
      "cell_type": "markdown",
      "metadata": {
        "id": "-BsSvsluMd_y"
      },
      "source": [
        "#678 분류 67%정확도"
      ]
    },
    {
      "cell_type": "code",
      "metadata": {
        "id": "4Bu8zHhfMjxj",
        "outputId": "4b7bd279-167b-4633-aaca-17ba9dbba3ce",
        "colab": {
          "base_uri": "https://localhost:8080/"
        }
      },
      "source": [
        "x_678=x_nozero.loc[y_6.index.tolist()+y_7.index.tolist()+y_8.index.tolist()]\n",
        "y_678=y.loc[x_678.index.tolist()]\n",
        "print(x_678.shape)\n",
        "print(y_678.shape)\n",
        "x_678=x_678.to_numpy()\n",
        "y_678=y_678.to_numpy()"
      ],
      "execution_count": null,
      "outputs": [
        {
          "output_type": "stream",
          "text": [
            "(1552, 99)\n",
            "(1552, 1)\n"
          ],
          "name": "stdout"
        }
      ]
    },
    {
      "cell_type": "code",
      "metadata": {
        "id": "9gbDUnAsMv-e"
      },
      "source": [
        "x_678train, x_678test, y_678train, y_678test=x_678[:1230], x_678[1230:], y_678[:1230], y_678[1230:]\n",
        "shuffle_index=np.random.permutation(1230)\n",
        "x_678train, y_678train=x_678train[shuffle_index], y_678train[shuffle_index]\n",
        "some_digit1=x_678[3]#y_678[3]=6"
      ],
      "execution_count": null,
      "outputs": []
    },
    {
      "cell_type": "code",
      "metadata": {
        "id": "3D4pmaSUNP7f",
        "outputId": "906f619b-d901-431e-b7ea-0520fe487490",
        "colab": {
          "base_uri": "https://localhost:8080/"
        }
      },
      "source": [
        "forest_clf=RandomForestClassifier(random_state=42)\n",
        "forest_clf.fit(x_678train, y_678train)\n",
        "forest_clf.predict([some_digit1])"
      ],
      "execution_count": null,
      "outputs": [
        {
          "output_type": "execute_result",
          "data": {
            "text/plain": [
              "array([6])"
            ]
          },
          "metadata": {
            "tags": []
          },
          "execution_count": 181
        }
      ]
    },
    {
      "cell_type": "code",
      "metadata": {
        "id": "zI8qDUE1QPux",
        "outputId": "1ef9c69c-8660-4644-f9a4-0bef730db0cf",
        "colab": {
          "base_uri": "https://localhost:8080/"
        }
      },
      "source": [
        "cross_val_score(forest_clf, x_678train, y_678train, cv=3, scoring=\"accuracy\")"
      ],
      "execution_count": null,
      "outputs": [
        {
          "output_type": "execute_result",
          "data": {
            "text/plain": [
              "array([0.67804878, 0.67560976, 0.67317073])"
            ]
          },
          "metadata": {
            "tags": []
          },
          "execution_count": 182
        }
      ]
    },
    {
      "cell_type": "markdown",
      "metadata": {
        "id": "Yump5yluTUWx"
      },
      "source": [
        ""
      ]
    },
    {
      "cell_type": "code",
      "metadata": {
        "id": "Lm3Jtw2oR757",
        "outputId": "5595befc-1cc0-4188-d6a2-911eb19c4692",
        "colab": {
          "base_uri": "https://localhost:8080/"
        }
      },
      "source": [
        "y.loc[y_6.index.tolist()+y_7.index.tolist()+y_8.index.tolist()].value_counts()"
      ],
      "execution_count": null,
      "outputs": [
        {
          "output_type": "execute_result",
          "data": {
            "text/plain": [
              "MRC_ID_DI\n",
              "7            661\n",
              "6            554\n",
              "8            337\n",
              "dtype: int64"
            ]
          },
          "metadata": {
            "tags": []
          },
          "execution_count": 121
        }
      ]
    },
    {
      "cell_type": "markdown",
      "metadata": {
        "id": "ULCEkVh1SdOM"
      },
      "source": [
        "\n",
        "661/(661+554+337)*100=43\n",
        "\n",
        "554/(661+554+337)*100=35.7\n",
        "\n",
        "337/(661+554+337)*100=21.7\n",
        "\n",
        "\n"
      ]
    },
    {
      "cell_type": "markdown",
      "metadata": {
        "id": "coDhjwtWTjeZ"
      },
      "source": [
        "#6,7분류 약 70%정확도최고 72%\n"
      ]
    },
    {
      "cell_type": "code",
      "metadata": {
        "id": "Q-O0zBpPTl1h",
        "outputId": "f5054ddc-7b19-4c3f-8213-a35851c94811",
        "colab": {
          "base_uri": "https://localhost:8080/"
        }
      },
      "source": [
        "x_67=x_nozero.loc[y_6.index.tolist()+y_7.index.tolist()]\n",
        "y_67=y.loc[x_67.index.tolist()]\n",
        "print(x_67.shape)\n",
        "print(y_67.shape)\n",
        "x_67=x_67.to_numpy()\n",
        "y_67=y_67.to_numpy()"
      ],
      "execution_count": null,
      "outputs": [
        {
          "output_type": "stream",
          "text": [
            "(1215, 99)\n",
            "(1215, 1)\n"
          ],
          "name": "stdout"
        }
      ]
    },
    {
      "cell_type": "code",
      "metadata": {
        "id": "VC-aXGYzTtFI"
      },
      "source": [
        "x_67train, x_67test, y_67train, y_67test=x_67[:950], x_67[950:], y_67[:950], y_67[950:]\n",
        "shuffle_index=np.random.permutation(950)\n",
        "x_67train, y_67train=x_67train[shuffle_index], y_67train[shuffle_index]\n",
        "some_digit1=x_67[3]#y_67[3]=6"
      ],
      "execution_count": null,
      "outputs": []
    },
    {
      "cell_type": "code",
      "metadata": {
        "id": "a8ZVFTR2TuxZ",
        "outputId": "e93bf3fb-ee1f-41b8-dc78-0634071dd76e",
        "colab": {
          "base_uri": "https://localhost:8080/"
        }
      },
      "source": [
        "#randomforest\n",
        "forest_clf=RandomForestClassifier(random_state=42)\n",
        "forest_clf.fit(x_67train, y_67train)\n",
        "forest_clf.predict([some_digit1])"
      ],
      "execution_count": null,
      "outputs": [
        {
          "output_type": "execute_result",
          "data": {
            "text/plain": [
              "array([6])"
            ]
          },
          "metadata": {
            "tags": []
          },
          "execution_count": 186
        }
      ]
    },
    {
      "cell_type": "code",
      "metadata": {
        "id": "IW_BAaIWTx8P",
        "outputId": "104c7b95-4ed0-4ec2-ae7f-c343491a04a1",
        "colab": {
          "base_uri": "https://localhost:8080/"
        }
      },
      "source": [
        "cross_val_score(forest_clf, x_67train, y_67train, cv=3, scoring=\"accuracy\")\n"
      ],
      "execution_count": null,
      "outputs": [
        {
          "output_type": "execute_result",
          "data": {
            "text/plain": [
              "array([0.65615142, 0.69716088, 0.7278481 ])"
            ]
          },
          "metadata": {
            "tags": []
          },
          "execution_count": 187
        }
      ]
    },
    {
      "cell_type": "code",
      "metadata": {
        "id": "sY-r5hHpU6Az",
        "outputId": "5fed86a8-2234-44f6-8474-ec949514a1bb",
        "colab": {
          "base_uri": "https://localhost:8080/"
        }
      },
      "source": [
        "#sgd_clf\n",
        "sgd_clf.fit(x_67train, y_67train)\n",
        "sgd_clf.predict([some_digit1])"
      ],
      "execution_count": null,
      "outputs": [
        {
          "output_type": "execute_result",
          "data": {
            "text/plain": [
              "array([6])"
            ]
          },
          "metadata": {
            "tags": []
          },
          "execution_count": 188
        }
      ]
    },
    {
      "cell_type": "code",
      "metadata": {
        "id": "L6tmy_z0VLmD",
        "outputId": "d137dc50-aabd-453c-be97-38f0926f994f",
        "colab": {
          "base_uri": "https://localhost:8080/"
        }
      },
      "source": [
        "cross_val_score(sgd_clf, x_67train, y_67train, cv=3, scoring=\"accuracy\")"
      ],
      "execution_count": null,
      "outputs": [
        {
          "output_type": "execute_result",
          "data": {
            "text/plain": [
              "array([0.64037855, 0.6466877 , 0.68037975])"
            ]
          },
          "metadata": {
            "tags": []
          },
          "execution_count": 189
        }
      ]
    },
    {
      "cell_type": "markdown",
      "metadata": {
        "id": "Jqn-r3zjWUyS"
      },
      "source": [
        ""
      ]
    },
    {
      "cell_type": "code",
      "metadata": {
        "id": "jLCeLoBWWUIt",
        "outputId": "2a315e91-c9d8-4606-cfce-16966bed5110",
        "colab": {
          "base_uri": "https://localhost:8080/"
        }
      },
      "source": [
        "y_nozero.value_counts()"
      ],
      "execution_count": null,
      "outputs": [
        {
          "output_type": "execute_result",
          "data": {
            "text/plain": [
              "MRC_ID_DI\n",
              "7            661\n",
              "6            554\n",
              "8            337\n",
              "5            143\n",
              "1             85\n",
              "9             59\n",
              "3             32\n",
              "10            28\n",
              "2             14\n",
              "4             11\n",
              "dtype: int64"
            ]
          },
          "metadata": {
            "tags": []
          },
          "execution_count": 135
        }
      ]
    },
    {
      "cell_type": "markdown",
      "metadata": {
        "id": "x3sQFRn9XcxG"
      },
      "source": [
        "#2,3,4,9,10 약 60%정확도"
      ]
    },
    {
      "cell_type": "code",
      "metadata": {
        "id": "gU_A7vwDXnpj",
        "outputId": "e03d51f8-32f6-46b5-e99b-9495dc853b6a",
        "colab": {
          "base_uri": "https://localhost:8080/"
        }
      },
      "source": [
        "x_210=x_nozero.loc[y_2.index.tolist()+y_3.index.tolist()+y_4.index.tolist()+y_9.index.tolist()+y_10.index.tolist()]\n",
        "y_210=y.loc[x_210.index.tolist()]\n",
        "print(x_210.shape)\n",
        "print(y_210.shape)\n",
        "x_210=x_210.to_numpy()\n",
        "y_210=y_210.to_numpy()\n",
        "\n",
        "x_210train, x_210test, y_210train, y_210test=x_210[:110], x_210[110:], y_210[:110], y_210[110:]\n",
        "shuffle_index=np.random.permutation(110)\n",
        "x_210train, y_210train=x_210train[shuffle_index], y_210train[shuffle_index]\n",
        "some_digit1=x_210[3]#y_210[3]=2"
      ],
      "execution_count": null,
      "outputs": [
        {
          "output_type": "stream",
          "text": [
            "(144, 99)\n",
            "(144, 1)\n"
          ],
          "name": "stdout"
        }
      ]
    },
    {
      "cell_type": "code",
      "metadata": {
        "id": "U76i4vUNXnvp",
        "outputId": "c96391fd-c6c8-40b1-f0c3-7a3e2579d8c3",
        "colab": {
          "base_uri": "https://localhost:8080/"
        }
      },
      "source": [
        "#randomforest\n",
        "forest_clf=RandomForestClassifier(random_state=42)\n",
        "forest_clf.fit(x_210train, y_210train)\n",
        "forest_clf.predict([some_digit1])"
      ],
      "execution_count": null,
      "outputs": [
        {
          "output_type": "execute_result",
          "data": {
            "text/plain": [
              "array([2])"
            ]
          },
          "metadata": {
            "tags": []
          },
          "execution_count": 191
        }
      ]
    },
    {
      "cell_type": "code",
      "metadata": {
        "id": "qYZKCAYbXnkI",
        "outputId": "6ae53177-77ff-4952-9eff-64fc2324210f",
        "colab": {
          "base_uri": "https://localhost:8080/"
        }
      },
      "source": [
        "cross_val_score(forest_clf, x_210train, y_210train, cv=3, scoring=\"accuracy\")\n"
      ],
      "execution_count": null,
      "outputs": [
        {
          "output_type": "execute_result",
          "data": {
            "text/plain": [
              "array([0.62162162, 0.51351351, 0.58333333])"
            ]
          },
          "metadata": {
            "tags": []
          },
          "execution_count": 192
        }
      ]
    },
    {
      "cell_type": "code",
      "metadata": {
        "id": "vehpvm4VX0v6",
        "outputId": "002b14f8-cf84-497c-d69b-9c790361013f",
        "colab": {
          "base_uri": "https://localhost:8080/"
        }
      },
      "source": [
        "#sgd_clf\n",
        "sgd_clf.fit(x_210train, y_210train)\n",
        "sgd_clf.predict([some_digit1])\n",
        "cross_val_score(sgd_clf, x_210train, y_210train, cv=3, scoring=\"accuracy\")\n"
      ],
      "execution_count": null,
      "outputs": [
        {
          "output_type": "execute_result",
          "data": {
            "text/plain": [
              "array([0.67567568, 0.51351351, 0.36111111])"
            ]
          },
          "metadata": {
            "tags": []
          },
          "execution_count": 193
        }
      ]
    },
    {
      "cell_type": "markdown",
      "metadata": {
        "id": "qD7AHztzeU0W"
      },
      "source": [
        "#rfe를 추가한 결과, 조금씩 높아지긴 했지만... 아직도 낮음"
      ]
    }
  ]
}