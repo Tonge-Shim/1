{
  "nbformat": 4,
  "nbformat_minor": 0,
  "metadata": {
    "colab": {
      "name": "sgd&forest_clf.ipynb",
      "provenance": [],
      "history_visible": true,
      "authorship_tag": "ABX9TyP/QSa87A7ABDY9LpepVqwp",
      "include_colab_link": true
    },
    "kernelspec": {
      "name": "python3",
      "display_name": "Python 3"
    }
  },
  "cells": [
    {
      "cell_type": "markdown",
      "metadata": {
        "id": "view-in-github",
        "colab_type": "text"
      },
      "source": [
        "<a href=\"https://colab.research.google.com/github/Tonge-Shim/1/blob/master/sgd%26forest_clf.ipynb\" target=\"_parent\"><img src=\"https://colab.research.google.com/assets/colab-badge.svg\" alt=\"Open In Colab\"/></a>"
      ]
    },
    {
      "cell_type": "code",
      "metadata": {
        "id": "EwuBBr4T5PQR"
      },
      "source": [
        "import pandas as pd\n",
        "import numpy as np\n",
        "import matplotlib.pyplot as plt\n",
        "import warnings\n",
        "from collections import Counter\n",
        "from sklearn.datasets import make_classification\n",
        "from sklearn.model_selection import train_test_split\n",
        "from sklearn.metrics import accuracy_score\n",
        "from pandas import DataFrame\n",
        "from sklearn.metrics import classification_report\n",
        "from sklearn.linear_model import SGDClassifier\n",
        "sgd_clf=SGDClassifier(max_iter=5, random_state=42)\n",
        "\n",
        "warnings.filterwarnings(action='ignore')\n",
        "%matplotlib inline"
      ],
      "execution_count": 96,
      "outputs": []
    },
    {
      "cell_type": "code",
      "metadata": {
        "id": "i33miJoJ5PNJ"
      },
      "source": [
        "df= pd.read_csv('samp_cst_feat.csv')\n",
        "dtype = pd.read_excel('variable_dtype.xlsx')\n",
        "dtype_categ = dtype[(dtype['dType']=='categorical')]\n",
        "dtype_numrc = dtype[(dtype['dType']=='numerical')]\n",
        "numrc_var = dtype_numrc['Variable_Name']\n",
        "categ_var = dtype_categ['Variable_Name']\n",
        "numrc_var = numrc_var.values.tolist()\n",
        "categ_var = categ_var.values.tolist()#0,1\n",
        "x=df.drop(categ_var, axis=1).drop(['cst_id_di'],axis=1)#10124개\n",
        "y=pd.read_csv('samp_train.csv').drop(['cst_id_di'],axis=1)#10124\n",
        "y_nozero= y[(y['MRC_ID_DI']!=0)]#not 0!!!1924\n",
        "#y_nozeroindex=y_nozero.loc[1:10119]\n",
        "y_nozeroindexlist=y_nozero.index.tolist()\n",
        "x_nozero=x.loc[y_nozeroindexlist]"
      ],
      "execution_count": 2,
      "outputs": []
    },
    {
      "cell_type": "code",
      "metadata": {
        "id": "6WcLGbm_5O2V",
        "outputId": "90952114-e8f7-466a-bf3e-6d5be38c4810",
        "colab": {
          "base_uri": "https://localhost:8080/"
        }
      },
      "source": [
        "print(x_nozero.shape)\n",
        "print(y_nozero.shape)\n",
        "print(x.shape)\n",
        "print(y.shape)\n",
        "y_nozeroarray=y_nozero.to_numpy()#1924\n",
        "y_array=y.to_numpy()#10124\n",
        "x_nozeroarray=x_nozero.to_numpy()#1924\n",
        "x_array=x.to_numpy()#10124"
      ],
      "execution_count": 3,
      "outputs": [
        {
          "output_type": "stream",
          "text": [
            "(1924, 198)\n",
            "(1924, 1)\n",
            "(10124, 198)\n",
            "(10124, 1)\n"
          ],
          "name": "stdout"
        }
      ]
    },
    {
      "cell_type": "markdown",
      "metadata": {
        "id": "ANNbLSImBPKa"
      },
      "source": [
        "#0을 제외한 1924개"
      ]
    },
    {
      "cell_type": "code",
      "metadata": {
        "id": "iHz3_rqB5YAT"
      },
      "source": [
        "x_train, x_test, y_train, y_test=x_nozeroarray[:1400], x_nozeroarray[1400:], y_nozeroarray[:1400], y_nozeroarray[1400:]\n",
        "shuffle_index=np.random.permutation(1400)\n",
        "x_train, y_train=x_train[shuffle_index], y_train[shuffle_index]"
      ],
      "execution_count": 5,
      "outputs": []
    },
    {
      "cell_type": "markdown",
      "metadata": {
        "id": "so9FfbQ46XXO"
      },
      "source": [
        "#0기준 이진분류"
      ]
    },
    {
      "cell_type": "code",
      "metadata": {
        "id": "GEXJ2yJy6W7Y"
      },
      "source": [
        "X_train, X_test, Y_train, Y_test=x_array[:9000], x_array[9000:], y_array[:9000], y_array[9000:]\n",
        "shuffle_index=np.random.permutation(9000)\n",
        "X_train, Y_train=X_train[shuffle_index], Y_train[shuffle_index]\n",
        "\n",
        "Y_train_0=(Y_train==0)#0은 true, 0이 아니면 false\n",
        "Y_test_0=(Y_test==0)\n",
        "\n"
      ],
      "execution_count": 36,
      "outputs": []
    },
    {
      "cell_type": "markdown",
      "metadata": {
        "id": "pCsoUmtFBAkP"
      },
      "source": [
        "#0제외한 1924데이터 분류"
      ]
    },
    {
      "cell_type": "code",
      "metadata": {
        "id": "vPKvA6ZkBHMK"
      },
      "source": [
        "y_1=y[(y['MRC_ID_DI']==1)]\n",
        "y_2=y[(y['MRC_ID_DI']==2)]\n",
        "y_3=y[(y['MRC_ID_DI']==3)]\n",
        "y_4=y[(y['MRC_ID_DI']==4)]\n",
        "y_5=y[(y['MRC_ID_DI']==5)]\n",
        "y_6=y[(y['MRC_ID_DI']==6)]\n",
        "y_7=y[(y['MRC_ID_DI']==7)]\n",
        "y_8=y[(y['MRC_ID_DI']==8)]\n",
        "y_9=y[(y['MRC_ID_DI']==9)]\n",
        "y_10=y[(y['MRC_ID_DI']==10)]\n",
        "\n",
        "x_1=x.loc[y_1.index.tolist()]\n",
        "x_2=x.loc[y_2.index.tolist()]\n",
        "x_3=x.loc[y_3.index.tolist()]\n",
        "x_4=x.loc[y_4.index.tolist()]\n",
        "x_5=x.loc[y_5.index.tolist()]\n",
        "x_6=x.loc[y_6.index.tolist()]\n",
        "x_7=x.loc[y_7.index.tolist()]\n",
        "x_8=x.loc[y_8.index.tolist()]\n",
        "x_9=x.loc[y_9.index.tolist()]\n",
        "x_10=x.loc[y_10.index.tolist()]"
      ],
      "execution_count": 61,
      "outputs": []
    },
    {
      "cell_type": "code",
      "metadata": {
        "id": "u04Woo40ItIC",
        "outputId": "bcbba4af-c7db-4e71-d8ff-e2f868eafad4",
        "colab": {
          "base_uri": "https://localhost:8080/"
        }
      },
      "source": [
        "y_nozero.value_counts()"
      ],
      "execution_count": 66,
      "outputs": [
        {
          "output_type": "execute_result",
          "data": {
            "text/plain": [
              "MRC_ID_DI\n",
              "7            661\n",
              "6            554\n",
              "8            337\n",
              "5            143\n",
              "1             85\n",
              "9             59\n",
              "3             32\n",
              "10            28\n",
              "2             14\n",
              "4             11\n",
              "dtype: int64"
            ]
          },
          "metadata": {
            "tags": []
          },
          "execution_count": 66
        }
      ]
    },
    {
      "cell_type": "markdown",
      "metadata": {
        "id": "1WxVLyieJmOr"
      },
      "source": [
        "#5,6,7,8 분류 55%정확도"
      ]
    },
    {
      "cell_type": "code",
      "metadata": {
        "id": "O2iGRo-kJJYL",
        "outputId": "4bee6846-c7cc-4c26-e459-2b18a39dd82d",
        "colab": {
          "base_uri": "https://localhost:8080/"
        }
      },
      "source": [
        "x_5678=x.loc[y_5.index.tolist()+y_6.index.tolist()+y_7.index.tolist()+y_8.index.tolist()]\n",
        "y_5678=y.loc[x_5678.index.tolist()]\n",
        "print(x_5678.shape)\n",
        "print(y_5678.shape)\n",
        "x_5678=x_5678.to_numpy()\n",
        "y_5678=y_5678.to_numpy()"
      ],
      "execution_count": 83,
      "outputs": [
        {
          "output_type": "stream",
          "text": [
            "(1695, 198)\n",
            "(1695, 1)\n"
          ],
          "name": "stdout"
        }
      ]
    },
    {
      "cell_type": "code",
      "metadata": {
        "id": "zG2CUZgZKiPN"
      },
      "source": [
        "x_5678train, x_5678test, y_5678train, y_5678test=x_5678[:1250], x_5678[1250:], y_5678[:1250], y_5678[1250:]\n",
        "shuffle_index=np.random.permutation(1250)\n",
        "x_5678train, y_5678train=x_5678train[shuffle_index], y_5678train[shuffle_index]\n",
        "some_digit=x_5678[3]#y_5678[3]=5"
      ],
      "execution_count": 84,
      "outputs": []
    },
    {
      "cell_type": "code",
      "metadata": {
        "id": "_89Po-hWL4n7",
        "outputId": "ccae35b0-a400-4d5d-c864-f0d8f25a0c4d",
        "colab": {
          "base_uri": "https://localhost:8080/"
        }
      },
      "source": [
        "sgd_clf.fit(x_5678train, y_5678train)\n",
        "sgd_clf.predict([some_digit])"
      ],
      "execution_count": 102,
      "outputs": [
        {
          "output_type": "execute_result",
          "data": {
            "text/plain": [
              "array([7])"
            ]
          },
          "metadata": {
            "tags": []
          },
          "execution_count": 102
        }
      ]
    },
    {
      "cell_type": "code",
      "metadata": {
        "id": "Q9PcRbpbMEkh",
        "outputId": "18f5887b-a259-44a6-c433-d0e614ebace4",
        "colab": {
          "base_uri": "https://localhost:8080/"
        }
      },
      "source": [
        "from sklearn.model_selection import cross_val_score\n",
        "cross_val_score(sgd_clf, x_5678train, y_5678train, cv=3, scoring=\"accuracy\")"
      ],
      "execution_count": 103,
      "outputs": [
        {
          "output_type": "execute_result",
          "data": {
            "text/plain": [
              "array([0.57074341, 0.58992806, 0.43990385])"
            ]
          },
          "metadata": {
            "tags": []
          },
          "execution_count": 103
        }
      ]
    },
    {
      "cell_type": "code",
      "metadata": {
        "id": "gY-On_kGPQW-",
        "outputId": "4dcc001a-274f-4747-fcba-ae6ca5dd8101",
        "colab": {
          "base_uri": "https://localhost:8080/"
        }
      },
      "source": [
        "from sklearn.ensemble import RandomForestClassifier#제일 나음\n",
        "forest_clf=RandomForestClassifier(random_state=42)\n",
        "forest_clf.fit(x_5678train, y_5678train)\n",
        "forest_clf.predict([some_digit])"
      ],
      "execution_count": 104,
      "outputs": [
        {
          "output_type": "execute_result",
          "data": {
            "text/plain": [
              "array([5])"
            ]
          },
          "metadata": {
            "tags": []
          },
          "execution_count": 104
        }
      ]
    },
    {
      "cell_type": "code",
      "metadata": {
        "id": "B58Mm1QZParv",
        "outputId": "f4b6b2d7-9dce-4d6f-e9c9-61ac3fb71155",
        "colab": {
          "base_uri": "https://localhost:8080/"
        }
      },
      "source": [
        "cross_val_score(forest_clf, x_5678train, y_5678train, cv=3, scoring=\"accuracy\")"
      ],
      "execution_count": 105,
      "outputs": [
        {
          "output_type": "execute_result",
          "data": {
            "text/plain": [
              "array([0.61390887, 0.57074341, 0.63221154])"
            ]
          },
          "metadata": {
            "tags": []
          },
          "execution_count": 105
        }
      ]
    },
    {
      "cell_type": "code",
      "metadata": {
        "id": "YHfP8h9yPlxg",
        "outputId": "91dd8025-c5cf-49cd-e923-ad7df162dfaf",
        "colab": {
          "base_uri": "https://localhost:8080/"
        }
      },
      "source": [
        "from sklearn.multiclass import OneVsOneClassifier\n",
        "ovo_clf=OneVsOneClassifier(SGDClassifier(max_iter=5, random_state=42))\n",
        "ovo_clf.fit(x_5678train, y_5678train)\n",
        "ovo_clf.predict([some_digit])"
      ],
      "execution_count": 106,
      "outputs": [
        {
          "output_type": "execute_result",
          "data": {
            "text/plain": [
              "array([6])"
            ]
          },
          "metadata": {
            "tags": []
          },
          "execution_count": 106
        }
      ]
    },
    {
      "cell_type": "code",
      "metadata": {
        "id": "rW4lBrXPPsX-",
        "outputId": "82a7a3ca-d49a-4062-da5f-10e885ed3404",
        "colab": {
          "base_uri": "https://localhost:8080/"
        }
      },
      "source": [
        "cross_val_score(ovo_clf, x_5678train, y_5678train, cv=3, scoring=\"accuracy\")"
      ],
      "execution_count": 107,
      "outputs": [
        {
          "output_type": "execute_result",
          "data": {
            "text/plain": [
              "array([0.55155875, 0.47242206, 0.57692308])"
            ]
          },
          "metadata": {
            "tags": []
          },
          "execution_count": 107
        }
      ]
    },
    {
      "cell_type": "markdown",
      "metadata": {
        "id": "cnfKsaMeMZRp"
      },
      "source": [
        "이건 아니지이이이잉"
      ]
    },
    {
      "cell_type": "markdown",
      "metadata": {
        "id": "-BsSvsluMd_y"
      },
      "source": [
        "#678 분류 67%정확도"
      ]
    },
    {
      "cell_type": "code",
      "metadata": {
        "id": "4Bu8zHhfMjxj",
        "outputId": "d57038a6-6e42-4c75-be48-cad9155a3a7e",
        "colab": {
          "base_uri": "https://localhost:8080/"
        }
      },
      "source": [
        "x_678=x.loc[y_6.index.tolist()+y_7.index.tolist()+y_8.index.tolist()]\n",
        "y_678=y.loc[x_678.index.tolist()]\n",
        "print(x_678.shape)\n",
        "print(y_678.shape)\n",
        "x_678=x_678.to_numpy()\n",
        "y_678=y_678.to_numpy()"
      ],
      "execution_count": 87,
      "outputs": [
        {
          "output_type": "stream",
          "text": [
            "(1552, 198)\n",
            "(1552, 1)\n"
          ],
          "name": "stdout"
        }
      ]
    },
    {
      "cell_type": "code",
      "metadata": {
        "id": "9gbDUnAsMv-e"
      },
      "source": [
        "x_678train, x_678test, y_678train, y_678test=x_678[:1230], x_678[1230:], y_678[:1230], y_678[1230:]\n",
        "shuffle_index=np.random.permutation(1230)\n",
        "x_678train, y_678train=x_678train[shuffle_index], y_678train[shuffle_index]\n",
        "some_digit1=x_678[3]#y_678[3]=6"
      ],
      "execution_count": 111,
      "outputs": []
    },
    {
      "cell_type": "code",
      "metadata": {
        "id": "3D4pmaSUNP7f",
        "outputId": "6ad68a8b-ca01-4de8-958f-78baeba24c87",
        "colab": {
          "base_uri": "https://localhost:8080/"
        }
      },
      "source": [
        "forest_clf=RandomForestClassifier(random_state=42)\n",
        "forest_clf.fit(x_678train, y_678train)\n",
        "forest_clf.predict([some_digit1])"
      ],
      "execution_count": 112,
      "outputs": [
        {
          "output_type": "execute_result",
          "data": {
            "text/plain": [
              "array([6])"
            ]
          },
          "metadata": {
            "tags": []
          },
          "execution_count": 112
        }
      ]
    },
    {
      "cell_type": "code",
      "metadata": {
        "id": "zI8qDUE1QPux",
        "outputId": "7b804486-2c3b-4549-8f2f-cc7d477c22cb",
        "colab": {
          "base_uri": "https://localhost:8080/"
        }
      },
      "source": [
        "cross_val_score(forest_clf, x_678train, y_678train, cv=3, scoring=\"accuracy\")"
      ],
      "execution_count": 114,
      "outputs": [
        {
          "output_type": "execute_result",
          "data": {
            "text/plain": [
              "array([0.66341463, 0.67560976, 0.67073171])"
            ]
          },
          "metadata": {
            "tags": []
          },
          "execution_count": 114
        }
      ]
    },
    {
      "cell_type": "markdown",
      "metadata": {
        "id": "Yump5yluTUWx"
      },
      "source": [
        ""
      ]
    },
    {
      "cell_type": "code",
      "metadata": {
        "id": "Lm3Jtw2oR757",
        "outputId": "5595befc-1cc0-4188-d6a2-911eb19c4692",
        "colab": {
          "base_uri": "https://localhost:8080/"
        }
      },
      "source": [
        "y.loc[y_6.index.tolist()+y_7.index.tolist()+y_8.index.tolist()].value_counts()"
      ],
      "execution_count": 121,
      "outputs": [
        {
          "output_type": "execute_result",
          "data": {
            "text/plain": [
              "MRC_ID_DI\n",
              "7            661\n",
              "6            554\n",
              "8            337\n",
              "dtype: int64"
            ]
          },
          "metadata": {
            "tags": []
          },
          "execution_count": 121
        }
      ]
    },
    {
      "cell_type": "markdown",
      "metadata": {
        "id": "ULCEkVh1SdOM"
      },
      "source": [
        "\n",
        "661/(661+554+337)*100=43\n",
        "\n",
        "554/(661+554+337)*100=35.7\n",
        "\n",
        "337/(661+554+337)*100=21.7\n",
        "\n",
        "\n"
      ]
    },
    {
      "cell_type": "markdown",
      "metadata": {
        "id": "coDhjwtWTjeZ"
      },
      "source": [
        "#6,7분류 약 70%정확도\n"
      ]
    },
    {
      "cell_type": "code",
      "metadata": {
        "id": "Q-O0zBpPTl1h",
        "outputId": "b684536b-be25-40fe-cab0-1deff9bbc901",
        "colab": {
          "base_uri": "https://localhost:8080/"
        }
      },
      "source": [
        "x_67=x.loc[y_6.index.tolist()+y_7.index.tolist()]\n",
        "y_67=y.loc[x_67.index.tolist()]\n",
        "print(x_67.shape)\n",
        "print(y_67.shape)\n",
        "x_67=x_67.to_numpy()\n",
        "y_67=y_67.to_numpy()"
      ],
      "execution_count": 125,
      "outputs": [
        {
          "output_type": "stream",
          "text": [
            "(1215, 198)\n",
            "(1215, 1)\n"
          ],
          "name": "stdout"
        }
      ]
    },
    {
      "cell_type": "code",
      "metadata": {
        "id": "VC-aXGYzTtFI"
      },
      "source": [
        "x_67train, x_67test, y_67train, y_67test=x_67[:950], x_67[950:], y_67[:950], y_67[950:]\n",
        "shuffle_index=np.random.permutation(950)\n",
        "x_67train, y_67train=x_67train[shuffle_index], y_67train[shuffle_index]\n",
        "some_digit1=x_67[3]#y_67[3]=6"
      ],
      "execution_count": 127,
      "outputs": []
    },
    {
      "cell_type": "code",
      "metadata": {
        "id": "a8ZVFTR2TuxZ",
        "outputId": "b93854d8-7edb-423a-a493-ac95939b239b",
        "colab": {
          "base_uri": "https://localhost:8080/"
        }
      },
      "source": [
        "#randomforest\n",
        "forest_clf=RandomForestClassifier(random_state=42)\n",
        "forest_clf.fit(x_67train, y_67train)\n",
        "forest_clf.predict([some_digit1])"
      ],
      "execution_count": 128,
      "outputs": [
        {
          "output_type": "execute_result",
          "data": {
            "text/plain": [
              "array([6])"
            ]
          },
          "metadata": {
            "tags": []
          },
          "execution_count": 128
        }
      ]
    },
    {
      "cell_type": "code",
      "metadata": {
        "id": "IW_BAaIWTx8P",
        "outputId": "ae19acec-294c-4cdb-ec20-76f5963f9a68",
        "colab": {
          "base_uri": "https://localhost:8080/"
        }
      },
      "source": [
        "cross_val_score(forest_clf, x_67train, y_67train, cv=3, scoring=\"accuracy\")\n"
      ],
      "execution_count": 129,
      "outputs": [
        {
          "output_type": "execute_result",
          "data": {
            "text/plain": [
              "array([0.70977918, 0.68138801, 0.69936709])"
            ]
          },
          "metadata": {
            "tags": []
          },
          "execution_count": 129
        }
      ]
    },
    {
      "cell_type": "code",
      "metadata": {
        "id": "sY-r5hHpU6Az",
        "outputId": "6bef77de-3653-4ffa-e90c-af618c59f462",
        "colab": {
          "base_uri": "https://localhost:8080/"
        }
      },
      "source": [
        "#sgd_clf\n",
        "sgd_clf.fit(x_67train, y_67train)\n",
        "sgd_clf.predict([some_digit1])"
      ],
      "execution_count": 131,
      "outputs": [
        {
          "output_type": "execute_result",
          "data": {
            "text/plain": [
              "array([6])"
            ]
          },
          "metadata": {
            "tags": []
          },
          "execution_count": 131
        }
      ]
    },
    {
      "cell_type": "code",
      "metadata": {
        "id": "L6tmy_z0VLmD",
        "outputId": "b62251d4-7317-4504-9df3-f0f6ea24f035",
        "colab": {
          "base_uri": "https://localhost:8080/"
        }
      },
      "source": [
        "cross_val_score(sgd_clf, x_67train, y_67train, cv=3, scoring=\"accuracy\")"
      ],
      "execution_count": 132,
      "outputs": [
        {
          "output_type": "execute_result",
          "data": {
            "text/plain": [
              "array([0.53943218, 0.60252366, 0.61708861])"
            ]
          },
          "metadata": {
            "tags": []
          },
          "execution_count": 132
        }
      ]
    },
    {
      "cell_type": "markdown",
      "metadata": {
        "id": "Jqn-r3zjWUyS"
      },
      "source": [
        ""
      ]
    },
    {
      "cell_type": "code",
      "metadata": {
        "id": "jLCeLoBWWUIt",
        "outputId": "2a315e91-c9d8-4606-cfce-16966bed5110",
        "colab": {
          "base_uri": "https://localhost:8080/"
        }
      },
      "source": [
        "y_nozero.value_counts()"
      ],
      "execution_count": 135,
      "outputs": [
        {
          "output_type": "execute_result",
          "data": {
            "text/plain": [
              "MRC_ID_DI\n",
              "7            661\n",
              "6            554\n",
              "8            337\n",
              "5            143\n",
              "1             85\n",
              "9             59\n",
              "3             32\n",
              "10            28\n",
              "2             14\n",
              "4             11\n",
              "dtype: int64"
            ]
          },
          "metadata": {
            "tags": []
          },
          "execution_count": 135
        }
      ]
    },
    {
      "cell_type": "markdown",
      "metadata": {
        "id": "x3sQFRn9XcxG"
      },
      "source": [
        "#2,3,4,9,10"
      ]
    },
    {
      "cell_type": "code",
      "metadata": {
        "id": "gU_A7vwDXnpj",
        "outputId": "3ff7ddc6-2e39-49c4-d0d2-ee33e64697b2",
        "colab": {
          "base_uri": "https://localhost:8080/"
        }
      },
      "source": [
        "x_210=x.loc[y_2.index.tolist()+y_3.index.tolist()+y_4.index.tolist()+y_9.index.tolist()+y_10.index.tolist()]\n",
        "y_210=y.loc[x_210.index.tolist()]\n",
        "print(x_210.shape)\n",
        "print(y_210.shape)\n",
        "x_210=x_210.to_numpy()\n",
        "y_210=y_210.to_numpy()\n",
        "\n",
        "x_210train, x_210test, y_210train, y_210test=x_210[:110], x_210[110:], y_210[:110], y_210[110:]\n",
        "shuffle_index=np.random.permutation(110)\n",
        "x_210train, y_210train=x_210train[shuffle_index], y_210train[shuffle_index]\n",
        "some_digit1=x_210[3]#y_210[3]=2"
      ],
      "execution_count": 137,
      "outputs": [
        {
          "output_type": "stream",
          "text": [
            "(144, 198)\n",
            "(144, 1)\n"
          ],
          "name": "stdout"
        }
      ]
    },
    {
      "cell_type": "code",
      "metadata": {
        "id": "U76i4vUNXnvp",
        "outputId": "42155704-78b0-4584-dede-b0507ce29f6c",
        "colab": {
          "base_uri": "https://localhost:8080/"
        }
      },
      "source": [
        "#randomforest\n",
        "forest_clf=RandomForestClassifier(random_state=42)\n",
        "forest_clf.fit(x_210train, y_210train)\n",
        "forest_clf.predict([some_digit1])"
      ],
      "execution_count": 141,
      "outputs": [
        {
          "output_type": "execute_result",
          "data": {
            "text/plain": [
              "array([2])"
            ]
          },
          "metadata": {
            "tags": []
          },
          "execution_count": 141
        }
      ]
    },
    {
      "cell_type": "code",
      "metadata": {
        "id": "qYZKCAYbXnkI",
        "outputId": "e135f047-3085-48f4-cff6-7a6f89873685",
        "colab": {
          "base_uri": "https://localhost:8080/"
        }
      },
      "source": [
        "cross_val_score(forest_clf, x_210train, y_210train, cv=3, scoring=\"accuracy\")\n"
      ],
      "execution_count": 142,
      "outputs": [
        {
          "output_type": "execute_result",
          "data": {
            "text/plain": [
              "array([0.56756757, 0.56756757, 0.52777778])"
            ]
          },
          "metadata": {
            "tags": []
          },
          "execution_count": 142
        }
      ]
    },
    {
      "cell_type": "code",
      "metadata": {
        "id": "vehpvm4VX0v6",
        "outputId": "c7e393da-f3b6-453d-e8ef-58b1335275da",
        "colab": {
          "base_uri": "https://localhost:8080/"
        }
      },
      "source": [
        "#sgd_clf\n",
        "sgd_clf.fit(x_210train, y_210train)\n",
        "sgd_clf.predict([some_digit1])\n",
        "cross_val_score(sgd_clf, x_210train, y_210train, cv=3, scoring=\"accuracy\")\n"
      ],
      "execution_count": 143,
      "outputs": [
        {
          "output_type": "execute_result",
          "data": {
            "text/plain": [
              "array([0.62162162, 0.43243243, 0.5       ])"
            ]
          },
          "metadata": {
            "tags": []
          },
          "execution_count": 143
        }
      ]
    }
  ]
}