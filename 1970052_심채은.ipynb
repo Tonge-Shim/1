{
  "nbformat": 4,
  "nbformat_minor": 0,
  "metadata": {
    "colab": {
      "name": "1970052_심채은.ipynb",
      "provenance": [],
      "collapsed_sections": [],
      "history_visible": true,
      "include_colab_link": true
    },
    "kernelspec": {
      "name": "python3",
      "display_name": "Python 3"
    }
  },
  "cells": [
    {
      "cell_type": "markdown",
      "metadata": {
        "id": "view-in-github",
        "colab_type": "text"
      },
      "source": [
        "<a href=\"https://colab.research.google.com/github/Tonge-Shim/1/blob/master/1970052_%EC%8B%AC%EC%B1%84%EC%9D%80.ipynb\" target=\"_parent\"><img src=\"https://colab.research.google.com/assets/colab-badge.svg\" alt=\"Open In Colab\"/></a>"
      ]
    },
    {
      "cell_type": "code",
      "metadata": {
        "id": "Dil34lm2V1T6"
      },
      "source": [
        "# import libraries\n",
        "import torch\n",
        "import numpy as np\n",
        "import matplotlib.pyplot as plt\n",
        "import torch.nn as nn\n",
        "from sklearn import datasets\n",
        "import pandas as pd\n",
        "import io"
      ],
      "execution_count": 4,
      "outputs": []
    },
    {
      "cell_type": "markdown",
      "metadata": {
        "id": "BB_0dFbHdrBg"
      },
      "source": [
        "# generating training dataset\n"
      ]
    },
    {
      "cell_type": "code",
      "metadata": {
        "id": "CHqtsBP8du2s",
        "outputId": "20d92249-d816-419d-eafd-3fe47f76132b",
        "colab": {
          "resources": {
            "http://localhost:8080/nbextensions/google.colab/files.js": {
              "data": "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",
              "ok": true,
              "headers": [
                [
                  "content-type",
                  "application/javascript"
                ]
              ],
              "status": 200,
              "status_text": ""
            }
          },
          "base_uri": "https://localhost:8080/",
          "height": 129
        }
      },
      "source": [
        "# upload file with dictionary format, with key as name of uploaded file \n",
        "# and corresponding values as the contens of the file \n",
        "from google.colab import files\n",
        "uploaded_train = files.upload()\n",
        "uploaded_test = files.upload()\n"
      ],
      "execution_count": 2,
      "outputs": [
        {
          "output_type": "display_data",
          "data": {
            "text/html": [
              "\n",
              "     <input type=\"file\" id=\"files-d0a09da3-2379-4dd5-8805-644f895ce7a6\" name=\"files[]\" multiple disabled\n",
              "        style=\"border:none\" />\n",
              "     <output id=\"result-d0a09da3-2379-4dd5-8805-644f895ce7a6\">\n",
              "      Upload widget is only available when the cell has been executed in the\n",
              "      current browser session. Please rerun this cell to enable.\n",
              "      </output>\n",
              "      <script src=\"/nbextensions/google.colab/files.js\"></script> "
            ],
            "text/plain": [
              "<IPython.core.display.HTML object>"
            ]
          },
          "metadata": {
            "tags": []
          }
        },
        {
          "output_type": "stream",
          "text": [
            "Saving Train_Data.txt to Train_Data (1).txt\n"
          ],
          "name": "stdout"
        },
        {
          "output_type": "display_data",
          "data": {
            "text/html": [
              "\n",
              "     <input type=\"file\" id=\"files-52e07e4f-faf5-4d71-993e-4ea76f114499\" name=\"files[]\" multiple disabled\n",
              "        style=\"border:none\" />\n",
              "     <output id=\"result-52e07e4f-faf5-4d71-993e-4ea76f114499\">\n",
              "      Upload widget is only available when the cell has been executed in the\n",
              "      current browser session. Please rerun this cell to enable.\n",
              "      </output>\n",
              "      <script src=\"/nbextensions/google.colab/files.js\"></script> "
            ],
            "text/plain": [
              "<IPython.core.display.HTML object>"
            ]
          },
          "metadata": {
            "tags": []
          }
        },
        {
          "output_type": "stream",
          "text": [
            "Saving Test_Data.txt to Test_Data (1).txt\n"
          ],
          "name": "stdout"
        }
      ]
    },
    {
      "cell_type": "code",
      "metadata": {
        "id": "rlNQjWYg-y6F"
      },
      "source": [
        "# use panda and io pachage to load txt. \n",
        "df_train = pd.read_csv(io.StringIO(uploaded_train['Train_Data.txt'].decode(\"utf-8\")), \n",
        "                       sep=',', names=['ID', 'x1', 'x2', 'x3', 'x4', 'x5', 'x6', 'x7', 'x8', 'x9', 'class'], header=None)\n",
        "#print(df_train)\n",
        "#replace missing value ? with 0\n"
      ],
      "execution_count": 5,
      "outputs": []
    },
    {
      "cell_type": "markdown",
      "metadata": {
        "id": "CXYIBh9jw9Hq"
      },
      "source": [
        "selecting features"
      ]
    },
    {
      "cell_type": "code",
      "metadata": {
        "id": "YsHFLJ9oulM2"
      },
      "source": [
        "X=df_train[['x1', 'x2', 'x3', 'x4', 'x5', 'x6', 'x7', 'x8', 'x9']].replace({'?':0})\n",
        "y = df_train['class'].replace({2:0, 4:1})\n"
      ],
      "execution_count": 6,
      "outputs": []
    },
    {
      "cell_type": "markdown",
      "metadata": {
        "id": "XnTKTYNNz5KX"
      },
      "source": [
        "#1. selectkbest"
      ]
    },
    {
      "cell_type": "code",
      "metadata": {
        "id": "GNm-1uAXw7-j"
      },
      "source": [
        "from sklearn.feature_selection import SelectKBest\n",
        "from sklearn.feature_selection import chi2"
      ],
      "execution_count": null,
      "outputs": []
    },
    {
      "cell_type": "code",
      "metadata": {
        "id": "QrWsiD9jw73D",
        "outputId": "742c0418-4347-4232-d5e7-52018234263d",
        "colab": {
          "base_uri": "https://localhost:8080/",
          "height": 187
        }
      },
      "source": [
        "#apply SelectKBest class to extract top 10 best features\n",
        "bestfeatures = SelectKBest(score_func=chi2, k=9)\n",
        "fit = bestfeatures.fit(X,y)\n",
        "dfscores = pd.DataFrame(fit.scores_)\n",
        "dfcolumns = pd.DataFrame(X.columns)\n",
        "#concat two dataframes for better visualization \n",
        "featureScores = pd.concat([dfcolumns,dfscores],axis=1)\n",
        "featureScores.columns = ['Specs','Score']  #naming the dataframe columns\n",
        "print(featureScores.nlargest(9,'Score'))  #print 10 best features"
      ],
      "execution_count": null,
      "outputs": [
        {
          "output_type": "stream",
          "text": [
            "  Specs        Score\n",
            "5    x6  1221.403569\n",
            "1    x2   863.356466\n",
            "2    x3   837.828128\n",
            "7    x8   745.776302\n",
            "3    x4   606.855977\n",
            "0    x1   527.381572\n",
            "6    x7   380.346755\n",
            "4    x5   355.923564\n",
            "8    x9   186.546032\n"
          ],
          "name": "stdout"
        }
      ]
    },
    {
      "cell_type": "markdown",
      "metadata": {
        "id": "_kPwPmUtz8tC"
      },
      "source": [
        "#2. feature importance"
      ]
    },
    {
      "cell_type": "code",
      "metadata": {
        "id": "U-bb8lOt0BQj"
      },
      "source": [
        "from sklearn.ensemble import ExtraTreesClassifier"
      ],
      "execution_count": null,
      "outputs": []
    },
    {
      "cell_type": "code",
      "metadata": {
        "id": "l4H__Qj70BuH",
        "outputId": "b87ca45c-805b-4003-e8f7-241c89b7b1c3",
        "colab": {
          "base_uri": "https://localhost:8080/",
          "height": 299
        }
      },
      "source": [
        "modelfi = ExtraTreesClassifier( )\n",
        "modelfi.fit(X,y)\n",
        "print(modelfi.feature_importances_) #use inbuilt class feature_importances of tree based classifiers\n",
        "#plot graph of feature importances for better visualization\n",
        "feat_importances = pd.Series(modelfi.feature_importances_, index=X.columns)\n",
        "feat_importances.nlargest(9).plot(kind='barh')\n",
        "plt.show()"
      ],
      "execution_count": null,
      "outputs": [
        {
          "output_type": "stream",
          "text": [
            "[0.14586791 0.15963551 0.1514542  0.05433612 0.05337252 0.25907148\n",
            " 0.06638362 0.09845075 0.01142789]\n"
          ],
          "name": "stdout"
        },
        {
          "output_type": "display_data",
          "data": {
            "image/png": "[encoded data removed]",
            "text/plain": [
              "<Figure size 432x288 with 1 Axes>"
            ]
          },
          "metadata": {
            "tags": [],
            "needs_background": "light"
          }
        }
      ]
    },
    {
      "cell_type": "markdown",
      "metadata": {
        "id": "NmeRSkGG1tfb"
      },
      "source": [
        "consequently, it seems that x6, x2, x3 are the most important features."
      ]
    },
    {
      "cell_type": "code",
      "metadata": {
        "id": "6zWFqQrX2Xof"
      },
      "source": [
        "x_train = torch.Tensor(df_train[['x2', 'x3','x6',  'x1']].replace({'?':0}).values.astype(np.uint8))\n",
        "# class 2 for benign, 4 for malignant -> 0 for bengn, 1 for malignant\n",
        "y_train = torch.Tensor(df_train['class'].replace({2:0, 4:1}).values.astype(np.uint8))\n",
        "#print(y_train)"
      ],
      "execution_count": 7,
      "outputs": []
    },
    {
      "cell_type": "markdown",
      "metadata": {
        "id": "eZbQkpxkhH6G"
      },
      "source": [
        "# Define model class\n",
        "z = w1*x1 + w2*x2 + w3*x3 ....  + w6*x6 + b  -> <br>\n",
        "y = a = sigma(z) -> <br>\n",
        "L(y_hat = a, y)\n"
      ]
    },
    {
      "cell_type": "code",
      "metadata": {
        "id": "GWDgg8yEhFMk",
        "outputId": "bd61bafd-cbe8-4cf6-ae4c-75ec3a7e0f39",
        "colab": {
          "base_uri": "https://localhost:8080/",
          "height": 68
        }
      },
      "source": [
        "class LogisticRegression(nn.Module):\n",
        "  def __init__(self, input_size, output_size):\n",
        "    super().__init__()\n",
        "    self.linear = nn.Linear(input_size, output_size)\n",
        "\n",
        "  def forward(self, x): \n",
        "    pred = torch.sigmoid(self.linear(x))\n",
        "    return pred   #probability (not direct value)\n",
        "\n",
        "  def predict(self, x):\n",
        "    pred = self.forward(x)\n",
        "    if pred >= 0.5:\n",
        "      return 1\n",
        "    else:\n",
        "      return 0\n",
        "\n",
        "\n",
        "# instantiate model class\n",
        "torch.manual_seed(1)\n",
        "model = LogisticRegression(x_train.shape[1], 1) # [500, 6]\n",
        "print(list(model.parameters()))\n",
        "\n"
      ],
      "execution_count": 41,
      "outputs": [
        {
          "output_type": "stream",
          "text": [
            "[Parameter containing:\n",
            "tensor([[ 0.2576, -0.2207, -0.0969,  0.2347]], requires_grad=True), Parameter containing:\n",
            "tensor([-0.4707], requires_grad=True)]\n"
          ],
          "name": "stdout"
        }
      ]
    },
    {
      "cell_type": "markdown",
      "metadata": {
        "id": "08wLbfEljkE8"
      },
      "source": [
        "# function to get model parameters (w1, w2, b)"
      ]
    },
    {
      "cell_type": "code",
      "metadata": {
        "id": "jJX7kArljiPZ"
      },
      "source": [
        "[w, b] = model.parameters()#계수, 절편\n",
        "#print(w) \n",
        "w1, w2, w3, w4= w.view(x_train.shape[1])\n",
        "\n",
        "def get_params():\n",
        "  return (w1.item(), w2.item(), b[0].item())"
      ],
      "execution_count": 9,
      "outputs": []
    },
    {
      "cell_type": "markdown",
      "metadata": {
        "id": "7gkj4yqKlgcA"
      },
      "source": [
        "# training the model "
      ]
    },
    {
      "cell_type": "code",
      "metadata": {
        "id": "xkW2eQbklixb",
        "outputId": "5addcab6-f0fe-4039-b628-3903a66450b3",
        "colab": {
          "base_uri": "https://localhost:8080/",
          "height": 1000
        }
      },
      "source": [
        "# instantitate optimizer \n",
        "criterion = nn.BCELoss()  # = nn.CrossEntropyLoss() # for LR with more than 2 classes\n",
        "optimizer = torch.optim.SGD(model.parameters(), lr=0.02, momentum=0.9 )#여기서 l2파라미터 조정 가능/weight-decay\n",
        "\n",
        "\n",
        "# training the model \n",
        "epochs = 300\n",
        "losses = []\n",
        "\n",
        "for i in range(epochs):\n",
        "  y_pred = model.forward(x_train)\n",
        "\n",
        "  # calculate loss \n",
        "  loss = criterion(y_pred, y_train)\n",
        "  #L1 parameter\n",
        "  [w,b] = model.parameters()\n",
        "  w1, w2, w3, w4= w.view(x_train.shape[1])\n",
        "  lbd=3\n",
        "  L1_reg = lbd * (abs(w1) + abs(w2) + abs(w3)+abs(w4))/(2*len(x_train)) \n",
        "  loss = loss + L1_reg\n",
        "\n",
        "  print(\"epoch: \", i, \"loss: \", loss.item())\n",
        "  losses.append(loss.item())\n",
        "\n",
        "  optimizer.zero_grad() # clear gradients wrt parameters\n",
        "  loss.backward()\n",
        "  optimizer.step()"
      ],
      "execution_count": 42,
      "outputs": [
        {
          "output_type": "stream",
          "text": [
            "/usr/local/lib/python3.6/dist-packages/torch/nn/modules/loss.py:529: UserWarning: Using a target size (torch.Size([500])) that is different to the input size (torch.Size([500, 1])) is deprecated. Please ensure they have the same size.\n",
            "  return F.binary_cross_entropy(input, target, weight=self.weight, reduction=self.reduction)\n"
          ],
          "name": "stderr"
        },
        {
          "output_type": "stream",
          "text": [
            "epoch:  0 loss:  0.6495049595832825\n",
            "epoch:  1 loss:  0.6352598667144775\n",
            "epoch:  2 loss:  0.6162009835243225\n",
            "epoch:  3 loss:  0.5978875160217285\n",
            "epoch:  4 loss:  0.5788801908493042\n",
            "epoch:  5 loss:  0.556433916091919\n",
            "epoch:  6 loss:  0.5304853916168213\n",
            "epoch:  7 loss:  0.504489541053772\n",
            "epoch:  8 loss:  0.4826498031616211\n",
            "epoch:  9 loss:  0.4666847884654999\n",
            "epoch:  10 loss:  0.45451751351356506\n",
            "epoch:  11 loss:  0.44296029210090637\n",
            "epoch:  12 loss:  0.43137961626052856\n",
            "epoch:  13 loss:  0.42120909690856934\n",
            "epoch:  14 loss:  0.41360214352607727\n",
            "epoch:  15 loss:  0.4083595275878906\n",
            "epoch:  16 loss:  0.40446382761001587\n",
            "epoch:  17 loss:  0.40093082189559937\n",
            "epoch:  18 loss:  0.3972474932670593\n",
            "epoch:  19 loss:  0.3933872580528259\n",
            "epoch:  20 loss:  0.38962024450302124\n",
            "epoch:  21 loss:  0.38612625002861023\n",
            "epoch:  22 loss:  0.38296762108802795\n",
            "epoch:  23 loss:  0.37999966740608215\n",
            "epoch:  24 loss:  0.37697574496269226\n",
            "epoch:  25 loss:  0.37370190024375916\n",
            "epoch:  26 loss:  0.37013697624206543\n",
            "epoch:  27 loss:  0.36638516187667847\n",
            "epoch:  28 loss:  0.3626067042350769\n",
            "epoch:  29 loss:  0.35891762375831604\n",
            "epoch:  30 loss:  0.3553447127342224\n",
            "epoch:  31 loss:  0.35183918476104736\n",
            "epoch:  32 loss:  0.34832894802093506\n",
            "epoch:  33 loss:  0.3447684049606323\n",
            "epoch:  34 loss:  0.3411625921726227\n",
            "epoch:  35 loss:  0.33756065368652344\n",
            "epoch:  36 loss:  0.3340267241001129\n",
            "epoch:  37 loss:  0.33060866594314575\n",
            "epoch:  38 loss:  0.32731783390045166\n",
            "epoch:  39 loss:  0.32413122057914734\n",
            "epoch:  40 loss:  0.32101204991340637\n",
            "epoch:  41 loss:  0.3179338872432709\n",
            "epoch:  42 loss:  0.3148953914642334\n",
            "epoch:  43 loss:  0.3119168281555176\n",
            "epoch:  44 loss:  0.3090249300003052\n",
            "epoch:  45 loss:  0.3062358796596527\n",
            "epoch:  46 loss:  0.303547739982605\n",
            "epoch:  47 loss:  0.30094432830810547\n",
            "epoch:  48 loss:  0.29840677976608276\n",
            "epoch:  49 loss:  0.29592177271842957\n",
            "epoch:  50 loss:  0.29348844289779663\n",
            "epoch:  51 loss:  0.29111358523368835\n",
            "epoch:  52 loss:  0.28880640864372253\n",
            "epoch:  53 loss:  0.28657078742980957\n",
            "epoch:  54 loss:  0.28440314531326294\n",
            "epoch:  55 loss:  0.2822946310043335\n",
            "epoch:  56 loss:  0.2802351415157318\n",
            "epoch:  57 loss:  0.2782188951969147\n",
            "epoch:  58 loss:  0.27624523639678955\n",
            "epoch:  59 loss:  0.2743169069290161\n",
            "epoch:  60 loss:  0.272437185049057\n",
            "epoch:  61 loss:  0.2706061601638794\n",
            "epoch:  62 loss:  0.2688209116458893\n",
            "epoch:  63 loss:  0.26707667112350464\n",
            "epoch:  64 loss:  0.265368789434433\n",
            "epoch:  65 loss:  0.2636945843696594\n",
            "epoch:  66 loss:  0.2620534598827362\n",
            "epoch:  67 loss:  0.26044636964797974\n",
            "epoch:  68 loss:  0.25887349247932434\n",
            "epoch:  69 loss:  0.2573345899581909\n",
            "epoch:  70 loss:  0.25582757592201233\n",
            "epoch:  71 loss:  0.2543502151966095\n",
            "epoch:  72 loss:  0.2529001235961914\n",
            "epoch:  73 loss:  0.25147590041160583\n",
            "epoch:  74 loss:  0.2500773072242737\n",
            "epoch:  75 loss:  0.2487042099237442\n",
            "epoch:  76 loss:  0.24735663831233978\n",
            "epoch:  77 loss:  0.24603421986103058\n",
            "epoch:  78 loss:  0.24473589658737183\n",
            "epoch:  79 loss:  0.24346064031124115\n",
            "epoch:  80 loss:  0.24220725893974304\n",
            "epoch:  81 loss:  0.24097511172294617\n",
            "epoch:  82 loss:  0.23976384103298187\n",
            "epoch:  83 loss:  0.23857328295707703\n",
            "epoch:  84 loss:  0.2374032735824585\n",
            "epoch:  85 loss:  0.23625345528125763\n",
            "epoch:  86 loss:  0.2351234406232834\n",
            "epoch:  87 loss:  0.23401251435279846\n",
            "epoch:  88 loss:  0.23292018473148346\n",
            "epoch:  89 loss:  0.23184581100940704\n",
            "epoch:  90 loss:  0.23078909516334534\n",
            "epoch:  91 loss:  0.2297498732805252\n",
            "epoch:  92 loss:  0.2287277728319168\n",
            "epoch:  93 loss:  0.22772251069545746\n",
            "epoch:  94 loss:  0.2267337441444397\n",
            "epoch:  95 loss:  0.2257610261440277\n",
            "epoch:  96 loss:  0.22480401396751404\n",
            "epoch:  97 loss:  0.2238621711730957\n",
            "epoch:  98 loss:  0.22293516993522644\n",
            "epoch:  99 loss:  0.22202277183532715\n",
            "epoch:  100 loss:  0.22112466394901276\n",
            "epoch:  101 loss:  0.2202405482530594\n",
            "epoch:  102 loss:  0.21937008202075958\n",
            "epoch:  103 loss:  0.21851305663585663\n",
            "epoch:  104 loss:  0.2176690250635147\n",
            "epoch:  105 loss:  0.21683770418167114\n",
            "epoch:  106 loss:  0.2160187065601349\n",
            "epoch:  107 loss:  0.21521194279193878\n",
            "epoch:  108 loss:  0.21441742777824402\n",
            "epoch:  109 loss:  0.21364377439022064\n",
            "epoch:  110 loss:  0.21288172900676727\n",
            "epoch:  111 loss:  0.21213126182556152\n",
            "epoch:  112 loss:  0.21139207482337952\n",
            "epoch:  113 loss:  0.21066409349441528\n",
            "epoch:  114 loss:  0.20994703471660614\n",
            "epoch:  115 loss:  0.20924057066440582\n",
            "epoch:  116 loss:  0.20854444801807404\n",
            "epoch:  117 loss:  0.2078583687543869\n",
            "epoch:  118 loss:  0.2071821391582489\n",
            "epoch:  119 loss:  0.20651541650295258\n",
            "epoch:  120 loss:  0.20585821568965912\n",
            "epoch:  121 loss:  0.20521026849746704\n",
            "epoch:  122 loss:  0.20457158982753754\n",
            "epoch:  123 loss:  0.20394167304039001\n",
            "epoch:  124 loss:  0.20332051813602448\n",
            "epoch:  125 loss:  0.20270781219005585\n",
            "epoch:  126 loss:  0.20210343599319458\n",
            "epoch:  127 loss:  0.2015070766210556\n",
            "epoch:  128 loss:  0.20091870427131653\n",
            "epoch:  129 loss:  0.20033815503120422\n",
            "epoch:  130 loss:  0.1997651755809784\n",
            "epoch:  131 loss:  0.19919967651367188\n",
            "epoch:  132 loss:  0.19864150881767273\n",
            "epoch:  133 loss:  0.19809049367904663\n",
            "epoch:  134 loss:  0.19754649698734283\n",
            "epoch:  135 loss:  0.19700933992862701\n",
            "epoch:  136 loss:  0.1964789479970932\n",
            "epoch:  137 loss:  0.1959550976753235\n",
            "epoch:  138 loss:  0.19543775916099548\n",
            "epoch:  139 loss:  0.19492679834365845\n",
            "epoch:  140 loss:  0.19442205131053925\n",
            "epoch:  141 loss:  0.19392338395118713\n",
            "epoch:  142 loss:  0.1934308111667633\n",
            "epoch:  143 loss:  0.19294410943984985\n",
            "epoch:  144 loss:  0.19246309995651245\n",
            "epoch:  145 loss:  0.19198787212371826\n",
            "epoch:  146 loss:  0.19151827692985535\n",
            "epoch:  147 loss:  0.19105412065982819\n",
            "epoch:  148 loss:  0.1905953586101532\n",
            "epoch:  149 loss:  0.19014185667037964\n",
            "epoch:  150 loss:  0.18969370424747467\n",
            "epoch:  151 loss:  0.18925060331821442\n",
            "epoch:  152 loss:  0.18881243467330933\n",
            "epoch:  153 loss:  0.1883794367313385\n",
            "epoch:  154 loss:  0.1879512071609497\n",
            "epoch:  155 loss:  0.1875278353691101\n",
            "epoch:  156 loss:  0.1871090978384018\n",
            "epoch:  157 loss:  0.18669509887695312\n",
            "epoch:  158 loss:  0.186285600066185\n",
            "epoch:  159 loss:  0.18588069081306458\n",
            "epoch:  160 loss:  0.18548008799552917\n",
            "epoch:  161 loss:  0.18508398532867432\n",
            "epoch:  162 loss:  0.18469205498695374\n",
            "epoch:  163 loss:  0.184304341673851\n",
            "epoch:  164 loss:  0.18392081558704376\n",
            "epoch:  165 loss:  0.183541402220726\n",
            "epoch:  166 loss:  0.1831660121679306\n",
            "epoch:  167 loss:  0.18279457092285156\n",
            "epoch:  168 loss:  0.18242709338665009\n",
            "epoch:  169 loss:  0.18206338584423065\n",
            "epoch:  170 loss:  0.18170347809791565\n",
            "epoch:  171 loss:  0.18134728074073792\n",
            "epoch:  172 loss:  0.18099480867385864\n",
            "epoch:  173 loss:  0.1806459277868271\n",
            "epoch:  174 loss:  0.18030060827732086\n",
            "epoch:  175 loss:  0.17995889484882355\n",
            "epoch:  176 loss:  0.17962048947811127\n",
            "epoch:  177 loss:  0.17928563058376312\n",
            "epoch:  178 loss:  0.1789540946483612\n",
            "epoch:  179 loss:  0.17862579226493835\n",
            "epoch:  180 loss:  0.17830081284046173\n",
            "epoch:  181 loss:  0.17797914147377014\n",
            "epoch:  182 loss:  0.1776604950428009\n",
            "epoch:  183 loss:  0.17734503746032715\n",
            "epoch:  184 loss:  0.1770326793193817\n",
            "epoch:  185 loss:  0.17672337591648102\n",
            "epoch:  186 loss:  0.1764170527458191\n",
            "epoch:  187 loss:  0.17611365020275116\n",
            "epoch:  188 loss:  0.1758132427930832\n",
            "epoch:  189 loss:  0.17551560699939728\n",
            "epoch:  190 loss:  0.17522089183330536\n",
            "epoch:  191 loss:  0.17492890357971191\n",
            "epoch:  192 loss:  0.1746397465467453\n",
            "epoch:  193 loss:  0.17435325682163239\n",
            "epoch:  194 loss:  0.17406946420669556\n",
            "epoch:  195 loss:  0.17378832399845123\n",
            "epoch:  196 loss:  0.17350977659225464\n",
            "epoch:  197 loss:  0.17323383688926697\n",
            "epoch:  198 loss:  0.17296038568019867\n",
            "epoch:  199 loss:  0.1726895272731781\n",
            "epoch:  200 loss:  0.17242111265659332\n",
            "epoch:  201 loss:  0.17215515673160553\n",
            "epoch:  202 loss:  0.17189154028892517\n",
            "epoch:  203 loss:  0.17163032293319702\n",
            "epoch:  204 loss:  0.17137151956558228\n",
            "epoch:  205 loss:  0.1711149364709854\n",
            "epoch:  206 loss:  0.17086072266101837\n",
            "epoch:  207 loss:  0.1706087589263916\n",
            "epoch:  208 loss:  0.17035897076129913\n",
            "epoch:  209 loss:  0.17011147737503052\n",
            "epoch:  210 loss:  0.16986605525016785\n",
            "epoch:  211 loss:  0.16962282359600067\n",
            "epoch:  212 loss:  0.1693817526102066\n",
            "epoch:  213 loss:  0.1691426932811737\n",
            "epoch:  214 loss:  0.16890577971935272\n",
            "epoch:  215 loss:  0.1686708927154541\n",
            "epoch:  216 loss:  0.16843804717063904\n",
            "epoch:  217 loss:  0.16820715367794037\n",
            "epoch:  218 loss:  0.1679782122373581\n",
            "epoch:  219 loss:  0.1677512675523758\n",
            "epoch:  220 loss:  0.16752620041370392\n",
            "epoch:  221 loss:  0.16730310022830963\n",
            "epoch:  222 loss:  0.16708174347877502\n",
            "epoch:  223 loss:  0.16686229407787323\n",
            "epoch:  224 loss:  0.16664475202560425\n",
            "epoch:  225 loss:  0.16642890870571136\n",
            "epoch:  226 loss:  0.16621485352516174\n",
            "epoch:  227 loss:  0.16600264608860016\n",
            "epoch:  228 loss:  0.16579218208789825\n",
            "epoch:  229 loss:  0.16558335721492767\n",
            "epoch:  230 loss:  0.16537630558013916\n",
            "epoch:  231 loss:  0.16517090797424316\n",
            "epoch:  232 loss:  0.16496717929840088\n",
            "epoch:  233 loss:  0.16476505994796753\n",
            "epoch:  234 loss:  0.1645645797252655\n",
            "epoch:  235 loss:  0.164365753531456\n",
            "epoch:  236 loss:  0.16416849195957184\n",
            "epoch:  237 loss:  0.163972869515419\n",
            "epoch:  238 loss:  0.1637786328792572\n",
            "epoch:  239 loss:  0.16358605027198792\n",
            "epoch:  240 loss:  0.163394957780838\n",
            "epoch:  241 loss:  0.16320538520812988\n",
            "epoch:  242 loss:  0.16301727294921875\n",
            "epoch:  243 loss:  0.16283057630062103\n",
            "epoch:  244 loss:  0.16264542937278748\n",
            "epoch:  245 loss:  0.16246166825294495\n",
            "epoch:  246 loss:  0.16227935254573822\n",
            "epoch:  247 loss:  0.1620984673500061\n",
            "epoch:  248 loss:  0.16191884875297546\n",
            "epoch:  249 loss:  0.1617407202720642\n",
            "epoch:  250 loss:  0.1615639179944992\n",
            "epoch:  251 loss:  0.16138842701911926\n",
            "epoch:  252 loss:  0.16121427714824677\n",
            "epoch:  253 loss:  0.16104142367839813\n",
            "epoch:  254 loss:  0.16086998581886292\n",
            "epoch:  255 loss:  0.160699725151062\n",
            "epoch:  256 loss:  0.16053077578544617\n",
            "epoch:  257 loss:  0.1603630632162094\n",
            "epoch:  258 loss:  0.16019660234451294\n",
            "epoch:  259 loss:  0.16003134846687317\n",
            "epoch:  260 loss:  0.1598673313856125\n",
            "epoch:  261 loss:  0.1597045511007309\n",
            "epoch:  262 loss:  0.15954293310642242\n",
            "epoch:  263 loss:  0.15938249230384827\n",
            "epoch:  264 loss:  0.15922321379184723\n",
            "epoch:  265 loss:  0.1590651422739029\n",
            "epoch:  266 loss:  0.15890821814537048\n",
            "epoch:  267 loss:  0.15875233709812164\n",
            "epoch:  268 loss:  0.15859758853912354\n",
            "epoch:  269 loss:  0.15844401717185974\n",
            "epoch:  270 loss:  0.15829156339168549\n",
            "epoch:  271 loss:  0.15814009308815002\n",
            "epoch:  272 loss:  0.15798981487751007\n",
            "epoch:  273 loss:  0.1578405648469925\n",
            "epoch:  274 loss:  0.15769228339195251\n",
            "epoch:  275 loss:  0.15754514932632446\n",
            "epoch:  276 loss:  0.15739907324314117\n",
            "epoch:  277 loss:  0.1572539061307907\n",
            "epoch:  278 loss:  0.1571098268032074\n",
            "epoch:  279 loss:  0.1569666862487793\n",
            "epoch:  280 loss:  0.15682467818260193\n",
            "epoch:  281 loss:  0.1566835194826126\n",
            "epoch:  282 loss:  0.15654337406158447\n",
            "epoch:  283 loss:  0.15640421211719513\n",
            "epoch:  284 loss:  0.1562660038471222\n",
            "epoch:  285 loss:  0.1561286747455597\n",
            "epoch:  286 loss:  0.15599237382411957\n",
            "epoch:  287 loss:  0.15585696697235107\n",
            "epoch:  288 loss:  0.1557224988937378\n",
            "epoch:  289 loss:  0.15558889508247375\n",
            "epoch:  290 loss:  0.15545617043972015\n",
            "epoch:  291 loss:  0.15532442927360535\n",
            "epoch:  292 loss:  0.155193492770195\n",
            "epoch:  293 loss:  0.1550634801387787\n",
            "epoch:  294 loss:  0.1549343317747116\n",
            "epoch:  295 loss:  0.1548060029745102\n",
            "epoch:  296 loss:  0.1546785980463028\n",
            "epoch:  297 loss:  0.15455198287963867\n",
            "epoch:  298 loss:  0.1544262021780014\n",
            "epoch:  299 loss:  0.1543012261390686\n"
          ],
          "name": "stdout"
        }
      ]
    },
    {
      "cell_type": "code",
      "metadata": {
        "id": "rYkUBuB2lfiU",
        "outputId": "a737ed0a-3e43-4121-fc2e-ab2640b462a3",
        "colab": {
          "base_uri": "https://localhost:8080/",
          "height": 279
        }
      },
      "source": [
        "# log loss\n",
        "plt.plot(range(epochs), losses)\n",
        "plt.xlabel('epoch')\n",
        "plt.ylabel('loss')\n",
        "plt.grid()\n"
      ],
      "execution_count": 29,
      "outputs": [
        {
          "output_type": "display_data",
          "data": {
            "image/png": "[encoded data removed]",
            "text/plain": [
              "<Figure size 432x288 with 1 Axes>"
            ]
          },
          "metadata": {
            "tags": [],
            "needs_background": "light"
          }
        }
      ]
    },
    {
      "cell_type": "markdown",
      "metadata": {
        "id": "80NQ8m48n8fM"
      },
      "source": [
        "# model evalation with new datasets the model has never seen before"
      ]
    },
    {
      "cell_type": "code",
      "metadata": {
        "id": "ReUhXQhwFygw"
      },
      "source": [
        "# use panda and io pachage to load txt. \n",
        "df_test = pd.read_csv(io.StringIO(uploaded_test['Test_Data.txt'].decode(\"utf-8\")), \n",
        "                       sep=',', names=['ID', 'x1', 'x2', 'x3', 'x4', 'x5', 'x6', 'x7', 'x8', 'x9', 'class'], header=None)\n",
        "#print(df_test)\n",
        "#replace missing value ? with 0\n",
        "x_test = torch.Tensor(df_test[[ 'x2', 'x3', 'x6', 'x1']].replace({'?':0}).values.astype(np.uint8))\n",
        "# class 2 for benign, 4 for malignant -> 0 for bengn, 1 for malignant\n",
        "y_test = torch.Tensor(df_test['class'].replace({2:0, 4:1}).values.astype(np.uint8))\n",
        "#print(y_test)"
      ],
      "execution_count": 43,
      "outputs": []
    },
    {
      "cell_type": "code",
      "metadata": {
        "id": "eZcMsmzQHERY",
        "outputId": "7d875906-c1a7-415c-814d-ef088c63935a",
        "colab": {
          "base_uri": "https://localhost:8080/",
          "height": 51
        }
      },
      "source": [
        "#model test w/ all test datasets\n",
        "no_correct = 0\n",
        "for i in range(len(x_train)):\n",
        "  if model.predict(x_train[i]) == y_train[i]:\n",
        "    no_correct += 1\n",
        "\n",
        "\n",
        "accuracy = no_correct/len(x_train)*100\n",
        "print(\"Predcition accuracy_train= {}%\".format(accuracy))\n",
        "\n",
        "no_correct_test=0\n",
        "for i in range(len(x_test)):\n",
        "  if model.predict(x_test[i]) == y_test[i]:\n",
        "    no_correct_test += 1\n",
        "\n",
        "accuracy = no_correct_test/len(x_test)*100\n",
        "\n",
        "print(\"Predcition accuracy_test= {}%\".format(accuracy))"
      ],
      "execution_count": 44,
      "outputs": [
        {
          "output_type": "stream",
          "text": [
            "Predcition accuracy_train= 94.8%\n",
            "Predcition accuracy_test= 99.49748743718592%\n"
          ],
          "name": "stdout"
        }
      ]
    },
    {
      "cell_type": "code",
      "metadata": {
        "id": "oahQOE2mn7pT"
      },
      "source": [
        ""
      ],
      "execution_count": null,
      "outputs": []
    }
  ]
}