{
  "nbformat": 4,
  "nbformat_minor": 0,
  "metadata": {
    "colab": {
      "name": "1970052_심채은.ipynb",
      "provenance": [],
      "collapsed_sections": [],
      "history_visible": true,
      "include_colab_link": true
    },
    "kernelspec": {
      "name": "python3",
      "display_name": "Python 3"
    }
  },
  "cells": [
    {
      "cell_type": "markdown",
      "metadata": {
        "id": "view-in-github",
        "colab_type": "text"
      },
      "source": [
        "<a href=\"https://colab.research.google.com/github/Tonge-Shim/1/blob/master/1970052_%EC%8B%AC%EC%B1%84%EC%9D%80.ipynb\" target=\"_parent\"><img src=\"https://colab.research.google.com/assets/colab-badge.svg\" alt=\"Open In Colab\"/></a>"
      ]
    },
    {
      "cell_type": "code",
      "metadata": {
        "id": "Dil34lm2V1T6"
      },
      "source": [
        "# import libraries\n",
        "import torch\n",
        "import numpy as np\n",
        "import matplotlib.pyplot as plt\n",
        "import torch.nn as nn\n",
        "from sklearn import datasets\n",
        "import pandas as pd\n",
        "import io"
      ],
      "execution_count": 1,
      "outputs": []
    },
    {
      "cell_type": "markdown",
      "metadata": {
        "id": "BB_0dFbHdrBg"
      },
      "source": [
        "# generating training dataset\n"
      ]
    },
    {
      "cell_type": "code",
      "metadata": {
        "id": "CHqtsBP8du2s",
        "outputId": "4435450a-3f42-4e7b-9b1f-8a5ec9aed819",
        "colab": {
          "resources": {
            "http://localhost:8080/nbextensions/google.colab/files.js": {
              "data": "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",
              "ok": true,
              "headers": [
                [
                  "content-type",
                  "application/javascript"
                ]
              ],
              "status": 200,
              "status_text": ""
            }
          },
          "base_uri": "https://localhost:8080/",
          "height": 129
        }
      },
      "source": [
        "# upload file with dictionary format, with key as name of uploaded file \n",
        "# and corresponding values as the contens of the file \n",
        "from google.colab import files\n",
        "uploaded_train = files.upload()\n",
        "uploaded_test = files.upload()\n"
      ],
      "execution_count": 4,
      "outputs": [
        {
          "output_type": "display_data",
          "data": {
            "text/html": [
              "\n",
              "     <input type=\"file\" id=\"files-23a6c089-323e-4cc9-8cbf-3407bf7d5fa8\" name=\"files[]\" multiple disabled\n",
              "        style=\"border:none\" />\n",
              "     <output id=\"result-23a6c089-323e-4cc9-8cbf-3407bf7d5fa8\">\n",
              "      Upload widget is only available when the cell has been executed in the\n",
              "      current browser session. Please rerun this cell to enable.\n",
              "      </output>\n",
              "      <script src=\"/nbextensions/google.colab/files.js\"></script> "
            ],
            "text/plain": [
              "<IPython.core.display.HTML object>"
            ]
          },
          "metadata": {
            "tags": []
          }
        },
        {
          "output_type": "stream",
          "text": [
            "Saving Train_Data.txt to Train_Data.txt\n"
          ],
          "name": "stdout"
        },
        {
          "output_type": "display_data",
          "data": {
            "text/html": [
              "\n",
              "     <input type=\"file\" id=\"files-c2e9b1ec-9336-4000-a5dc-3f273b7fa38b\" name=\"files[]\" multiple disabled\n",
              "        style=\"border:none\" />\n",
              "     <output id=\"result-c2e9b1ec-9336-4000-a5dc-3f273b7fa38b\">\n",
              "      Upload widget is only available when the cell has been executed in the\n",
              "      current browser session. Please rerun this cell to enable.\n",
              "      </output>\n",
              "      <script src=\"/nbextensions/google.colab/files.js\"></script> "
            ],
            "text/plain": [
              "<IPython.core.display.HTML object>"
            ]
          },
          "metadata": {
            "tags": []
          }
        },
        {
          "output_type": "stream",
          "text": [
            "Saving Test_Data.txt to Test_Data.txt\n"
          ],
          "name": "stdout"
        }
      ]
    },
    {
      "cell_type": "code",
      "metadata": {
        "id": "rlNQjWYg-y6F"
      },
      "source": [
        "# use panda and io pachage to load txt. \n",
        "df_train = pd.read_csv(io.StringIO(uploaded_train['Train_Data.txt'].decode(\"utf-8\")), \n",
        "                       sep=',', names=['ID', 'x1', 'x2', 'x3', 'x4', 'x5', 'x6', 'x7', 'x8', 'x9', 'class'], header=None)\n",
        "#print(df_train)\n",
        "#replace missing value ? with 0\n"
      ],
      "execution_count": 6,
      "outputs": []
    },
    {
      "cell_type": "markdown",
      "metadata": {
        "id": "CXYIBh9jw9Hq"
      },
      "source": [
        "selecting features"
      ]
    },
    {
      "cell_type": "code",
      "metadata": {
        "id": "YsHFLJ9oulM2"
      },
      "source": [
        "X=df_train[['x1', 'x2', 'x3', 'x4', 'x5', 'x6', 'x7', 'x8', 'x9']].replace({'?':0})\n",
        "y = df_train['class'].replace({2:0, 4:1})\n"
      ],
      "execution_count": 7,
      "outputs": []
    },
    {
      "cell_type": "markdown",
      "metadata": {
        "id": "XnTKTYNNz5KX"
      },
      "source": [
        "#1. selectkbest"
      ]
    },
    {
      "cell_type": "code",
      "metadata": {
        "id": "GNm-1uAXw7-j"
      },
      "source": [
        "from sklearn.feature_selection import SelectKBest\n",
        "from sklearn.feature_selection import chi2"
      ],
      "execution_count": 11,
      "outputs": []
    },
    {
      "cell_type": "code",
      "metadata": {
        "id": "QrWsiD9jw73D",
        "outputId": "742c0418-4347-4232-d5e7-52018234263d",
        "colab": {
          "base_uri": "https://localhost:8080/",
          "height": 187
        }
      },
      "source": [
        "#apply SelectKBest class to extract top 10 best features\n",
        "bestfeatures = SelectKBest(score_func=chi2, k=9)\n",
        "fit = bestfeatures.fit(X,y)\n",
        "dfscores = pd.DataFrame(fit.scores_)\n",
        "dfcolumns = pd.DataFrame(X.columns)\n",
        "#concat two dataframes for better visualization \n",
        "featureScores = pd.concat([dfcolumns,dfscores],axis=1)\n",
        "featureScores.columns = ['Specs','Score']  #naming the dataframe columns\n",
        "print(featureScores.nlargest(9,'Score'))  #print 10 best features"
      ],
      "execution_count": 17,
      "outputs": [
        {
          "output_type": "stream",
          "text": [
            "  Specs        Score\n",
            "5    x6  1221.403569\n",
            "1    x2   863.356466\n",
            "2    x3   837.828128\n",
            "7    x8   745.776302\n",
            "3    x4   606.855977\n",
            "0    x1   527.381572\n",
            "6    x7   380.346755\n",
            "4    x5   355.923564\n",
            "8    x9   186.546032\n"
          ],
          "name": "stdout"
        }
      ]
    },
    {
      "cell_type": "markdown",
      "metadata": {
        "id": "_kPwPmUtz8tC"
      },
      "source": [
        "#2. feature importance"
      ]
    },
    {
      "cell_type": "code",
      "metadata": {
        "id": "U-bb8lOt0BQj"
      },
      "source": [
        "from sklearn.ensemble import ExtraTreesClassifier"
      ],
      "execution_count": 18,
      "outputs": []
    },
    {
      "cell_type": "code",
      "metadata": {
        "id": "l4H__Qj70BuH",
        "outputId": "b87ca45c-805b-4003-e8f7-241c89b7b1c3",
        "colab": {
          "base_uri": "https://localhost:8080/",
          "height": 299
        }
      },
      "source": [
        "modelfi = ExtraTreesClassifier( )\n",
        "modelfi.fit(X,y)\n",
        "print(modelfi.feature_importances_) #use inbuilt class feature_importances of tree based classifiers\n",
        "#plot graph of feature importances for better visualization\n",
        "feat_importances = pd.Series(modelfi.feature_importances_, index=X.columns)\n",
        "feat_importances.nlargest(9).plot(kind='barh')\n",
        "plt.show()"
      ],
      "execution_count": 23,
      "outputs": [
        {
          "output_type": "stream",
          "text": [
            "[0.14586791 0.15963551 0.1514542  0.05433612 0.05337252 0.25907148\n",
            " 0.06638362 0.09845075 0.01142789]\n"
          ],
          "name": "stdout"
        },
        {
          "output_type": "display_data",
          "data": {
            "image/png": "[encoded data removed]",
            "text/plain": [
              "<Figure size 432x288 with 1 Axes>"
            ]
          },
          "metadata": {
            "tags": [],
            "needs_background": "light"
          }
        }
      ]
    },
    {
      "cell_type": "markdown",
      "metadata": {
        "id": "NmeRSkGG1tfb"
      },
      "source": [
        "consequently, it seems that x6, x2, x3 are the most important features."
      ]
    },
    {
      "cell_type": "code",
      "metadata": {
        "id": "6zWFqQrX2Xof"
      },
      "source": [
        "x_train = torch.Tensor(df_train[['x2', 'x3','x6',  'x1']].replace({'?':0}).values.astype(np.uint8))\n",
        "# class 2 for benign, 4 for malignant -> 0 for bengn, 1 for malignant\n",
        "y_train = torch.Tensor(df_train['class'].replace({2:0, 4:1}).values.astype(np.uint8))\n",
        "#print(y_train)"
      ],
      "execution_count": 24,
      "outputs": []
    },
    {
      "cell_type": "markdown",
      "metadata": {
        "id": "eZbQkpxkhH6G"
      },
      "source": [
        "# Define model class\n",
        "z = w1*x1 + w2*x2 + w3*x3 ....  + w6*x6 + b  -> <br>\n",
        "y = a = sigma(z) -> <br>\n",
        "L(y_hat = a, y)\n"
      ]
    },
    {
      "cell_type": "code",
      "metadata": {
        "id": "GWDgg8yEhFMk",
        "outputId": "d78c53d7-564c-4c27-ab39-682a7fd0f8ae",
        "colab": {
          "base_uri": "https://localhost:8080/",
          "height": 68
        }
      },
      "source": [
        "class LogisticRegression(nn.Module):\n",
        "  def __init__(self, input_size, output_size):\n",
        "    super().__init__()\n",
        "    self.linear = nn.Linear(input_size, output_size)\n",
        "\n",
        "  def forward(self, x): \n",
        "    pred = torch.sigmoid(self.linear(x))\n",
        "    return pred   #probability (not direct value)\n",
        "\n",
        "  def predict(self, x):\n",
        "    pred = self.forward(x)\n",
        "    if pred >= 0.5:\n",
        "      return 1\n",
        "    else:\n",
        "      return 0\n",
        "\n",
        "\n",
        "# instantiate model class\n",
        "torch.manual_seed(1)\n",
        "model = LogisticRegression(x_train.shape[1], 1) # [500, 6]\n",
        "print(list(model.parameters()))\n",
        "\n"
      ],
      "execution_count": 164,
      "outputs": [
        {
          "output_type": "stream",
          "text": [
            "[Parameter containing:\n",
            "tensor([[ 0.2576, -0.2207, -0.0969,  0.2347]], requires_grad=True), Parameter containing:\n",
            "tensor([-0.4707], requires_grad=True)]\n"
          ],
          "name": "stdout"
        }
      ]
    },
    {
      "cell_type": "markdown",
      "metadata": {
        "id": "08wLbfEljkE8"
      },
      "source": [
        "# function to get model parameters (w1, w2, b)"
      ]
    },
    {
      "cell_type": "code",
      "metadata": {
        "id": "jJX7kArljiPZ"
      },
      "source": [
        "[w, b] = model.parameters()#계수, 절편\n",
        "#print(w) \n",
        "w1, w2, w3, w4= w.view(x_train.shape[1])\n",
        "\n",
        "def get_params():\n",
        "  return (w1.item(), w2.item(), b[0].item())"
      ],
      "execution_count": 120,
      "outputs": []
    },
    {
      "cell_type": "markdown",
      "metadata": {
        "id": "7gkj4yqKlgcA"
      },
      "source": [
        "# training the model "
      ]
    },
    {
      "cell_type": "code",
      "metadata": {
        "id": "xkW2eQbklixb",
        "outputId": "85811c17-347e-498e-a43c-fac42365c0a1",
        "colab": {
          "base_uri": "https://localhost:8080/",
          "height": 1000
        }
      },
      "source": [
        "# instantitate optimizer \n",
        "criterion = nn.BCELoss()  # = nn.CrossEntropyLoss() # for LR with more than 2 classes\n",
        "optimizer = torch.optim.SGD(model.parameters(), lr=0.02, momentum=0.9 )#여기서 l2파라미터 조정 가능/weight-decay\n",
        "\n",
        "\n",
        "# training the model \n",
        "epochs = 300\n",
        "losses = []\n",
        "\n",
        "for i in range(epochs):\n",
        "  y_pred = model.forward(x_train)\n",
        "\n",
        "  # calculrate loss \n",
        "  loss = criterion(y_pred, y_train)\n",
        "  #L1 parameter\n",
        "  [w,b] = model.parameters()\n",
        "  w1, w2, w3, w4= w.view(x_train.shape[1])\n",
        "  lbd=0.11\n",
        "  L1_reg = lbd * (abs(w1) + abs(w2) + abs(w3)+abs(w4))#/(2*len(x_train)) \n",
        "  #L1_reg = 0\n",
        "  loss = loss + L1_reg\n",
        "\n",
        "  print(\"epoch: \", i, \"loss: \", loss.item())\n",
        "  losses.append(loss.item())\n",
        "\n",
        "  optimizer.zero_grad() # clear gradients wrt parameters\n",
        "  loss.backward()\n",
        "  optimizer.step()"
      ],
      "execution_count": 165,
      "outputs": [
        {
          "output_type": "stream",
          "text": [
            "/usr/local/lib/python3.6/dist-packages/torch/nn/modules/loss.py:529: UserWarning: Using a target size (torch.Size([500])) that is different to the input size (torch.Size([500, 1])) is deprecated. Please ensure they have the same size.\n",
            "  return F.binary_cross_entropy(input, target, weight=self.weight, reduction=self.reduction)\n"
          ],
          "name": "stderr"
        },
        {
          "output_type": "stream",
          "text": [
            "epoch:  0 loss:  0.7361681461334229\n",
            "epoch:  1 loss:  0.7172554135322571\n",
            "epoch:  2 loss:  0.6897469162940979\n",
            "epoch:  3 loss:  0.6601657271385193\n",
            "epoch:  4 loss:  0.6323212385177612\n",
            "epoch:  5 loss:  0.6032305359840393\n",
            "epoch:  6 loss:  0.5703475475311279\n",
            "epoch:  7 loss:  0.5393533110618591\n",
            "epoch:  8 loss:  0.5207826495170593\n",
            "epoch:  9 loss:  0.5140823721885681\n",
            "epoch:  10 loss:  0.5065715312957764\n",
            "epoch:  11 loss:  0.49633947014808655\n",
            "epoch:  12 loss:  0.4924969971179962\n",
            "epoch:  13 loss:  0.491962194442749\n",
            "epoch:  14 loss:  0.492673397064209\n",
            "epoch:  15 loss:  0.4929535388946533\n",
            "epoch:  16 loss:  0.4917003810405731\n",
            "epoch:  17 loss:  0.48876863718032837\n",
            "epoch:  18 loss:  0.4847172200679779\n",
            "epoch:  19 loss:  0.48027586936950684\n",
            "epoch:  20 loss:  0.4758409857749939\n",
            "epoch:  21 loss:  0.4712732136249542\n",
            "epoch:  22 loss:  0.4661148190498352\n",
            "epoch:  23 loss:  0.4600560963153839\n",
            "epoch:  24 loss:  0.45324045419692993\n",
            "epoch:  25 loss:  0.44615668058395386\n",
            "epoch:  26 loss:  0.4392642378807068\n",
            "epoch:  27 loss:  0.4327227473258972\n",
            "epoch:  28 loss:  0.4264102578163147\n",
            "epoch:  29 loss:  0.4201388359069824\n",
            "epoch:  30 loss:  0.413860023021698\n",
            "epoch:  31 loss:  0.4077248275279999\n",
            "epoch:  32 loss:  0.40198031067848206\n",
            "epoch:  33 loss:  0.39678940176963806\n",
            "epoch:  34 loss:  0.39418500661849976\n",
            "epoch:  35 loss:  0.3931097388267517\n",
            "epoch:  36 loss:  0.3919743001461029\n",
            "epoch:  37 loss:  0.3905608057975769\n",
            "epoch:  38 loss:  0.3886202573776245\n",
            "epoch:  39 loss:  0.38610392808914185\n",
            "epoch:  40 loss:  0.38318943977355957\n",
            "epoch:  41 loss:  0.38010501861572266\n",
            "epoch:  42 loss:  0.3769635856151581\n",
            "epoch:  43 loss:  0.3737559914588928\n",
            "epoch:  44 loss:  0.37045472860336304\n",
            "epoch:  45 loss:  0.36710110306739807\n",
            "epoch:  46 loss:  0.3638066053390503\n",
            "epoch:  47 loss:  0.36068814992904663\n",
            "epoch:  48 loss:  0.3578049838542938\n",
            "epoch:  49 loss:  0.35599589347839355\n",
            "epoch:  50 loss:  0.35458025336265564\n",
            "epoch:  51 loss:  0.3525540828704834\n",
            "epoch:  52 loss:  0.3503553867340088\n",
            "epoch:  53 loss:  0.34822964668273926\n",
            "epoch:  54 loss:  0.3469424843788147\n",
            "epoch:  55 loss:  0.3450128436088562\n",
            "epoch:  56 loss:  0.3429827094078064\n",
            "epoch:  57 loss:  0.3411614000797272\n",
            "epoch:  58 loss:  0.33919063210487366\n",
            "epoch:  59 loss:  0.33766165375709534\n",
            "epoch:  60 loss:  0.33626484870910645\n",
            "epoch:  61 loss:  0.33498477935791016\n",
            "epoch:  62 loss:  0.3337302803993225\n",
            "epoch:  63 loss:  0.33241942524909973\n",
            "epoch:  64 loss:  0.3310442566871643\n",
            "epoch:  65 loss:  0.32966479659080505\n",
            "epoch:  66 loss:  0.3283518850803375\n",
            "epoch:  67 loss:  0.32713449001312256\n",
            "epoch:  68 loss:  0.3259912431240082\n",
            "epoch:  69 loss:  0.3248792886734009\n",
            "epoch:  70 loss:  0.3238205909729004\n",
            "epoch:  71 loss:  0.3228380084037781\n",
            "epoch:  72 loss:  0.3218613862991333\n",
            "epoch:  73 loss:  0.32082512974739075\n",
            "epoch:  74 loss:  0.3197738826274872\n",
            "epoch:  75 loss:  0.3187702000141144\n",
            "epoch:  76 loss:  0.31815001368522644\n",
            "epoch:  77 loss:  0.3169858455657959\n",
            "epoch:  78 loss:  0.31614217162132263\n",
            "epoch:  79 loss:  0.31531763076782227\n",
            "epoch:  80 loss:  0.31450924277305603\n",
            "epoch:  81 loss:  0.31371524930000305\n",
            "epoch:  82 loss:  0.3129350244998932\n",
            "epoch:  83 loss:  0.31216976046562195\n",
            "epoch:  84 loss:  0.31142109632492065\n",
            "epoch:  85 loss:  0.3106898069381714\n",
            "epoch:  86 loss:  0.3099759519100189\n",
            "epoch:  87 loss:  0.3092784285545349\n",
            "epoch:  88 loss:  0.30859631299972534\n",
            "epoch:  89 loss:  0.30792927742004395\n",
            "epoch:  90 loss:  0.30727750062942505\n",
            "epoch:  91 loss:  0.30664125084877014\n",
            "epoch:  92 loss:  0.3060206472873688\n",
            "epoch:  93 loss:  0.3054150938987732\n",
            "epoch:  94 loss:  0.3048238158226013\n",
            "epoch:  95 loss:  0.3042457103729248\n",
            "epoch:  96 loss:  0.30368009209632874\n",
            "epoch:  97 loss:  0.3031265139579773\n",
            "epoch:  98 loss:  0.3025846481323242\n",
            "epoch:  99 loss:  0.302054226398468\n",
            "epoch:  100 loss:  0.30153483152389526\n",
            "epoch:  101 loss:  0.3010256290435791\n",
            "epoch:  102 loss:  0.30052608251571655\n",
            "epoch:  103 loss:  0.30003562569618225\n",
            "epoch:  104 loss:  0.299553781747818\n",
            "epoch:  105 loss:  0.29908043146133423\n",
            "epoch:  106 loss:  0.2986152470111847\n",
            "epoch:  107 loss:  0.29815807938575745\n",
            "epoch:  108 loss:  0.29770851135253906\n",
            "epoch:  109 loss:  0.2972663640975952\n",
            "epoch:  110 loss:  0.29683130979537964\n",
            "epoch:  111 loss:  0.2964029908180237\n",
            "epoch:  112 loss:  0.2959814667701721\n",
            "epoch:  113 loss:  0.2955664396286011\n",
            "epoch:  114 loss:  0.2951579689979553\n",
            "epoch:  115 loss:  0.2947559356689453\n",
            "epoch:  116 loss:  0.29435995221138\n",
            "epoch:  117 loss:  0.29397016763687134\n",
            "epoch:  118 loss:  0.2935861349105835\n",
            "epoch:  119 loss:  0.2932080030441284\n",
            "epoch:  120 loss:  0.292835533618927\n",
            "epoch:  121 loss:  0.29246872663497925\n",
            "epoch:  122 loss:  0.29210737347602844\n",
            "epoch:  123 loss:  0.291751503944397\n",
            "epoch:  124 loss:  0.29140087962150574\n",
            "epoch:  125 loss:  0.29105547070503235\n",
            "epoch:  126 loss:  0.29071515798568726\n",
            "epoch:  127 loss:  0.2903797924518585\n",
            "epoch:  128 loss:  0.29004931449890137\n",
            "epoch:  129 loss:  0.28972378373146057\n",
            "epoch:  130 loss:  0.28940290212631226\n",
            "epoch:  131 loss:  0.2890866994857788\n",
            "epoch:  132 loss:  0.2887749671936035\n",
            "epoch:  133 loss:  0.2884676456451416\n",
            "epoch:  134 loss:  0.28816476464271545\n",
            "epoch:  135 loss:  0.28786611557006836\n",
            "epoch:  136 loss:  0.28757166862487793\n",
            "epoch:  137 loss:  0.287281334400177\n",
            "epoch:  138 loss:  0.2869951128959656\n",
            "epoch:  139 loss:  0.28671279549598694\n",
            "epoch:  140 loss:  0.2864343523979187\n",
            "epoch:  141 loss:  0.28615981340408325\n",
            "epoch:  142 loss:  0.2858889698982239\n",
            "epoch:  143 loss:  0.2856218218803406\n",
            "epoch:  144 loss:  0.28535833954811096\n",
            "epoch:  145 loss:  0.2850983440876007\n",
            "epoch:  146 loss:  0.2848418056964874\n",
            "epoch:  147 loss:  0.28458887338638306\n",
            "epoch:  148 loss:  0.2843391001224518\n",
            "epoch:  149 loss:  0.2840927839279175\n",
            "epoch:  150 loss:  0.2838496267795563\n",
            "epoch:  151 loss:  0.28360968828201294\n",
            "epoch:  152 loss:  0.2833729088306427\n",
            "epoch:  153 loss:  0.28313928842544556\n",
            "epoch:  154 loss:  0.2829086184501648\n",
            "epoch:  155 loss:  0.2826809585094452\n",
            "epoch:  156 loss:  0.28245624899864197\n",
            "epoch:  157 loss:  0.28223443031311035\n",
            "epoch:  158 loss:  0.2820153832435608\n",
            "epoch:  159 loss:  0.2817992568016052\n",
            "epoch:  160 loss:  0.28158584237098694\n",
            "epoch:  161 loss:  0.28137511014938354\n",
            "epoch:  162 loss:  0.28116703033447266\n",
            "epoch:  163 loss:  0.28096163272857666\n",
            "epoch:  164 loss:  0.280758798122406\n",
            "epoch:  165 loss:  0.28055843710899353\n",
            "epoch:  166 loss:  0.2803605794906616\n",
            "epoch:  167 loss:  0.28016525506973267\n",
            "epoch:  168 loss:  0.27997225522994995\n",
            "epoch:  169 loss:  0.2797817587852478\n",
            "epoch:  170 loss:  0.27959349751472473\n",
            "epoch:  171 loss:  0.2794075906276703\n",
            "epoch:  172 loss:  0.2792240381240845\n",
            "epoch:  173 loss:  0.2790425419807434\n",
            "epoch:  174 loss:  0.27886340022087097\n",
            "epoch:  175 loss:  0.2786862850189209\n",
            "epoch:  176 loss:  0.2785114347934723\n",
            "epoch:  177 loss:  0.27833858132362366\n",
            "epoch:  178 loss:  0.2781679630279541\n",
            "epoch:  179 loss:  0.27799922227859497\n",
            "epoch:  180 loss:  0.277832567691803\n",
            "epoch:  181 loss:  0.2776678800582886\n",
            "epoch:  182 loss:  0.27750515937805176\n",
            "epoch:  183 loss:  0.277344286441803\n",
            "epoch:  184 loss:  0.2771853804588318\n",
            "epoch:  185 loss:  0.277028352022171\n",
            "epoch:  186 loss:  0.2768731117248535\n",
            "epoch:  187 loss:  0.2767196595668793\n",
            "epoch:  188 loss:  0.27656808495521545\n",
            "epoch:  189 loss:  0.27641817927360535\n",
            "epoch:  190 loss:  0.2762700319290161\n",
            "epoch:  191 loss:  0.27612364292144775\n",
            "epoch:  192 loss:  0.27597886323928833\n",
            "epoch:  193 loss:  0.2758357524871826\n",
            "epoch:  194 loss:  0.275694340467453\n",
            "epoch:  195 loss:  0.27555447816848755\n",
            "epoch:  196 loss:  0.27541619539260864\n",
            "epoch:  197 loss:  0.27527952194213867\n",
            "epoch:  198 loss:  0.27514439821243286\n",
            "epoch:  199 loss:  0.2750106751918793\n",
            "epoch:  200 loss:  0.274878591299057\n",
            "epoch:  201 loss:  0.27474793791770935\n",
            "epoch:  202 loss:  0.2746187150478363\n",
            "epoch:  203 loss:  0.27449101209640503\n",
            "epoch:  204 loss:  0.2743646502494812\n",
            "epoch:  205 loss:  0.274239718914032\n",
            "epoch:  206 loss:  0.2741161584854126\n",
            "epoch:  207 loss:  0.27399399876594543\n",
            "epoch:  208 loss:  0.27387315034866333\n",
            "epoch:  209 loss:  0.2737535834312439\n",
            "epoch:  210 loss:  0.2736354172229767\n",
            "epoch:  211 loss:  0.273518443107605\n",
            "epoch:  212 loss:  0.27340275049209595\n",
            "epoch:  213 loss:  0.27328839898109436\n",
            "epoch:  214 loss:  0.2731752097606659\n",
            "epoch:  215 loss:  0.2730632722377777\n",
            "epoch:  216 loss:  0.2729525566101074\n",
            "epoch:  217 loss:  0.2728429436683655\n",
            "epoch:  218 loss:  0.2727346122264862\n",
            "epoch:  219 loss:  0.2726273834705353\n",
            "epoch:  220 loss:  0.27252131700515747\n",
            "epoch:  221 loss:  0.2724164128303528\n",
            "epoch:  222 loss:  0.2723125219345093\n",
            "epoch:  223 loss:  0.2722097635269165\n",
            "epoch:  224 loss:  0.2721080780029297\n",
            "epoch:  225 loss:  0.272007554769516\n",
            "epoch:  226 loss:  0.2719079852104187\n",
            "epoch:  227 loss:  0.27180948853492737\n",
            "epoch:  228 loss:  0.271712064743042\n",
            "epoch:  229 loss:  0.2716156244277954\n",
            "epoch:  230 loss:  0.2715202271938324\n",
            "epoch:  231 loss:  0.2714257538318634\n",
            "epoch:  232 loss:  0.2713322639465332\n",
            "epoch:  233 loss:  0.2712397575378418\n",
            "epoch:  234 loss:  0.2711482048034668\n",
            "epoch:  235 loss:  0.2710576057434082\n",
            "epoch:  236 loss:  0.27096790075302124\n",
            "epoch:  237 loss:  0.2708790600299835\n",
            "epoch:  238 loss:  0.270791232585907\n",
            "epoch:  239 loss:  0.2707042694091797\n",
            "epoch:  240 loss:  0.270618200302124\n",
            "epoch:  241 loss:  0.2705329954624176\n",
            "epoch:  242 loss:  0.27044862508773804\n",
            "epoch:  243 loss:  0.2703650891780853\n",
            "epoch:  244 loss:  0.270282506942749\n",
            "epoch:  245 loss:  0.2702006697654724\n",
            "epoch:  246 loss:  0.27011963725090027\n",
            "epoch:  247 loss:  0.2700393795967102\n",
            "epoch:  248 loss:  0.26996010541915894\n",
            "epoch:  249 loss:  0.2698814272880554\n",
            "epoch:  250 loss:  0.26980364322662354\n",
            "epoch:  251 loss:  0.26972657442092896\n",
            "epoch:  252 loss:  0.26965025067329407\n",
            "epoch:  253 loss:  0.26957470178604126\n",
            "epoch:  254 loss:  0.26949992775917053\n",
            "epoch:  255 loss:  0.2694258987903595\n",
            "epoch:  256 loss:  0.2693525552749634\n",
            "epoch:  257 loss:  0.26927995681762695\n",
            "epoch:  258 loss:  0.26920801401138306\n",
            "epoch:  259 loss:  0.26913681626319885\n",
            "epoch:  260 loss:  0.26906633377075195\n",
            "epoch:  261 loss:  0.2689965069293976\n",
            "epoch:  262 loss:  0.26892727613449097\n",
            "epoch:  263 loss:  0.2688588500022888\n",
            "epoch:  264 loss:  0.2687910199165344\n",
            "epoch:  265 loss:  0.26872384548187256\n",
            "epoch:  266 loss:  0.2686573266983032\n",
            "epoch:  267 loss:  0.2685914933681488\n",
            "epoch:  268 loss:  0.26852622628211975\n",
            "epoch:  269 loss:  0.26846158504486084\n",
            "epoch:  270 loss:  0.26839756965637207\n",
            "epoch:  271 loss:  0.26833420991897583\n",
            "epoch:  272 loss:  0.26827138662338257\n",
            "epoch:  273 loss:  0.26820921897888184\n",
            "epoch:  274 loss:  0.26814761757850647\n",
            "epoch:  275 loss:  0.2680865526199341\n",
            "epoch:  276 loss:  0.2680261433124542\n",
            "epoch:  277 loss:  0.2679661512374878\n",
            "epoch:  278 loss:  0.2679068446159363\n",
            "epoch:  279 loss:  0.26784807443618774\n",
            "epoch:  280 loss:  0.26778993010520935\n",
            "epoch:  281 loss:  0.2677322030067444\n",
            "epoch:  282 loss:  0.2676750719547272\n",
            "epoch:  283 loss:  0.2676185369491577\n",
            "epoch:  284 loss:  0.2675624489784241\n",
            "epoch:  285 loss:  0.26750680804252625\n",
            "epoch:  286 loss:  0.26745176315307617\n",
            "epoch:  287 loss:  0.26739734411239624\n",
            "epoch:  288 loss:  0.26734331250190735\n",
            "epoch:  289 loss:  0.2672896981239319\n",
            "epoch:  290 loss:  0.2672366499900818\n",
            "epoch:  291 loss:  0.2671840786933899\n",
            "epoch:  292 loss:  0.267132043838501\n",
            "epoch:  293 loss:  0.2670804560184479\n",
            "epoch:  294 loss:  0.2670292854309082\n",
            "epoch:  295 loss:  0.2669786512851715\n",
            "epoch:  296 loss:  0.26692846417427063\n",
            "epoch:  297 loss:  0.26687875390052795\n",
            "epoch:  298 loss:  0.2668294608592987\n",
            "epoch:  299 loss:  0.2667806148529053\n"
          ],
          "name": "stdout"
        }
      ]
    },
    {
      "cell_type": "code",
      "metadata": {
        "id": "rYkUBuB2lfiU",
        "outputId": "e74a8699-0228-4126-c04f-d90e608e229d",
        "colab": {
          "base_uri": "https://localhost:8080/",
          "height": 279
        }
      },
      "source": [
        "# log loss\n",
        "plt.plot(range(epochs), losses)\n",
        "plt.xlabel('epoch')\n",
        "plt.ylabel('loss')\n",
        "plt.grid()\n"
      ],
      "execution_count": 166,
      "outputs": [
        {
          "output_type": "display_data",
          "data": {
            "image/png": "[encoded data removed]",
            "text/plain": [
              "<Figure size 432x288 with 1 Axes>"
            ]
          },
          "metadata": {
            "tags": [],
            "needs_background": "light"
          }
        }
      ]
    },
    {
      "cell_type": "markdown",
      "metadata": {
        "id": "80NQ8m48n8fM"
      },
      "source": [
        "# model evalation with new datasets the model has never seen before"
      ]
    },
    {
      "cell_type": "code",
      "metadata": {
        "id": "ReUhXQhwFygw"
      },
      "source": [
        "# use panda and io pachage to load txt. \n",
        "df_test = pd.read_csv(io.StringIO(uploaded_test['Test_Data.txt'].decode(\"utf-8\")), \n",
        "                       sep=',', names=['ID', 'x1', 'x2', 'x3', 'x4', 'x5', 'x6', 'x7', 'x8', 'x9', 'class'], header=None)\n",
        "#print(df_test)\n",
        "#replace missing value ? with 0\n",
        "x_test = torch.Tensor(df_test[[ 'x2', 'x3', 'x6', 'x1']].replace({'?':0}).values.astype(np.uint8))\n",
        "# class 2 for benign, 4 for malignant -> 0 for bengn, 1 for malignant\n",
        "y_test = torch.Tensor(df_test['class'].replace({2:0, 4:1}).values.astype(np.uint8))\n",
        "#print(y_test)"
      ],
      "execution_count": 129,
      "outputs": []
    },
    {
      "cell_type": "code",
      "metadata": {
        "id": "eZcMsmzQHERY",
        "outputId": "32e7edb7-a4a0-4eb8-8d7d-68189de74a0e",
        "colab": {
          "base_uri": "https://localhost:8080/",
          "height": 51
        }
      },
      "source": [
        "#model test w/ all test datasets\n",
        "no_correct = 0\n",
        "for i in range(len(x_train)):\n",
        "  if model.predict(x_train[i]) == y_train[i]:\n",
        "    no_correct += 1\n",
        "\n",
        "accuracy = no_correct/len(x_train)*100\n",
        "print(\"Predcition accuracy_train= {}%\".format(accuracy))\n",
        "\n",
        "no_correct_test=0\n",
        "for i in range(len(x_test)):\n",
        "  if model.predict(x_test[i]) == y_test[i]:\n",
        "    no_correct_test += 1\n",
        "\n",
        "accuracy = no_correct_test/len(x_test)*100\n",
        "\n",
        "print(\"Predcition accuracy_test= {}%\".format(accuracy))"
      ],
      "execution_count": 167,
      "outputs": [
        {
          "output_type": "stream",
          "text": [
            "Predcition accuracy_train= 94.19999999999999%\n",
            "Predcition accuracy_test= 98.99497487437185%\n"
          ],
          "name": "stdout"
        }
      ]
    },
    {
      "cell_type": "markdown",
      "metadata": {
        "id": "c_wDcJ6B97lP"
      },
      "source": [
        "[x1, x2, x3, x6]==> 97%accuracy: best <br>\n",
        "[x8, x2, x3, x6]==> 95%accuracy <br>\n",
        "[x8, x2, x3, x6, x1]==> 76%accuracy ...ㅎㅎ"
      ]
    },
    {
      "cell_type": "code",
      "metadata": {
        "id": "oahQOE2mn7pT"
      },
      "source": [
        ""
      ],
      "execution_count": null,
      "outputs": []
    }
  ]
}