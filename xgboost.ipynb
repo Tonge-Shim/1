{
  "nbformat": 4,
  "nbformat_minor": 0,
  "metadata": {
    "colab": {
      "name": "xgboost.ipynb",
      "provenance": [],
      "history_visible": true,
      "authorship_tag": "ABX9TyOpgVExOQCr/uYnnEnzIpAH",
      "include_colab_link": true
    },
    "kernelspec": {
      "name": "python3",
      "display_name": "Python 3"
    }
  },
  "cells": [
    {
      "cell_type": "markdown",
      "metadata": {
        "id": "view-in-github",
        "colab_type": "text"
      },
      "source": [
        "<a href=\"https://colab.research.google.com/github/Tonge-Shim/1/blob/master/xgboost.ipynb\" target=\"_parent\"><img src=\"https://colab.research.google.com/assets/colab-badge.svg\" alt=\"Open In Colab\"/></a>"
      ]
    },
    {
      "cell_type": "code",
      "metadata": {
        "id": "EwuBBr4T5PQR"
      },
      "source": [
        "import pandas as pd\n",
        "import numpy as np\n",
        "import matplotlib.pyplot as plt\n",
        "import warnings\n",
        "from collections import Counter\n",
        "from sklearn.datasets import make_classification\n",
        "from sklearn.model_selection import train_test_split\n",
        "from sklearn.metrics import accuracy_score\n",
        "from pandas import DataFrame\n",
        "warnings.filterwarnings(action='ignore')\n",
        "%matplotlib inline"
      ],
      "execution_count": 1,
      "outputs": []
    },
    {
      "cell_type": "code",
      "metadata": {
        "id": "i33miJoJ5PNJ"
      },
      "source": [
        "df= pd.read_csv('samp_cst_feat.csv')\n",
        "dtype = pd.read_excel('variable_dtype.xlsx')\n",
        "dtype_categ = dtype[(dtype['dType']=='categorical')]\n",
        "dtype_numrc = dtype[(dtype['dType']=='numerical')]\n",
        "numrc_var = dtype_numrc['Variable_Name']\n",
        "categ_var = dtype_categ['Variable_Name']\n",
        "numrc_var = numrc_var.values.tolist()\n",
        "categ_var = categ_var.values.tolist()#0,1\n",
        "x=df.drop(categ_var, axis=1).drop(['cst_id_di'],axis=1)#10124개\n",
        "y=pd.read_csv('samp_train.csv').drop(['cst_id_di'],axis=1)#10124\n",
        "y_nozero= y[(y['MRC_ID_DI']!=0)]#not 0!!!1924\n",
        "#y_nozeroindex=y_nozero.loc[1:10119]\n",
        "y_nozeroindexlist=y_nozero.index.tolist()\n",
        "x_nozero=x.loc[y_nozeroindexlist]"
      ],
      "execution_count": 2,
      "outputs": []
    },
    {
      "cell_type": "code",
      "metadata": {
        "id": "6WcLGbm_5O2V",
        "outputId": "90952114-e8f7-466a-bf3e-6d5be38c4810",
        "colab": {
          "base_uri": "https://localhost:8080/"
        }
      },
      "source": [
        "print(x_nozero.shape)\n",
        "print(y_nozero.shape)\n",
        "print(x.shape)\n",
        "print(y.shape)\n",
        "y_nozeroarray=y_nozero.to_numpy()#1924\n",
        "y_array=y.to_numpy()#10124\n",
        "x_nozeroarray=x_nozero.to_numpy()#1924\n",
        "x_array=x.to_numpy()#10124"
      ],
      "execution_count": 3,
      "outputs": [
        {
          "output_type": "stream",
          "text": [
            "(1924, 198)\n",
            "(1924, 1)\n",
            "(10124, 198)\n",
            "(10124, 1)\n"
          ],
          "name": "stdout"
        }
      ]
    },
    {
      "cell_type": "code",
      "metadata": {
        "id": "iHz3_rqB5YAT"
      },
      "source": [
        "x_train, x_test, y_train, y_test=x_nozeroarray[:1400], x_nozeroarray[1400:], y_nozeroarray[:1400], y_nozeroarray[1400:]\n",
        "shuffle_index=np.random.permutation(1400)\n",
        "x_train, y_train=x_train[shuffle_index], y_train[shuffle_index]"
      ],
      "execution_count": 5,
      "outputs": []
    },
    {
      "cell_type": "code",
      "metadata": {
        "id": "Qzx-CXe45CGU"
      },
      "source": [
        "#Train the XGboost Model for Classification\n",
        "import xgboost as xgb\n",
        "model1 = xgb.XGBClassifier()\n",
        "model2 = xgb.XGBClassifier(n_estimators=100, max_depth=8, learning_rate=0.1, subsample=0.5)\n",
        "\n",
        "train_model1 = model1.fit(x_train, y_train)\n",
        "train_model2 = model2.fit(x_train, y_train)\n"
      ],
      "execution_count": 6,
      "outputs": []
    },
    {
      "cell_type": "code",
      "metadata": {
        "id": "SqWmprru5ELz",
        "outputId": "8b579a08-27c4-4ba2-c89f-56714ebb3e6a",
        "colab": {
          "base_uri": "https://localhost:8080/"
        }
      },
      "source": [
        "#prediction and Classification Report\n",
        "from sklearn.metrics import classification_report\n",
        "\n",
        "pred1 = train_model1.predict(x_test)\n",
        "pred2 = train_model2.predict(x_test)\n",
        "\n",
        "print('Model 1 XGboost Report %r' % (classification_report(y_test, pred1)))\n",
        "print('Model 2 XGboost Report %r' % (classification_report(y_test, pred2)))"
      ],
      "execution_count": 7,
      "outputs": [
        {
          "output_type": "stream",
          "text": [
            "Model 1 XGboost Report '              precision    recall  f1-score   support\\n\\n           1       0.25      0.08      0.12        25\\n           2       0.00      0.00      0.00         2\\n           3       0.00      0.00      0.00        12\\n           4       0.00      0.00      0.00         5\\n           5       0.29      0.11      0.16        35\\n           6       0.40      0.36      0.38       156\\n           7       0.45      0.76      0.56       173\\n           8       0.33      0.25      0.29        88\\n           9       0.00      0.00      0.00        19\\n          10       0.00      0.00      0.00         9\\n\\n    accuracy                           0.41       524\\n   macro avg       0.17      0.16      0.15       524\\nweighted avg       0.35      0.41      0.36       524\\n'\n",
            "Model 2 XGboost Report '              precision    recall  f1-score   support\\n\\n           1       0.50      0.04      0.07        25\\n           2       0.00      0.00      0.00         2\\n           3       0.00      0.00      0.00        12\\n           4       0.00      0.00      0.00         5\\n           5       0.30      0.09      0.13        35\\n           6       0.39      0.40      0.40       156\\n           7       0.45      0.72      0.55       173\\n           8       0.32      0.26      0.29        88\\n           9       0.00      0.00      0.00        19\\n          10       0.00      0.00      0.00         9\\n\\n    accuracy                           0.41       524\\n   macro avg       0.20      0.15      0.14       524\\nweighted avg       0.36      0.41      0.36       524\\n'\n"
          ],
          "name": "stdout"
        }
      ]
    },
    {
      "cell_type": "code",
      "metadata": {
        "id": "QU5KC_155GaG",
        "outputId": "3c06a275-0400-46ed-8e28-1dc1ec3d8665",
        "colab": {
          "base_uri": "https://localhost:8080/"
        }
      },
      "source": [
        "print(\"Accuracy for model 1: %.2f\" % (accuracy_score(y_test, pred1) * 100))\n",
        "print(\"Accuracy for model 2: %.2f\" % (accuracy_score(y_test, pred2) * 100))"
      ],
      "execution_count": 8,
      "outputs": [
        {
          "output_type": "stream",
          "text": [
            "Accuracy for model 1: 41.03\n",
            "Accuracy for model 2: 41.03\n"
          ],
          "name": "stdout"
        }
      ]
    },
    {
      "cell_type": "markdown",
      "metadata": {
        "id": "so9FfbQ46XXO"
      },
      "source": [
        "#0기준 이진분류, xgboost로"
      ]
    },
    {
      "cell_type": "code",
      "metadata": {
        "id": "GEXJ2yJy6W7Y"
      },
      "source": [
        "X_train, X_test, Y_train, Y_test=x_array[:8000], x_array[8000:], y_array[:8000], y_array[8000:]\n",
        "shuffle_index=np.random.permutation(8000)\n",
        "X_train, Y_train=X_train[shuffle_index], Y_train[shuffle_index]\n",
        "\n",
        "Y_train_0=(Y_train==0)#0은 true, 0이 아니면 false\n",
        "Y_test_0=(Y_test==0)\n",
        "\n"
      ],
      "execution_count": 31,
      "outputs": []
    },
    {
      "cell_type": "code",
      "metadata": {
        "id": "ZPdsh0dx6nB3"
      },
      "source": [
        "model1 = xgb.XGBClassifier()\n",
        "model2 = xgb.XGBClassifier(n_estimators=100, max_depth=8, learning_rate=0.1, subsample=0.5)\n",
        "\n",
        "train_model1 = model1.fit(X_train, Y_train_0)\n",
        "train_model2 = model2.fit(X_train, Y_train_0)\n"
      ],
      "execution_count": 32,
      "outputs": []
    },
    {
      "cell_type": "code",
      "metadata": {
        "id": "DFlyGOn56pbs",
        "outputId": "673816b6-8186-413b-9421-c9725f033abd",
        "colab": {
          "base_uri": "https://localhost:8080/"
        }
      },
      "source": [
        "pred1 = train_model1.predict(X_test)\n",
        "pred2 = train_model2.predict(X_test)\n",
        "\n",
        "print('Model 1 XGboost Report %r' % (classification_report(Y_test_0, pred1)))\n",
        "print('Model 2 XGboost Report %r' % (classification_report(Y_test_0, pred2)))\n",
        "print(\"Accuracy for model 1: %.2f\" % (accuracy_score(Y_test_0, pred1) * 100))\n",
        "print(\"Accuracy for model 2: %.2f\" % (accuracy_score(Y_test_0, pred2) * 100))"
      ],
      "execution_count": 33,
      "outputs": [
        {
          "output_type": "stream",
          "text": [
            "Model 1 XGboost Report '              precision    recall  f1-score   support\\n\\n       False       0.63      0.37      0.47       382\\n        True       0.87      0.95      0.91      1742\\n\\n    accuracy                           0.85      2124\\n   macro avg       0.75      0.66      0.69      2124\\nweighted avg       0.83      0.85      0.83      2124\\n'\n",
            "Model 2 XGboost Report '              precision    recall  f1-score   support\\n\\n       False       0.60      0.40      0.48       382\\n        True       0.88      0.94      0.91      1742\\n\\n    accuracy                           0.84      2124\\n   macro avg       0.74      0.67      0.69      2124\\nweighted avg       0.83      0.84      0.83      2124\\n'\n",
            "Accuracy for model 1: 84.79\n",
            "Accuracy for model 2: 84.37\n"
          ],
          "name": "stdout"
        }
      ]
    },
    {
      "cell_type": "markdown",
      "metadata": {
        "id": "6sJeTTII9NgI"
      },
      "source": [
        "8200/10124*100=80.99~81\n",
        ", accuracy is higher than 81...괜찮지 않을까...라는 생각을..."
      ]
    }
  ]
}