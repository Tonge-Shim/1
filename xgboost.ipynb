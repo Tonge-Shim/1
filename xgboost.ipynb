{
  "nbformat": 4,
  "nbformat_minor": 0,
  "metadata": {
    "colab": {
      "name": "xgboost.ipynb",
      "provenance": [],
      "history_visible": true,
      "authorship_tag": "ABX9TyNnj02oEJyLA8sB2cj65fuL",
      "include_colab_link": true
    },
    "kernelspec": {
      "name": "python3",
      "display_name": "Python 3"
    }
  },
  "cells": [
    {
      "cell_type": "markdown",
      "metadata": {
        "id": "view-in-github",
        "colab_type": "text"
      },
      "source": [
        "<a href=\"https://colab.research.google.com/github/Tonge-Shim/1/blob/master/xgboost.ipynb\" target=\"_parent\"><img src=\"https://colab.research.google.com/assets/colab-badge.svg\" alt=\"Open In Colab\"/></a>"
      ]
    },
    {
      "cell_type": "code",
      "metadata": {
        "id": "EwuBBr4T5PQR"
      },
      "source": [
        "import pandas as pd\n",
        "import numpy as np\n",
        "import matplotlib.pyplot as plt\n",
        "import warnings\n",
        "from collections import Counter\n",
        "from sklearn.datasets import make_classification\n",
        "from sklearn.model_selection import train_test_split\n",
        "from sklearn.metrics import accuracy_score\n",
        "from pandas import DataFrame\n",
        "from sklearn.metrics import classification_report\n",
        "import xgboost as xgb\n",
        "\n",
        "warnings.filterwarnings(action='ignore')\n",
        "%matplotlib inline"
      ],
      "execution_count": 1,
      "outputs": []
    },
    {
      "cell_type": "code",
      "metadata": {
        "id": "i33miJoJ5PNJ"
      },
      "source": [
        "df= pd.read_csv('samp_cst_feat.csv')\n",
        "dtype = pd.read_excel('variable_dtype.xlsx')\n",
        "dtype_categ = dtype[(dtype['dType']=='categorical')]\n",
        "dtype_numrc = dtype[(dtype['dType']=='numerical')]\n",
        "numrc_var = dtype_numrc['Variable_Name']\n",
        "categ_var = dtype_categ['Variable_Name']\n",
        "numrc_var = numrc_var.values.tolist()\n",
        "categ_var = categ_var.values.tolist()#0,1\n",
        "x=df.drop(categ_var, axis=1).drop(['cst_id_di'],axis=1)#10124개\n",
        "y=pd.read_csv('samp_train.csv').drop(['cst_id_di'],axis=1)#10124\n",
        "y_nozero= y[(y['MRC_ID_DI']!=0)]#not 0!!!1924\n",
        "#y_nozeroindex=y_nozero.loc[1:10119]\n",
        "y_nozeroindexlist=y_nozero.index.tolist()\n",
        "x_nozero=x.loc[y_nozeroindexlist]"
      ],
      "execution_count": 2,
      "outputs": []
    },
    {
      "cell_type": "code",
      "metadata": {
        "id": "6WcLGbm_5O2V",
        "outputId": "90952114-e8f7-466a-bf3e-6d5be38c4810",
        "colab": {
          "base_uri": "https://localhost:8080/"
        }
      },
      "source": [
        "print(x_nozero.shape)\n",
        "print(y_nozero.shape)\n",
        "print(x.shape)\n",
        "print(y.shape)\n",
        "y_nozeroarray=y_nozero.to_numpy()#1924\n",
        "y_array=y.to_numpy()#10124\n",
        "x_nozeroarray=x_nozero.to_numpy()#1924\n",
        "x_array=x.to_numpy()#10124"
      ],
      "execution_count": 3,
      "outputs": [
        {
          "output_type": "stream",
          "text": [
            "(1924, 198)\n",
            "(1924, 1)\n",
            "(10124, 198)\n",
            "(10124, 1)\n"
          ],
          "name": "stdout"
        }
      ]
    },
    {
      "cell_type": "markdown",
      "metadata": {
        "id": "ANNbLSImBPKa"
      },
      "source": [
        "#0을 제외한 1924개의 xgboost"
      ]
    },
    {
      "cell_type": "code",
      "metadata": {
        "id": "iHz3_rqB5YAT"
      },
      "source": [
        "x_train, x_test, y_train, y_test=x_nozeroarray[:1400], x_nozeroarray[1400:], y_nozeroarray[:1400], y_nozeroarray[1400:]\n",
        "shuffle_index=np.random.permutation(1400)\n",
        "x_train, y_train=x_train[shuffle_index], y_train[shuffle_index]"
      ],
      "execution_count": 5,
      "outputs": []
    },
    {
      "cell_type": "code",
      "metadata": {
        "id": "Qzx-CXe45CGU"
      },
      "source": [
        "#Train the XGboost Model for Classification\n",
        "import xgboost as xgb\n",
        "model1 = xgb.XGBClassifier()\n",
        "model2 = xgb.XGBClassifier(n_estimators=100, max_depth=8, learning_rate=0.1, subsample=0.5)\n",
        "\n",
        "train_model1 = model1.fit(x_train, y_train)\n",
        "train_model2 = model2.fit(x_train, y_train)\n"
      ],
      "execution_count": 6,
      "outputs": []
    },
    {
      "cell_type": "code",
      "metadata": {
        "id": "SqWmprru5ELz",
        "outputId": "8b579a08-27c4-4ba2-c89f-56714ebb3e6a",
        "colab": {
          "base_uri": "https://localhost:8080/"
        }
      },
      "source": [
        "#prediction and Classification Report\n",
        "from sklearn.metrics import classification_report\n",
        "\n",
        "pred1 = train_model1.predict(x_test)\n",
        "pred2 = train_model2.predict(x_test)\n",
        "\n",
        "print('Model 1 XGboost Report %r' % (classification_report(y_test, pred1)))\n",
        "print('Model 2 XGboost Report %r' % (classification_report(y_test, pred2)))"
      ],
      "execution_count": 7,
      "outputs": [
        {
          "output_type": "stream",
          "text": [
            "Model 1 XGboost Report '              precision    recall  f1-score   support\\n\\n           1       0.25      0.08      0.12        25\\n           2       0.00      0.00      0.00         2\\n           3       0.00      0.00      0.00        12\\n           4       0.00      0.00      0.00         5\\n           5       0.29      0.11      0.16        35\\n           6       0.40      0.36      0.38       156\\n           7       0.45      0.76      0.56       173\\n           8       0.33      0.25      0.29        88\\n           9       0.00      0.00      0.00        19\\n          10       0.00      0.00      0.00         9\\n\\n    accuracy                           0.41       524\\n   macro avg       0.17      0.16      0.15       524\\nweighted avg       0.35      0.41      0.36       524\\n'\n",
            "Model 2 XGboost Report '              precision    recall  f1-score   support\\n\\n           1       0.50      0.04      0.07        25\\n           2       0.00      0.00      0.00         2\\n           3       0.00      0.00      0.00        12\\n           4       0.00      0.00      0.00         5\\n           5       0.30      0.09      0.13        35\\n           6       0.39      0.40      0.40       156\\n           7       0.45      0.72      0.55       173\\n           8       0.32      0.26      0.29        88\\n           9       0.00      0.00      0.00        19\\n          10       0.00      0.00      0.00         9\\n\\n    accuracy                           0.41       524\\n   macro avg       0.20      0.15      0.14       524\\nweighted avg       0.36      0.41      0.36       524\\n'\n"
          ],
          "name": "stdout"
        }
      ]
    },
    {
      "cell_type": "code",
      "metadata": {
        "id": "QU5KC_155GaG",
        "outputId": "3c06a275-0400-46ed-8e28-1dc1ec3d8665",
        "colab": {
          "base_uri": "https://localhost:8080/"
        }
      },
      "source": [
        "print(\"Accuracy for model 1: %.2f\" % (accuracy_score(y_test, pred1) * 100))\n",
        "print(\"Accuracy for model 2: %.2f\" % (accuracy_score(y_test, pred2) * 100))"
      ],
      "execution_count": 8,
      "outputs": [
        {
          "output_type": "stream",
          "text": [
            "Accuracy for model 1: 41.03\n",
            "Accuracy for model 2: 41.03\n"
          ],
          "name": "stdout"
        }
      ]
    },
    {
      "cell_type": "markdown",
      "metadata": {
        "id": "so9FfbQ46XXO"
      },
      "source": [
        "#0기준 이진분류, xgboost로"
      ]
    },
    {
      "cell_type": "code",
      "metadata": {
        "id": "GEXJ2yJy6W7Y"
      },
      "source": [
        "X_train, X_test, Y_train, Y_test=x_array[:9000], x_array[9000:], y_array[:9000], y_array[9000:]\n",
        "shuffle_index=np.random.permutation(9000)\n",
        "X_train, Y_train=X_train[shuffle_index], Y_train[shuffle_index]\n",
        "\n",
        "Y_train_0=(Y_train==0)#0은 true, 0이 아니면 false\n",
        "Y_test_0=(Y_test==0)\n",
        "\n"
      ],
      "execution_count": 36,
      "outputs": []
    },
    {
      "cell_type": "code",
      "metadata": {
        "id": "ZPdsh0dx6nB3"
      },
      "source": [
        "model1 = xgb.XGBClassifier()\n",
        "model2 = xgb.XGBClassifier(n_estimators=100, max_depth=8, learning_rate=0.25, subsample=0.5)\n",
        "\n",
        "train_model1 = model1.fit(X_train, Y_train_0)\n",
        "train_model2 = model2.fit(X_train, Y_train_0)\n"
      ],
      "execution_count": 40,
      "outputs": []
    },
    {
      "cell_type": "code",
      "metadata": {
        "id": "DFlyGOn56pbs",
        "outputId": "41ed8d4d-a982-4333-c03d-ad1a0bd29d65",
        "colab": {
          "base_uri": "https://localhost:8080/"
        }
      },
      "source": [
        "pred1 = train_model1.predict(X_test)\n",
        "pred2 = train_model2.predict(X_test)\n",
        "\n",
        "print('Model 1 XGboost Report %r' % (classification_report(Y_test_0, pred1)))\n",
        "print('Model 2 XGboost Report %r' % (classification_report(Y_test_0, pred2)))\n",
        "print(\"Accuracy for model 1: %.2f\" % (accuracy_score(Y_test_0, pred1) * 100))\n",
        "print(\"Accuracy for model 2: %.2f\" % (accuracy_score(Y_test_0, pred2) * 100))"
      ],
      "execution_count": 41,
      "outputs": [
        {
          "output_type": "stream",
          "text": [
            "Model 1 XGboost Report '              precision    recall  f1-score   support\\n\\n       False       0.75      0.41      0.53       194\\n        True       0.89      0.97      0.93       930\\n\\n    accuracy                           0.87      1124\\n   macro avg       0.82      0.69      0.73      1124\\nweighted avg       0.86      0.87      0.86      1124\\n'\n",
            "Model 2 XGboost Report '              precision    recall  f1-score   support\\n\\n       False       0.63      0.41      0.50       194\\n        True       0.88      0.95      0.92       930\\n\\n    accuracy                           0.86      1124\\n   macro avg       0.76      0.68      0.71      1124\\nweighted avg       0.84      0.86      0.84      1124\\n'\n",
            "Accuracy for model 1: 87.46\n",
            "Accuracy for model 2: 85.68\n"
          ],
          "name": "stdout"
        }
      ]
    },
    {
      "cell_type": "markdown",
      "metadata": {
        "id": "6sJeTTII9NgI"
      },
      "source": [
        "8200/10124*100=80.99~81\n",
        ", accuracy is higher than 81...괜찮지 않을까...라는 생각을...\n",
        "learning rate=0.2--> 87%까지 나옴"
      ]
    },
    {
      "cell_type": "markdown",
      "metadata": {
        "id": "pCsoUmtFBAkP"
      },
      "source": [
        "#0제외한 1924데이터 분류"
      ]
    },
    {
      "cell_type": "code",
      "metadata": {
        "id": "vPKvA6ZkBHMK"
      },
      "source": [
        "y_1=y[(y['MRC_ID_DI']==1)]\n",
        "y_2=y[(y['MRC_ID_DI']==2)]\n",
        "y_3=y[(y['MRC_ID_DI']==3)]\n",
        "y_4=y[(y['MRC_ID_DI']==4)]\n",
        "y_5=y[(y['MRC_ID_DI']==5)]\n",
        "y_6=y[(y['MRC_ID_DI']==6)]\n",
        "y_7=y[(y['MRC_ID_DI']==7)]\n",
        "y_8=y[(y['MRC_ID_DI']==8)]\n",
        "y_9=y[(y['MRC_ID_DI']==9)]\n",
        "y_10=y[(y['MRC_ID_DI']==10)]\n",
        "\n",
        "x_1=x.loc[y_1.index.tolist()]\n",
        "x_2=x.loc[y_2.index.tolist()]\n",
        "x_3=x.loc[y_3.index.tolist()]\n",
        "x_4=x.loc[y_4.index.tolist()]\n",
        "x_5=x.loc[y_5.index.tolist()]\n",
        "x_6=x.loc[y_6.index.tolist()]\n",
        "x_7=x.loc[y_7.index.tolist()]\n",
        "x_8=x.loc[y_8.index.tolist()]\n",
        "x_9=x.loc[y_9.index.tolist()]\n",
        "x_10=x.loc[y_10.index.tolist()]"
      ],
      "execution_count": 61,
      "outputs": []
    },
    {
      "cell_type": "code",
      "metadata": {
        "id": "u04Woo40ItIC",
        "outputId": "bcbba4af-c7db-4e71-d8ff-e2f868eafad4",
        "colab": {
          "base_uri": "https://localhost:8080/"
        }
      },
      "source": [
        "y_nozero.value_counts()"
      ],
      "execution_count": 66,
      "outputs": [
        {
          "output_type": "execute_result",
          "data": {
            "text/plain": [
              "MRC_ID_DI\n",
              "7            661\n",
              "6            554\n",
              "8            337\n",
              "5            143\n",
              "1             85\n",
              "9             59\n",
              "3             32\n",
              "10            28\n",
              "2             14\n",
              "4             11\n",
              "dtype: int64"
            ]
          },
          "metadata": {
            "tags": []
          },
          "execution_count": 66
        }
      ]
    },
    {
      "cell_type": "markdown",
      "metadata": {
        "id": "1WxVLyieJmOr"
      },
      "source": [
        "5,6,7,8"
      ]
    },
    {
      "cell_type": "code",
      "metadata": {
        "id": "O2iGRo-kJJYL",
        "outputId": "4bee6846-c7cc-4c26-e459-2b18a39dd82d",
        "colab": {
          "base_uri": "https://localhost:8080/"
        }
      },
      "source": [
        "x_5678=x.loc[y_5.index.tolist()+y_6.index.tolist()+y_7.index.tolist()+y_8.index.tolist()]\n",
        "y_5678=y.loc[x_5678.index.tolist()]\n",
        "print(x_5678.shape)\n",
        "print(y_5678.shape)\n",
        "x_5678=x_5678.to_numpy()\n",
        "y_5678=y_5678.to_numpy()"
      ],
      "execution_count": 83,
      "outputs": [
        {
          "output_type": "stream",
          "text": [
            "(1695, 198)\n",
            "(1695, 1)\n"
          ],
          "name": "stdout"
        }
      ]
    },
    {
      "cell_type": "code",
      "metadata": {
        "id": "zG2CUZgZKiPN"
      },
      "source": [
        "x_5678train, x_5678test, y_5678train, y_5678test=x_5678[:1250], x_5678[1250:], y_5678[:1250], y_5678[1250:]\n",
        "shuffle_index=np.random.permutation(1250)\n",
        "x_5678train, y_5678train=x_5678train[shuffle_index], y_5678train[shuffle_index]"
      ],
      "execution_count": 84,
      "outputs": []
    },
    {
      "cell_type": "code",
      "metadata": {
        "id": "_89Po-hWL4n7"
      },
      "source": [
        "train_model1 = model1.fit(x_5678train, y_5678train)\n",
        "train_model2 = model2.fit(x_5678train, y_5678train)"
      ],
      "execution_count": 85,
      "outputs": []
    },
    {
      "cell_type": "code",
      "metadata": {
        "id": "Q9PcRbpbMEkh",
        "outputId": "1816c372-7767-4dc0-94e3-29ad5321ea96",
        "colab": {
          "base_uri": "https://localhost:8080/"
        }
      },
      "source": [
        "pred1 = train_model1.predict(x_5678test)\n",
        "pred2 = train_model2.predict(x_5678test)\n",
        "\n",
        "print('Model 1 XGboost Report %r' % (classification_report(y_5678test, pred1)))\n",
        "print('Model 2 XGboost Report %r' % (classification_report(y_5678test, pred2)))\n",
        "print(\"Accuracy for model 1: %.2f\" % (accuracy_score(y_5678test, pred1) * 100))\n",
        "print(\"Accuracy for model 2: %.2f\" % (accuracy_score(y_5678test, pred2) * 100))"
      ],
      "execution_count": 86,
      "outputs": [
        {
          "output_type": "stream",
          "text": [
            "Model 1 XGboost Report '              precision    recall  f1-score   support\\n\\n           5       0.00      0.00      0.00         0\\n           6       0.00      0.00      0.00         0\\n           7       0.45      0.71      0.55       108\\n           8       0.00      0.00      0.00       337\\n\\n    accuracy                           0.17       445\\n   macro avg       0.11      0.18      0.14       445\\nweighted avg       0.11      0.17      0.13       445\\n'\n",
            "Model 2 XGboost Report '              precision    recall  f1-score   support\\n\\n           5       0.00      0.00      0.00         0\\n           6       0.00      0.00      0.00         0\\n           7       0.42      0.72      0.53       108\\n           8       0.00      0.00      0.00       337\\n\\n    accuracy                           0.18       445\\n   macro avg       0.11      0.18      0.13       445\\nweighted avg       0.10      0.18      0.13       445\\n'\n",
            "Accuracy for model 1: 17.30\n",
            "Accuracy for model 2: 17.53\n"
          ],
          "name": "stdout"
        }
      ]
    },
    {
      "cell_type": "markdown",
      "metadata": {
        "id": "cnfKsaMeMZRp"
      },
      "source": [
        "이건 아니지이이이잉"
      ]
    },
    {
      "cell_type": "markdown",
      "metadata": {
        "id": "-BsSvsluMd_y"
      },
      "source": [
        "#678"
      ]
    },
    {
      "cell_type": "code",
      "metadata": {
        "id": "4Bu8zHhfMjxj",
        "outputId": "d57038a6-6e42-4c75-be48-cad9155a3a7e",
        "colab": {
          "base_uri": "https://localhost:8080/"
        }
      },
      "source": [
        "x_678=x.loc[y_6.index.tolist()+y_7.index.tolist()+y_8.index.tolist()]\n",
        "y_678=y.loc[x_678.index.tolist()]\n",
        "print(x_678.shape)\n",
        "print(y_678.shape)\n",
        "x_678=x_678.to_numpy()\n",
        "y_678=y_678.to_numpy()"
      ],
      "execution_count": 87,
      "outputs": [
        {
          "output_type": "stream",
          "text": [
            "(1552, 198)\n",
            "(1552, 1)\n"
          ],
          "name": "stdout"
        }
      ]
    },
    {
      "cell_type": "code",
      "metadata": {
        "id": "9gbDUnAsMv-e"
      },
      "source": [
        "x_678train, x_678test, y_678train, y_678test=x_678[:1230], x_678[1230:], y_678[:1230], y_678[1230:]\n",
        "#shuffle_index=np.random.permutation(1230)\n",
        "#x_678train, y_678train=x_678train[shuffle_index], y_678train[shuffle_index]"
      ],
      "execution_count": 93,
      "outputs": []
    },
    {
      "cell_type": "code",
      "metadata": {
        "id": "3D4pmaSUNP7f"
      },
      "source": [
        "train_model1 = model1.fit(x_678train, y_678train)\n",
        "train_model2 = model2.fit(x_678train, y_678train)"
      ],
      "execution_count": 94,
      "outputs": []
    },
    {
      "cell_type": "code",
      "metadata": {
        "id": "mRWHE4NANP2_",
        "outputId": "40358cbc-43b9-419d-9f9a-51504a744e92",
        "colab": {
          "base_uri": "https://localhost:8080/"
        }
      },
      "source": [
        "pred1 = train_model1.predict(x_678test)\n",
        "pred2 = train_model2.predict(x_678test)\n",
        "\n",
        "print('Model 1 XGboost Report %r' % (classification_report(y_678test, pred1)))\n",
        "print('Model 2 XGboost Report %r' % (classification_report(y_678test, pred2)))\n",
        "print(\"Accuracy for model 1: %.2f\" % (accuracy_score(y_678test, pred1) * 100))\n",
        "print(\"Accuracy for model 2: %.2f\" % (accuracy_score(y_678test, pred2) * 100))"
      ],
      "execution_count": 95,
      "outputs": [
        {
          "output_type": "stream",
          "text": [
            "Model 1 XGboost Report '              precision    recall  f1-score   support\\n\\n           6       0.00      0.00      0.00       0.0\\n           7       0.00      0.00      0.00       0.0\\n           8       0.00      0.00      0.00     322.0\\n\\n    accuracy                           0.00     322.0\\n   macro avg       0.00      0.00      0.00     322.0\\nweighted avg       0.00      0.00      0.00     322.0\\n'\n",
            "Model 2 XGboost Report '              precision    recall  f1-score   support\\n\\n           6       0.00      0.00      0.00       0.0\\n           7       0.00      0.00      0.00       0.0\\n           8       0.00      0.00      0.00     322.0\\n\\n    accuracy                           0.00     322.0\\n   macro avg       0.00      0.00      0.00     322.0\\nweighted avg       0.00      0.00      0.00     322.0\\n'\n",
            "Accuracy for model 1: 0.00\n",
            "Accuracy for model 2: 0.00\n"
          ],
          "name": "stdout"
        }
      ]
    },
    {
      "cell_type": "markdown",
      "metadata": {
        "id": "MLy1Oh-0NdNB"
      },
      "source": [
        "응...내가 병신인걸로..."
      ]
    }
  ]
}